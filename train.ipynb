{
 "cells": [
  {
   "cell_type": "code",
   "execution_count": 1,
   "metadata": {},
   "outputs": [
    {
     "name": "stderr",
     "output_type": "stream",
     "text": [
      "c:\\Users\\ammar\\AppData\\Local\\Programs\\Python\\Python39\\lib\\site-packages\\numpy\\_distributor_init.py:30: UserWarning: loaded more than 1 DLL from .libs:\n",
      "c:\\Users\\ammar\\AppData\\Local\\Programs\\Python\\Python39\\lib\\site-packages\\numpy\\.libs\\libopenblas.EL2C6PLE4ZYW3ECEVIV3OXXGRN2NRFM2.gfortran-win_amd64.dll\n",
      "c:\\Users\\ammar\\AppData\\Local\\Programs\\Python\\Python39\\lib\\site-packages\\numpy\\.libs\\libopenblas64__v0.3.21-gcc_10_3_0.dll\n",
      "  warnings.warn(\"loaded more than 1 DLL from .libs:\"\n"
     ]
    }
   ],
   "source": [
    "import torch\n",
    "import torch.nn as nn\n",
    "import torch.nn.functional as F\n",
    "import torch.optim as optim\n",
    "import matplotlib.pyplot as plt\n",
    "from torchvision import datasets, transforms"
   ]
  },
  {
   "cell_type": "code",
   "execution_count": 37,
   "metadata": {},
   "outputs": [
    {
     "data": {
      "text/plain": [
       "(3202, 178, 178)"
      ]
     },
     "execution_count": 37,
     "metadata": {},
     "output_type": "execute_result"
    }
   ],
   "source": [
    "from torchvision import datasets, transforms\n",
    "import matplotlib.pyplot as plt # for plotting\n",
    "import numpy as np\n",
    "import torch\n",
    "import math\n",
    "import os\n",
    "\n",
    "class_names = {\n",
    "    0: 'A',\n",
    "    1: 'B',\n",
    "    2: 'C',\n",
    "    3: 'D',\n",
    "    4: 'E',\n",
    "    5: 'F',\n",
    "    6: 'G',\n",
    "    7: 'H',\n",
    "    8: 'I'\n",
    "}\n",
    "\n",
    "transform = transforms.Compose([\n",
    "            # transforms.RandomHorizontalFlip(), # Flip the data horizontally\n",
    "            transforms.ToPILImage(),\n",
    "            transforms.Resize((128, 128)),\n",
    "            transforms.RandomAdjustSharpness(0.25),\n",
    "            transforms.RandomHorizontalFlip(0.5),\n",
    "            transforms.RandomVerticalFlip(0.5),\n",
    "            transforms.ToTensor(),\n",
    "            transforms.Normalize(mean=(0.5,0.5,0.5), std=(0.5,0.5,0.5))\n",
    "        ])\n",
    "\n",
    "# Load the data with all of the classes\n",
    "root = 'data/birds1/'\n",
    "data_dirs = os.listdir(root)\n",
    "data_dirs = np.array(data_dirs)\n",
    "data_dirs = data_dirs.flatten()\n",
    "\n",
    "roots = np.array([root] * len(data_dirs))\n",
    "data_dirs = np.core.defchararray.add(roots, data_dirs)\n",
    "\n",
    "# data_list = np.array(data.imgs)\n",
    "\n",
    "# Get the indices for the train/val/test split of 75/15/15\n",
    "train_split = math.floor(0.9 * len(data_dirs))\n",
    "val_split = math.ceil(0.05 * len(data_dirs))\n",
    "test_split = val_split\n",
    "\n",
    "# print(train_split + val_split + test_split, len(data_arr))\n",
    "\n",
    "# Make sure the splits are correct\n",
    "assert train_split + val_split + test_split == len(data_dirs)\n",
    "\n",
    "# Split the dataset randomely\n",
    "generator = torch.Generator().manual_seed(1)\n",
    "train, val, test = torch.utils.data.random_split(data_dirs, [train_split, val_split, test_split], generator=generator)\n",
    "\n",
    "len(train), len(val), len(test)\n"
   ]
  },
  {
   "cell_type": "code",
   "execution_count": 30,
   "metadata": {},
   "outputs": [
    {
     "data": {
      "text/plain": [
       "array(['data/birds1/frame_0124.jpg', 'data/birds1/frame_0125.jpg',\n",
       "       'data/birds1/frame_0126.jpg', ..., 'data/birds1/frame_6254.jpg',\n",
       "       'data/birds1/frame_6255.jpg', 'data/birds1/frame_6257.jpg'],\n",
       "      dtype='<U26')"
      ]
     },
     "execution_count": 30,
     "metadata": {},
     "output_type": "execute_result"
    }
   ],
   "source": [
    "data_dirs"
   ]
  },
  {
   "cell_type": "code",
   "execution_count": 4,
   "metadata": {},
   "outputs": [],
   "source": [
    "import cv2\n",
    "\n",
    "class GenData(torch.utils.data.Dataset):\n",
    "    '''\n",
    "        Data set class to store the feature maps\n",
    "    \n",
    "    '''\n",
    "\n",
    "    def __init__(self, in_data, transform=None):\n",
    "        # data = np.array(in_data)\n",
    "        self.input_dirs = in_data\n",
    "        # self.labels = data[:, 1]\n",
    "        self.labels = []\n",
    "        self.input_transform = transform[0]\n",
    "        self.transform = transform[1]\n",
    "        self.resize_transform = transforms.Compose([\n",
    "                                    transforms.ToPILImage(),\n",
    "                                    transforms.Resize(128)\n",
    "                                ])\n",
    "\n",
    "\n",
    "    def __len__(self):\n",
    "        return len(self.input_dirs)\n",
    "    \n",
    "    def __getitem__(self, idx):\n",
    "        input_dir = self.input_dirs[idx]\n",
    "\n",
    "        # Load the data\n",
    "        inputs = cv2.imread(input_dir)\n",
    "        inputs = cv2.cvtColor(inputs, cv2.COLOR_BGR2RGB)\n",
    "        # inputs = inputs.swapaxes(0, 2)\n",
    "\n",
    "        # labels = (int)(self.labels[idx])\n",
    "\n",
    "        if self.transform:\n",
    "            inputs = self.input_transform(inputs)\n",
    "            transformed = self.transform(inputs)\n",
    "\n",
    "            # labels = self.input_transform(labels)\n",
    "\n",
    "            return inputs, transformed, inputs\n",
    "        else:\n",
    "            return inputs, inputs, inputs"
   ]
  },
  {
   "cell_type": "code",
   "execution_count": 31,
   "metadata": {},
   "outputs": [],
   "source": [
    "# Create data loaders\n",
    "def get_data_loaders(batch_size=1):\n",
    "    \n",
    "    train_data = GenData(data_dirs[train.indices], transform=(transform, transform))\n",
    "    val_data = GenData(data_dirs[val.indices], transform=(transform, transform))\n",
    "    test_data = GenData(data_dirs[test.indices], transform=(transform, transform))\n",
    "\n",
    "    train_dataloader = torch.utils.data.DataLoader(train_data, batch_size=batch_size)\n",
    "    val_dataloader = torch.utils.data.DataLoader(val_data, batch_size=batch_size)\n",
    "    test_dataloader = torch.utils.data.DataLoader(test_data, batch_size=batch_size)\n",
    "\n",
    "    return train_dataloader, val_dataloader, test_dataloader\n",
    "\n"
   ]
  },
  {
   "cell_type": "code",
   "execution_count": 32,
   "metadata": {},
   "outputs": [
    {
     "data": {
      "image/png": "[encoded data removed]",
      "text/plain": [
       "<Figure size 432x288 with 1 Axes>"
      ]
     },
     "metadata": {
      "needs_background": "light"
     },
     "output_type": "display_data"
    }
   ],
   "source": [
    "'''Code to visualize the data in the training set'''\n",
    "\n",
    "import torchvision\n",
    "\n",
    "\n",
    "def imshow(inp, title=None):\n",
    "    \"\"\"Display image for Tensor.\"\"\"\n",
    "    inp = inp.numpy().transpose((1, 2, 0))\n",
    "    mean = np.array([0.5, 0.5, 0.5])\n",
    "    std = np.array([0.5, 0.5, 0.5])\n",
    "    inp = std * inp + mean\n",
    "    inp = np.clip(inp, 0, 1)\n",
    "    plt.imshow(inp)\n",
    "    if title is not None:\n",
    "        plt.title(title)\n",
    "    plt.pause(0.001)  # pause a bit so that plots are updated\n",
    "# Get a batch of training data\n",
    "train_dataloader, _, _ = get_data_loaders(8)\n",
    "inputs, _, _ = next(iter(train_dataloader))\n",
    "\n",
    "# Make a grid from batch\n",
    "out = torchvision.utils.make_grid(inputs)\n",
    "# imshow(out, title=[class_names[x.item()] for x in classes])\n",
    "imshow(out)"
   ]
  },
  {
   "cell_type": "code",
   "execution_count": 7,
   "metadata": {},
   "outputs": [],
   "source": [
    "import torch.nn as nn\n",
    "import torch.nn.functional as F\n",
    "import torch.optim as optim\n",
    "\n",
    "\n",
    "\n",
    "class VAENet(nn.Module):\n",
    "    def __init__(self, name=\"BirdNet\", transfer_model=None, transfer_ftrs=64):\n",
    "        super(VAENet, self).__init__()\n",
    "\n",
    "        self.name = name\n",
    "        self.transfer_model = transfer_model\n",
    "        self.transfer_ftrs = transfer_ftrs\n",
    "\n",
    "        self.latent_dim = 100\n",
    "\n",
    "        self.front = nn.Sequential(\n",
    "            nn.Conv2d(in_channels=3, out_channels=96, kernel_size=11, stride=3), # 224 --> 72 = (224 + 0 - 11)/3 + 1\n",
    "            nn.MaxPool2d(kernel_size=3, stride=3), # 72 --> 24 = (72 + 0 - 3)/3 + 1\n",
    "            nn.ReLU(),\n",
    "            nn.BatchNorm2d(96),\n",
    "\n",
    "            nn.Conv2d(in_channels=96, out_channels=256, kernel_size=3, padding=1, stride=1), # 24 --> 24 = (24 + 2 - 3)/1 + 1\n",
    "            nn.MaxPool2d(kernel_size=4, stride=2), # 24 --> 11 (24 + 6 - 3)/3 + 1\n",
    "            nn.ReLU(),\n",
    "            nn.BatchNorm2d(256),\n",
    "\n",
    "            nn.Conv2d(in_channels=256, out_channels=384, kernel_size=3, padding=1, stride=1), # 11 --> 11 = (11 + 2 - 3)/1 + 1\n",
    "            nn.ReLU(),\n",
    "            nn.BatchNorm2d(384),\n",
    "\n",
    "            # nn.Conv2d(in_channels=384, out_channels=384, kernel_size=3, padding=1, stride=1), # 11 --> 11 = (11 + 2 - 3)/1 + 1\n",
    "            # nn.ReLU(),\n",
    "            # nn.BatchNorm2d(384),\n",
    "\n",
    "            nn.Conv2d(in_channels=384, out_channels=256, kernel_size=3, padding=1), # 11 --> 11 = (10 + 2 - 3)/1 + 1\n",
    "            nn.MaxPool2d(kernel_size=3, stride=2), # 11 --> 5 = (11 + 0 - 3)/2 + 1\n",
    "            nn.ReLU(),\n",
    "            nn.BatchNorm2d(256),\n",
    "\n",
    "        )\n",
    "\n",
    "        self.muFC = nn.Linear(5 * 5 * 256, self.latent_dim)\n",
    "        self.logvarFC = nn.Linear(5 * 5 * 256, self.latent_dim)\n",
    "\n",
    "        self.transfer_muFC = nn.Linear(self.transfer_ftrs, self.latent_dim)\n",
    "        self.transfer_logvarFC = nn.Linear(self.transfer_ftrs, self.latent_dim)\n",
    "\n",
    "        self.latentFC = nn.Linear(self.latent_dim, 5 * 5 * 256)\n",
    "\n",
    "        self.back = nn.Sequential(\n",
    "            nn.ConvTranspose2d(in_channels=256, out_channels=384, kernel_size=3, stride=2, padding=0, output_padding=0), # 5 -> 11\n",
    "            nn.ReLU(),\n",
    "            nn.BatchNorm2d(384),\n",
    "\n",
    "            nn.ConvTranspose2d(in_channels=384, out_channels=256, kernel_size=3, padding=0, stride=2, output_padding=1), # 11 -> 24\n",
    "            nn.ReLU(),\n",
    "            nn.BatchNorm2d(256),\n",
    "\n",
    "            nn.ConvTranspose2d(in_channels=256, out_channels=96, kernel_size=3, padding=0, stride=3, output_padding=0), # 24 -> 72\n",
    "            nn.ReLU(),\n",
    "            nn.BatchNorm2d(96),\n",
    "\n",
    "            nn.ConvTranspose2d(in_channels=96, out_channels=3, kernel_size=11, padding=0, stride=3, output_padding=0), # 72 -> 224\n",
    "            # nn.ReLU()\n",
    "        )\n",
    "\n",
    "    def encoder(self, x):\n",
    "\n",
    "        mu, logvar = None, None\n",
    "\n",
    "        if not self.transfer_model:\n",
    "            x = self.front(x)\n",
    "            x = x.view(-1, 5 * 5 * 256)\n",
    "\n",
    "            mu = self.muFC(x)\n",
    "            logvar = self.logvarFC(x)\n",
    "\n",
    "        else:\n",
    "            x = self.transfer_model(x)\n",
    "            x = x.view(-1, self.transfer_ftrs)\n",
    "\n",
    "            mu = self.transfer_muFC(x)\n",
    "            logvar = self.transfer_logvarFC(x)\n",
    "\n",
    "        return mu, logvar\n",
    "    \n",
    "    def reparameterize(self, mu, logvar):\n",
    "        std = logvar.mul(0.5).exp_()\n",
    "        eps = std.data.new(std.size()).normal_()\n",
    "        return eps.mul(std).add_(mu)\n",
    "    \n",
    "    def decoder (self, x):\n",
    "        x = self.latentFC(x)\n",
    "        x = x.view(-1, 256, 5, 5)\n",
    "\n",
    "        x = self.back(x)\n",
    "        x = F.softmax(x, 0)\n",
    "\n",
    "        return x\n",
    "\n",
    "    def forward(self, x):\n",
    "        # x = self.forward_pass(x)\n",
    "        # x = x.squeeze(1)\n",
    "        # x = F.softmax(x, dim=1)\n",
    "\n",
    "        mu, logvar = self.encoder(x)\n",
    "        z = self.reparameterize(mu, logvar)\n",
    "        y = self.decoder(z)\n",
    "        \n",
    "        return y, z, mu, logvar"
   ]
  },
  {
   "cell_type": "code",
   "execution_count": 8,
   "metadata": {},
   "outputs": [],
   "source": [
    "import torch.nn as nn\n",
    "import torch.nn.functional as F\n",
    "import torch.optim as optim\n",
    "\n",
    "\n",
    "\n",
    "class VAENetSmall(nn.Module):\n",
    "    def __init__(self, name=\"BirdNet\", transfer_model=None, transfer_ftrs=64):\n",
    "        super(VAENetSmall, self).__init__()\n",
    "\n",
    "        self.name = name\n",
    "        self.transfer_model = transfer_model\n",
    "        self.transfer_ftrs = transfer_ftrs\n",
    "\n",
    "        self.latent_dim = 256\n",
    "\n",
    "        self.front = nn.Sequential(\n",
    "            nn.Conv2d(in_channels=3, out_channels=36, kernel_size=11, stride=3), # 224 --> 40 = (128 + 0 - 11)/3 + 1\n",
    "            # nn.MaxPool2d(kernel_size=3, stride=3), # 72 --> 24 = (72 + 0 - 3)/3 + 1\n",
    "            nn.ReLU(),\n",
    "            nn.BatchNorm2d(36),\n",
    "            nn.Dropout(0.5),\n",
    "\n",
    "            nn.Conv2d(in_channels=36, out_channels=64, kernel_size=3, padding=1, stride=2), # 40 --> 20 = (40 + 2 - 3)/2 + 1\n",
    "            # nn.MaxPool2d(kernel_size=4, stride=2), # 24 --> 11 (24 + 6 - 3)/3 + 1\n",
    "            nn.ReLU(),\n",
    "            nn.BatchNorm2d(64),\n",
    "            nn.Dropout(0.5),\n",
    "\n",
    "            nn.Conv2d(in_channels=64, out_channels=128, kernel_size=3, padding=1, stride=2), # 20 --> 10 = (20 + 2 - 3)/2 + 1\n",
    "            nn.ReLU(),\n",
    "            nn.BatchNorm2d(128),\n",
    "            nn.Dropout(0.5),\n",
    "\n",
    "            # nn.Conv2d(in_channels=384, out_channels=384, kernel_size=3, padding=1, stride=1), # 11 --> 11 = (11 + 2 - 3)/1 + 1\n",
    "            # nn.ReLU(),\n",
    "            # nn.BatchNorm2d(384),\n",
    "\n",
    "            nn.Conv2d(in_channels=128, out_channels=64, kernel_size=3, padding=1, stride=2), # 10 --> 5 = (10 + 2 - 3)/1 + 1\n",
    "            # nn.MaxPool2d(kernel_size=3, stride=2), # 11 --> 5 = (11 + 0 - 3)/2 + 1\n",
    "            nn.ReLU(),\n",
    "            nn.BatchNorm2d(64),\n",
    "\n",
    "        )\n",
    "\n",
    "        self.muFC = nn.Linear(5 * 5 * 64, self.latent_dim)\n",
    "        self.logvarFC = nn.Linear(5 * 5 * 64, self.latent_dim)\n",
    "\n",
    "        self.transfer_muFC = nn.Linear(self.transfer_ftrs, self.latent_dim)\n",
    "        self.transfer_logvarFC = nn.Linear(self.transfer_ftrs, self.latent_dim)\n",
    "\n",
    "        self.latentFC = nn.Linear(self.latent_dim, 5 * 5 * 64)\n",
    "\n",
    "        self.back = nn.Sequential(\n",
    "            #nn.ConvTranspose2d(in_channels=64, out_channels=128, kernel_size=3, stride=2, padding=0, output_padding=0), # 5 -> 11\n",
    "            nn.ConvTranspose2d(in_channels=64, out_channels=128, kernel_size=3, stride=2, padding=1, output_padding=1), # 5 -> 10\n",
    "            nn.ReLU(),\n",
    "            nn.BatchNorm2d(128),\n",
    "            nn.Dropout(0.5),\n",
    "\n",
    "            nn.ConvTranspose2d(in_channels=128, out_channels=64, kernel_size=3, padding=1, stride=2, output_padding=1), # 10 -> 20\n",
    "            nn.ReLU(),\n",
    "            nn.BatchNorm2d(64),\n",
    "            nn.Dropout(0.5),\n",
    "\n",
    "            nn.ConvTranspose2d(in_channels=64, out_channels=32, kernel_size=3, padding=1, stride=2, output_padding=1), # 20 -> 40\n",
    "            nn.ReLU(),\n",
    "            nn.BatchNorm2d(32),\n",
    "            nn.Dropout(0.5),\n",
    "\n",
    "            nn.ConvTranspose2d(in_channels=32, out_channels=3, kernel_size=11, padding=0, stride=3, output_padding=0), # 40 -> 128\n",
    "            # nn.ReLU()\n",
    "        )\n",
    "\n",
    "    def encoder(self, x):\n",
    "\n",
    "        mu, logvar = None, None\n",
    "\n",
    "        if not self.transfer_model:\n",
    "            x = self.front(x)\n",
    "            x = x.view(-1, 5 * 5 * 64)\n",
    "\n",
    "            mu = self.muFC(x)\n",
    "            logvar = self.logvarFC(x)\n",
    "\n",
    "        else:\n",
    "            x = self.transfer_model(x)\n",
    "            x = x.view(-1, self.transfer_ftrs)\n",
    "\n",
    "            mu = self.transfer_muFC(x)\n",
    "            logvar = self.transfer_logvarFC(x)\n",
    "\n",
    "        return mu, logvar\n",
    "    \n",
    "    def reparameterize(self, mu, logvar):\n",
    "        std = logvar.mul(0.5).exp_()\n",
    "        eps = std.data.new(std.size()).normal_()\n",
    "        return eps.mul(std).add_(mu)\n",
    "    \n",
    "    def decoder (self, x):\n",
    "        x = self.latentFC(x)\n",
    "        x = x.view(-1, 64, 5, 5)\n",
    "\n",
    "        x = self.back(x)\n",
    "        x = F.softmax(x)\n",
    "\n",
    "        return x\n",
    "\n",
    "    def forward(self, x):\n",
    "        # x = self.forward_pass(x)\n",
    "        # x = x.squeeze(1)\n",
    "        # x = F.softmax(x, dim=1)\n",
    "\n",
    "        mu, logvar = self.encoder(x)\n",
    "        z = self.reparameterize(mu, logvar)\n",
    "        y = self.decoder(z)\n",
    "        \n",
    "        return y, z, mu, logvar"
   ]
  },
  {
   "cell_type": "code",
   "execution_count": 137,
   "metadata": {},
   "outputs": [
    {
     "name": "stdout",
     "output_type": "stream",
     "text": [
      "----------------------------------------------------------------\n",
      "        Layer (type)               Output Shape         Param #\n",
      "================================================================\n",
      "            Conv2d-1           [-1, 36, 40, 40]          13,104\n",
      "              ReLU-2           [-1, 36, 40, 40]               0\n",
      "       BatchNorm2d-3           [-1, 36, 40, 40]              72\n",
      "           Dropout-4           [-1, 36, 40, 40]               0\n",
      "            Conv2d-5           [-1, 64, 20, 20]          20,800\n",
      "              ReLU-6           [-1, 64, 20, 20]               0\n",
      "       BatchNorm2d-7           [-1, 64, 20, 20]             128\n",
      "           Dropout-8           [-1, 64, 20, 20]               0\n",
      "            Conv2d-9          [-1, 128, 10, 10]          73,856\n",
      "             ReLU-10          [-1, 128, 10, 10]               0\n",
      "      BatchNorm2d-11          [-1, 128, 10, 10]             256\n",
      "          Dropout-12          [-1, 128, 10, 10]               0\n",
      "           Conv2d-13             [-1, 64, 5, 5]          73,792\n",
      "             ReLU-14             [-1, 64, 5, 5]               0\n",
      "      BatchNorm2d-15             [-1, 64, 5, 5]             128\n",
      "           Linear-16                  [-1, 256]         409,856\n",
      "           Linear-17                  [-1, 256]         409,856\n",
      "           Linear-18                 [-1, 1600]         411,200\n",
      "  ConvTranspose2d-19          [-1, 128, 10, 10]          73,856\n",
      "             ReLU-20          [-1, 128, 10, 10]               0\n",
      "      BatchNorm2d-21          [-1, 128, 10, 10]             256\n",
      "          Dropout-22          [-1, 128, 10, 10]               0\n",
      "  ConvTranspose2d-23           [-1, 64, 20, 20]          73,792\n",
      "             ReLU-24           [-1, 64, 20, 20]               0\n",
      "      BatchNorm2d-25           [-1, 64, 20, 20]             128\n",
      "          Dropout-26           [-1, 64, 20, 20]               0\n",
      "  ConvTranspose2d-27           [-1, 32, 40, 40]          18,464\n",
      "             ReLU-28           [-1, 32, 40, 40]               0\n",
      "      BatchNorm2d-29           [-1, 32, 40, 40]              64\n",
      "          Dropout-30           [-1, 32, 40, 40]               0\n",
      "  ConvTranspose2d-31          [-1, 3, 128, 128]          11,619\n",
      "================================================================\n",
      "Total params: 1,591,227\n",
      "Trainable params: 1,591,227\n",
      "Non-trainable params: 0\n",
      "----------------------------------------------------------------\n",
      "Input size (MB): 0.19\n",
      "Forward/backward pass size (MB): 6.09\n",
      "Params size (MB): 6.07\n",
      "Estimated Total Size (MB): 12.35\n",
      "----------------------------------------------------------------\n"
     ]
    },
    {
     "name": "stderr",
     "output_type": "stream",
     "text": [
      "C:\\Users\\ammar\\AppData\\Local\\Temp\\ipykernel_25564\\2234998305.py:105: UserWarning: Implicit dimension choice for softmax has been deprecated. Change the call to include dim=X as an argument.\n",
      "  x = F.softmax(x)\n"
     ]
    }
   ],
   "source": [
    "from torchsummary import summary\n",
    "\n",
    "model = VAENetSmall()\n",
    "model.to('cuda:0')\n",
    "\n",
    "summary(model, (3, 128, 128))"
   ]
  },
  {
   "cell_type": "code",
   "execution_count": 9,
   "metadata": {},
   "outputs": [],
   "source": [
    "'''\n",
    "Loss function\n",
    "'''\n",
    "\n",
    "def vaekl_loss(recon_x, x, mu, logvar, batch_size):\n",
    "    kld = -0.5 * torch.sum(1 + logvar - mu.pow(2) - logvar.exp())\n",
    "    kld /= batch_size * 3 * 128 * 128\n",
    "    return kld"
   ]
  },
  {
   "cell_type": "code",
   "execution_count": 10,
   "metadata": {},
   "outputs": [],
   "source": [
    "'''\n",
    "Helper functions (based off of previous labs)\n",
    "'''\n",
    "\n",
    "def calculate_error(inputs, target):\n",
    "    difference = torch.abs(target - inputs)\n",
    "    mean_error = torch.mean(difference, dim=-1) # mean along width\n",
    "    mean_error = torch.mean(mean_error, dim=-1) # mean along height\n",
    "    mean_error = torch.mean(mean_error, dim=-1) # mean along channel\n",
    "\n",
    "    # print(difference.size())\n",
    "    # print(mean_error.size())\n",
    "    # print(mean_error)\n",
    "\n",
    "    return mean_error.sum()  \n",
    "\n",
    "\n",
    "def evaluate(model, loader, criterion, cuda=False, batch_size=64, alex=False):\n",
    "    '''\n",
    "    Function to evaluate the model's performance on a val/test set\n",
    "    '''\n",
    "\n",
    "\n",
    "    total_loss = 0.0\n",
    "    total_err = 0.0\n",
    "    total_epoch = 0\n",
    "    for i, data in enumerate(loader, 0):\n",
    "        inputs, transformed, labels = data\n",
    "\n",
    "        ########## SENDING TO CUDA ############\n",
    "        if cuda:\n",
    "            inputs = inputs.to('cuda:0')\n",
    "            transformed = transformed.to('cuda:0')\n",
    "            \n",
    "        \n",
    "\n",
    "        outputs, latent_vector, mu, logvar = model(transformed)\n",
    "\n",
    "        if alex:\n",
    "            labels = labels.squeeze(1)\n",
    "\n",
    "        # loss = 200 * criterion(outputs, inputs.float()) + 200 * vaekl_loss(outputs, inputs, mu, logvar, batch_size)\n",
    "        loss =  model.loss_function(outputs, inputs, mu, logvar, M_N=10)['loss']\n",
    "\n",
    "\n",
    "        # Find the mean error over the image\n",
    "        output_err = calculate_error(outputs, inputs) \n",
    "\n",
    "        total_err += output_err\n",
    "        total_loss += loss.item()\n",
    "        total_epoch += len(labels)\n",
    "    err = float(total_err) / total_epoch\n",
    "    loss = float(total_loss) / (i + 1)\n",
    "    return err, loss\n",
    "\n",
    "\n",
    "def get_model_name(name, batch_size, learning_rate, momentum, epoch):\n",
    "    \"\"\" Generate a name for the model consisting of all the hyperparameter values\n",
    "\n",
    "    Args:\n",
    "        config: Configuration object containing the hyperparameters\n",
    "    Returns:\n",
    "        path: A string with the hyperparameter name and value concatenated\n",
    "    \"\"\"\n",
    "    path = \"model_{0}_bs{1}_lr{2}_m{3}_epoch{4}\".format(name,\n",
    "                                                   batch_size,\n",
    "                                                   learning_rate,\n",
    "                                                   momentum,\n",
    "                                                   epoch)\n",
    "    return path\n",
    "\n",
    "\n",
    "# Training Curve\n",
    "def plot_training_curve(path):\n",
    "    \"\"\" Plots the training curve for a model run, given the csv files\n",
    "    containing the train/validation error/loss.\n",
    "\n",
    "    Args:\n",
    "        path: The base path of the csv files produced during training\n",
    "    \"\"\"\n",
    "    import matplotlib.pyplot as plt\n",
    "    train_err = np.loadtxt(\"{}_train_err.csv\".format(path))\n",
    "    val_err = np.loadtxt(\"{}_val_err.csv\".format(path))\n",
    "    train_loss = np.loadtxt(\"{}_train_loss.csv\".format(path))\n",
    "    val_loss = np.loadtxt(\"{}_val_loss.csv\".format(path))\n",
    "    plt.title(\"Train vs Validation Error\")\n",
    "    n = len(train_err) # number of epochs\n",
    "    plt.plot(range(1,n+1), train_err, label=\"Train\")\n",
    "    plt.plot(range(1,n+1), val_err, label=\"Validation\")\n",
    "    plt.xlabel(\"Epoch\")\n",
    "    plt.ylabel(\"Error\")\n",
    "    plt.legend(loc='best')\n",
    "    plt.show()\n",
    "    plt.title(\"Train vs Validation Loss\")\n",
    "    plt.plot(range(1,n+1), train_loss, label=\"Train\")\n",
    "    plt.plot(range(1,n+1), val_loss, label=\"Validation\")\n",
    "    plt.xlabel(\"Epoch\")\n",
    "    plt.ylabel(\"Loss\")\n",
    "    plt.legend(loc='best')\n",
    "    plt.show()\n"
   ]
  },
  {
   "cell_type": "code",
   "execution_count": 11,
   "metadata": {},
   "outputs": [],
   "source": [
    "'''\n",
    "Train Loop\n",
    "'''\n",
    "\n",
    "import tqdm\n",
    "import time\n",
    "from torch.optim import lr_scheduler\n",
    "\n",
    "OUTPUT_DIR = 'runs/'\n",
    "\n",
    "def train_network(model, batch_size=32, lr=0.005, momentum=0.9, num_epochs=30, cuda=True, loader=None, alex=False, sheduler=False):\n",
    "\n",
    "    # Set manual seed for reproducible results\n",
    "    torch.manual_seed(1)\n",
    "\n",
    "    # Get the dataloaders with respective batch size\n",
    "    train_dl, val_dl, _ = get_data_loaders(batch_size=batch_size)\n",
    "\n",
    "    # Criterion and optimizer\n",
    "    criterion = nn.MSELoss()\n",
    "    # optimizer =  optim.SGD(model.parameters(), lr=lr, momentum=momentum)\n",
    "    optimizer =  optim.Adam(model.parameters(), lr=lr, weight_decay=1e-3)\n",
    "\n",
    "    if sheduler:\n",
    "        exp_lr_scheduler = lr_scheduler.StepLR(optimizer, step_size=20, gamma=0.1)\n",
    "\n",
    "\n",
    "\n",
    "    # Training metrics\n",
    "    train_err = np.zeros(num_epochs)\n",
    "    train_loss = np.zeros(num_epochs)\n",
    "    val_err = np.zeros(num_epochs)\n",
    "    val_loss = np.zeros(num_epochs)\n",
    "\n",
    "    best_train_err = 1000\n",
    "    best_val_err = 1000\n",
    "\n",
    "    ########## SENDING TO CUDA ############\n",
    "    if cuda:\n",
    "        model = model.to('cuda:0')\n",
    "\n",
    "    start_time = time.time()\n",
    "    model.train()\n",
    "\n",
    "    # Train loop\n",
    "    for epoch in tqdm.tqdm(range(num_epochs)):\n",
    "        total_train_loss = 0.0\n",
    "        total_train_err = 0.0\n",
    "        total_epoch = 0\n",
    "\n",
    "        for i, data in enumerate(train_dl if not loader else loader):\n",
    "\n",
    "            inputs, transformed, labels = data\n",
    "\n",
    "\n",
    "            ########## SENDING TO CUDA ############\n",
    "            if cuda:\n",
    "                inputs = inputs.to('cuda:0')\n",
    "                transformed = transformed.to('cuda:0')\n",
    "\n",
    "            # Zero the parameter gradients\n",
    "            optimizer.zero_grad()\n",
    "            # Forward pass, backward pass, and optimize\n",
    "            outputs, latent_vector, mu, logvar = model(transformed)\n",
    "\n",
    "            if alex:\n",
    "                labels = labels.squeeze(1)\n",
    "\n",
    "            # loss = 200 * criterion(outputs, inputs.float()) + 200 * vaekl_loss(outputs, inputs, mu, logvar, batch_size)\n",
    "            loss =  model.loss_function(outputs, inputs, mu, logvar, M_N=10)['loss']\n",
    "            loss.backward()\n",
    "            optimizer.step()\n",
    "\n",
    "            # Find the mean error over the image\n",
    "            output_err = calculate_error(outputs, inputs)\n",
    "\n",
    "            total_train_err += output_err\n",
    "            total_train_loss += loss.item()\n",
    "            total_epoch += len(labels)\n",
    "\n",
    "        if sheduler:\n",
    "            exp_lr_scheduler.step()\n",
    "\n",
    "        train_err[epoch] = float(total_train_err) / (total_epoch)\n",
    "        train_loss[epoch] = float(total_train_loss) / (i + 1)\n",
    "        val_err[epoch], val_loss[epoch] = evaluate(model, val_dl if not loader else loader, criterion, cuda, batch_size, alex)\n",
    "\n",
    "        tqdm.tqdm.write(f'Epoch {epoch}: Train err: {train_err[epoch]}, Train loss: {train_loss[epoch]} | Validation err: {val_err[epoch]}, Validation loss: {val_loss[epoch]}')\n",
    "\n",
    "        # Check whether a better train/val err has been found\n",
    "        better = False\n",
    "        if train_err[epoch] < best_train_err:\n",
    "            best_train_err = train_err[epoch]\n",
    "            better = True\n",
    "        if val_err[epoch] < best_val_err:\n",
    "            best_val_err = val_err[epoch]\n",
    "            better = True\n",
    "\n",
    "        if better or epoch == (num_epochs - 1):\n",
    "            model_path = OUTPUT_DIR + get_model_name(model.name, batch_size, lr, momentum, epoch)\n",
    "\n",
    "            torch.save(model.state_dict(), model_path)\n",
    "\n",
    "    print('Finished Training')\n",
    "    end_time = time.time()\n",
    "    elapsed_time = end_time - start_time\n",
    "    print(\"Total time elapsed: {:.2f} seconds\".format(elapsed_time))\n",
    "    # Write the train/test loss/err into CSV file for plotting later\n",
    "    epochs = np.arange(1, num_epochs + 1)\n",
    "    np.savetxt(\"{}_train_err.csv\".format(model_path), train_err)\n",
    "    np.savetxt(\"{}_train_loss.csv\".format(model_path), train_loss)\n",
    "    np.savetxt(\"{}_val_err.csv\".format(model_path), val_err)\n",
    "    np.savetxt(\"{}_val_loss.csv\".format(model_path), val_loss)\n",
    "\n"
   ]
  },
  {
   "cell_type": "code",
   "execution_count": 12,
   "metadata": {},
   "outputs": [
    {
     "name": "stdout",
     "output_type": "stream",
     "text": [
      "62\n"
     ]
    }
   ],
   "source": [
    "from torchvision import models\n",
    "\n",
    "\n",
    "model_ft = models.resnet18(pretrained=True) # IMAGENET1K_V1\n",
    "model_ft.name = 'resent_small'\n",
    "count = 0\n",
    "for param in model_ft.parameters():\n",
    "    # if count > 30:\n",
    "    #     break\n",
    "    param.requires_grad = False\n",
    "    count += 1\n",
    "\n",
    "print(count)\n",
    "num_ftrs = model_ft.fc.in_features"
   ]
  },
  {
   "cell_type": "code",
   "execution_count": 21,
   "metadata": {},
   "outputs": [],
   "source": [
    "from typing import List, Callable, Union, Any, TypeVar, Tuple\n",
    "# from torch import tensor as Tensor\n",
    "\n",
    "Tensor = TypeVar('torch.tensor')\n",
    "\n",
    "from torch import nn\n",
    "from abc import abstractmethod\n",
    "\n",
    "class BaseVAE(nn.Module):\n",
    "    \n",
    "    def __init__(self) -> None:\n",
    "        super(BaseVAE, self).__init__()\n",
    "\n",
    "    def encode(self, input: Tensor) -> List[Tensor]:\n",
    "        raise NotImplementedError\n",
    "\n",
    "    def decode(self, input: Tensor) -> Any:\n",
    "        raise NotImplementedError\n",
    "\n",
    "    def sample(self, batch_size:int, current_device: int, **kwargs) -> Tensor:\n",
    "        raise NotImplementedError\n",
    "\n",
    "    def generate(self, x: Tensor, **kwargs) -> Tensor:\n",
    "        raise NotImplementedError\n",
    "\n",
    "    @abstractmethod\n",
    "    def forward(self, *inputs: Tensor) -> Tensor:\n",
    "        pass\n",
    "\n",
    "    @abstractmethod\n",
    "    def loss_function(self, *inputs: Any, **kwargs) -> Tensor:\n",
    "        pass\n",
    "\n",
    "import torch\n",
    "# from models import BaseVAE\n",
    "from torch import nn\n",
    "from torch.nn import functional as F\n",
    "# from .types_ import *\n",
    "\n",
    "\n",
    "class VanillaVAE(BaseVAE):\n",
    "\n",
    "\n",
    "    def __init__(self,\n",
    "                 in_channels: int,\n",
    "                 latent_dim: int,\n",
    "                 hidden_dims: List = None,\n",
    "                 **kwargs) -> None:\n",
    "        super(VanillaVAE, self).__init__()\n",
    "\n",
    "        self.latent_dim = latent_dim\n",
    "\n",
    "        self.encoder_modules = []\n",
    "        if hidden_dims is None:\n",
    "            hidden_dims = [32, 64, 128, 256, 512]\n",
    "\n",
    "        # Build Encoder\n",
    "        for h_dim in hidden_dims:\n",
    "            self.encoder_modules.append(\n",
    "                nn.Sequential(\n",
    "                    nn.Conv2d(in_channels, out_channels=h_dim,\n",
    "                              kernel_size= 3, stride= 2, padding  = 1),\n",
    "                    nn.BatchNorm2d(h_dim),\n",
    "                    nn.LeakyReLU(),\n",
    "                    nn.Dropout(0.3))\n",
    "            )\n",
    "            in_channels = h_dim\n",
    "\n",
    "        self.encoder = nn.Sequential(*self.encoder_modules)\n",
    "        self.fc_mu = nn.Linear(hidden_dims[-1]*16, latent_dim)\n",
    "        self.fc_var = nn.Linear(hidden_dims[-1]*16, latent_dim)\n",
    "\n",
    "\n",
    "        # Build Decoder\n",
    "        self.decoder_modules = []\n",
    "\n",
    "        self.decoder_input = nn.Linear(latent_dim, hidden_dims[-1] * 16)\n",
    "\n",
    "        hidden_dims.reverse()\n",
    "\n",
    "        for i in range(len(hidden_dims) - 1):\n",
    "            self.decoder_modules.append(\n",
    "                nn.Sequential(\n",
    "                    nn.ConvTranspose2d(hidden_dims[i],\n",
    "                                       hidden_dims[i + 1],\n",
    "                                       kernel_size=3,\n",
    "                                       stride = 2,\n",
    "                                       padding=1,\n",
    "                                       output_padding=1),\n",
    "                    nn.BatchNorm2d(hidden_dims[i + 1]),\n",
    "                    nn.LeakyReLU(),\n",
    "                    nn.Dropout(0.3))\n",
    "            )\n",
    "\n",
    "\n",
    "\n",
    "        self.decoder = nn.Sequential(*self.decoder_modules)\n",
    "\n",
    "        self.final_layer = nn.Sequential(\n",
    "                            nn.ConvTranspose2d(hidden_dims[-1],\n",
    "                                               hidden_dims[-1],\n",
    "                                               kernel_size=3,\n",
    "                                               stride=2,\n",
    "                                               padding=1,\n",
    "                                               output_padding=1),\n",
    "                            nn.BatchNorm2d(hidden_dims[-1]),\n",
    "                            nn.LeakyReLU(),\n",
    "                            nn.Conv2d(hidden_dims[-1], out_channels= 3,\n",
    "                                      kernel_size= 3, padding= 1),\n",
    "                            nn.Sigmoid())\n",
    "\n",
    "    def encode(self, input: Tensor) -> List[Tensor]:\n",
    "        \"\"\"\n",
    "        Encodes the input by passing through the encoder network\n",
    "        and returns the latent codes.\n",
    "        :param input: (Tensor) Input tensor to encoder [N x C x H x W]\n",
    "        :return: (Tensor) List of latent codes\n",
    "        \"\"\"\n",
    "        result = self.encoder(input)\n",
    "        result = torch.flatten(result, start_dim=1)\n",
    "\n",
    "        # Split the result into mu and var components\n",
    "        # of the latent Gaussian distribution\n",
    "        mu = self.fc_mu(result)\n",
    "        log_var = self.fc_var(result)\n",
    "\n",
    "        return [mu, log_var]\n",
    "\n",
    "    def decode(self, z: Tensor) -> Tensor:\n",
    "        \"\"\"\n",
    "        Maps the given latent codes\n",
    "        onto the image space.\n",
    "        :param z: (Tensor) [B x D]\n",
    "        :return: (Tensor) [B x C x H x W]\n",
    "        \"\"\"\n",
    "        result = self.decoder_input(z)\n",
    "        result = result.view(-1, 256, 4, 4)\n",
    "        result = self.decoder(result)\n",
    "        result = self.final_layer(result)\n",
    "        return result\n",
    "    \n",
    "    def autoencoder(self, x) -> Tensor:\n",
    "        # x = self.encoder(x) # x is (B, 512, 4, 4)\n",
    "        # x = self.decoder(x)\n",
    "\n",
    "        skip_connections = []\n",
    "\n",
    "        for module in self.encoder_modules:\n",
    "            x = module(x)\n",
    "            skip_connections.append(x)\n",
    "\n",
    "        # for connection in skip_connections:\n",
    "        #     print(connection.size())\n",
    "\n",
    "        skip_connections.reverse()\n",
    "        count = 1\n",
    "\n",
    "        for module in self.decoder_modules:\n",
    "            x = module(x) + 0.01 * skip_connections[count]\n",
    "            count+= 1\n",
    "\n",
    "\n",
    "        x = self.final_layer(x)\n",
    "\n",
    "        return x\n",
    "\n",
    "\n",
    "    def reparameterize(self, mu: Tensor, logvar: Tensor) -> Tensor:\n",
    "        \"\"\"\n",
    "        Reparameterization trick to sample from N(mu, var) from\n",
    "        N(0,1).\n",
    "        :param mu: (Tensor) Mean of the latent Gaussian [B x D]\n",
    "        :param logvar: (Tensor) Standard deviation of the latent Gaussian [B x D]\n",
    "        :return: (Tensor) [B x D]\n",
    "        \"\"\"\n",
    "        std = torch.exp(0.5 * logvar)\n",
    "        eps = torch.randn_like(std)\n",
    "        return eps * std + mu\n",
    "\n",
    "    def forward(self, input: Tensor, **kwargs) -> List[Tensor]:\n",
    "        mu, log_var = self.encode(input)\n",
    "        z = self.reparameterize(mu, log_var)\n",
    "        return  [self.decode(z), input, mu, log_var]\n",
    "\n",
    "        # return [self.autoencoder(input), _, _, _]\n",
    "\n",
    "    def loss_function(self,\n",
    "                      *args,\n",
    "                      **kwargs) -> dict:\n",
    "        \"\"\"\n",
    "        Computes the VAE loss function.\n",
    "        KL(N(\\mu, \\sigma), N(0, 1)) = \\log \\frac{1}{\\sigma} + \\frac{\\sigma^2 + \\mu^2}{2} - \\frac{1}{2}\n",
    "        :param args:\n",
    "        :param kwargs:\n",
    "        :return:\n",
    "        \"\"\"\n",
    "        recons = args[0]\n",
    "        input = args[1]\n",
    "        mu = args[2]\n",
    "        log_var = args[3]\n",
    "        # print(recons.size(), input.size())\n",
    "\n",
    "        kld_weight = kwargs['M_N'] # Account for the minibatch samples from the dataset\n",
    "        recons_loss = F.mse_loss(recons, input)\n",
    "\n",
    "\n",
    "        kld_loss = torch.mean(-0.5 * torch.sum(1 + log_var - mu ** 2 - log_var.exp(), dim = 1), dim = 0)\n",
    "\n",
    "        loss = 100 * recons_loss + kld_weight * kld_loss\n",
    "        # loss = recons_loss \n",
    "\n",
    "        # return {'loss': loss}\n",
    "\n",
    "        return {'loss': loss, 'Reconstruction_Loss':recons_loss.detach(), 'KLD':-kld_loss.detach()}\n",
    "\n",
    "    def sample(self,\n",
    "               num_samples:int,\n",
    "               current_device: int, **kwargs) -> Tensor:\n",
    "        \"\"\"\n",
    "        Samples from the latent space and return the corresponding\n",
    "        image space map.\n",
    "        :param num_samples: (Int) Number of samples\n",
    "        :param current_device: (Int) Device to run the model\n",
    "        :return: (Tensor)\n",
    "        \"\"\"\n",
    "        z = torch.randn(num_samples,\n",
    "                        self.latent_dim)\n",
    "\n",
    "        z = z.to(current_device)\n",
    "\n",
    "        samples = self.decode(z)\n",
    "        return samples\n",
    "\n",
    "    def generate(self, x: Tensor, **kwargs) -> Tensor:\n",
    "        \"\"\"\n",
    "        Given an input image x, returns the reconstructed image\n",
    "        :param x: (Tensor) [B x C x H x W]\n",
    "        :return: (Tensor) [B x C x H x W]\n",
    "        \"\"\"\n",
    "\n",
    "        return self.forward(x)[0]"
   ]
  },
  {
   "cell_type": "code",
   "execution_count": 22,
   "metadata": {},
   "outputs": [
    {
     "name": "stdout",
     "output_type": "stream",
     "text": [
      "----------------------------------------------------------------\n",
      "        Layer (type)               Output Shape         Param #\n",
      "================================================================\n",
      "            Conv2d-1           [-1, 32, 32, 32]             896\n",
      "       BatchNorm2d-2           [-1, 32, 32, 32]              64\n",
      "         LeakyReLU-3           [-1, 32, 32, 32]               0\n",
      "           Dropout-4           [-1, 32, 32, 32]               0\n",
      "            Conv2d-5           [-1, 64, 16, 16]          18,496\n",
      "       BatchNorm2d-6           [-1, 64, 16, 16]             128\n",
      "         LeakyReLU-7           [-1, 64, 16, 16]               0\n",
      "           Dropout-8           [-1, 64, 16, 16]               0\n",
      "            Conv2d-9            [-1, 128, 8, 8]          73,856\n",
      "      BatchNorm2d-10            [-1, 128, 8, 8]             256\n",
      "        LeakyReLU-11            [-1, 128, 8, 8]               0\n",
      "          Dropout-12            [-1, 128, 8, 8]               0\n",
      "           Conv2d-13            [-1, 256, 4, 4]         295,168\n",
      "      BatchNorm2d-14            [-1, 256, 4, 4]             512\n",
      "        LeakyReLU-15            [-1, 256, 4, 4]               0\n",
      "          Dropout-16            [-1, 256, 4, 4]               0\n",
      "           Linear-17                  [-1, 256]       1,048,832\n",
      "           Linear-18                  [-1, 256]       1,048,832\n",
      "           Linear-19                 [-1, 4096]       1,052,672\n",
      "  ConvTranspose2d-20            [-1, 128, 8, 8]         295,040\n",
      "      BatchNorm2d-21            [-1, 128, 8, 8]             256\n",
      "        LeakyReLU-22            [-1, 128, 8, 8]               0\n",
      "          Dropout-23            [-1, 128, 8, 8]               0\n",
      "  ConvTranspose2d-24           [-1, 64, 16, 16]          73,792\n",
      "      BatchNorm2d-25           [-1, 64, 16, 16]             128\n",
      "        LeakyReLU-26           [-1, 64, 16, 16]               0\n",
      "          Dropout-27           [-1, 64, 16, 16]               0\n",
      "  ConvTranspose2d-28           [-1, 32, 32, 32]          18,464\n",
      "      BatchNorm2d-29           [-1, 32, 32, 32]              64\n",
      "        LeakyReLU-30           [-1, 32, 32, 32]               0\n",
      "          Dropout-31           [-1, 32, 32, 32]               0\n",
      "  ConvTranspose2d-32           [-1, 32, 64, 64]           9,248\n",
      "      BatchNorm2d-33           [-1, 32, 64, 64]              64\n",
      "        LeakyReLU-34           [-1, 32, 64, 64]               0\n",
      "           Conv2d-35            [-1, 3, 64, 64]             867\n",
      "          Sigmoid-36            [-1, 3, 64, 64]               0\n",
      "================================================================\n",
      "Total params: 3,937,635\n",
      "Trainable params: 3,937,635\n",
      "Non-trainable params: 0\n",
      "----------------------------------------------------------------\n",
      "Input size (MB): 0.05\n",
      "Forward/backward pass size (MB): 6.85\n",
      "Params size (MB): 15.02\n",
      "Estimated Total Size (MB): 21.92\n",
      "----------------------------------------------------------------\n"
     ]
    }
   ],
   "source": [
    "from torchsummary import summary\n",
    "\n",
    "model = VanillaVAE(3, 256, [32, 64, 128, 256])\n",
    "model.to('cuda:0')\n",
    "\n",
    "summary(model, (3, 64, 64))"
   ]
  },
  {
   "cell_type": "code",
   "execution_count": 23,
   "metadata": {},
   "outputs": [
    {
     "name": "stderr",
     "output_type": "stream",
     "text": [
      "  2%|▏         | 1/50 [00:15<12:52, 15.77s/it]"
     ]
    },
    {
     "name": "stdout",
     "output_type": "stream",
     "text": [
      "Epoch 0: Train err: 0.340508122059943, Train loss: 230.34302438474168 | Validation err: 0.307212465264824, Validation loss: 38.777975718180336\n"
     ]
    },
    {
     "name": "stderr",
     "output_type": "stream",
     "text": [
      "  4%|▍         | 2/50 [00:31<12:25, 15.52s/it]"
     ]
    },
    {
     "name": "stdout",
     "output_type": "stream",
     "text": [
      "Epoch 1: Train err: 0.31327876055858644, Train loss: 36.39630687938017 | Validation err: 0.30548217859161036, Validation loss: 51.06235376993815\n"
     ]
    },
    {
     "name": "stderr",
     "output_type": "stream",
     "text": [
      "  6%|▌         | 3/50 [00:46<12:15, 15.65s/it]"
     ]
    },
    {
     "name": "stdout",
     "output_type": "stream",
     "text": [
      "Epoch 2: Train err: 0.3126051626973864, Train loss: 41.473620994418276 | Validation err: 0.3063473219282172, Validation loss: 56.0552864074707\n"
     ]
    },
    {
     "name": "stderr",
     "output_type": "stream",
     "text": [
      "  8%|▊         | 4/50 [01:02<11:51, 15.48s/it]"
     ]
    },
    {
     "name": "stdout",
     "output_type": "stream",
     "text": [
      "Epoch 3: Train err: 0.312447332874229, Train loss: 39.387497284833124 | Validation err: 0.3068090931753094, Validation loss: 28.598347345987957\n"
     ]
    },
    {
     "name": "stderr",
     "output_type": "stream",
     "text": [
      " 10%|█         | 5/50 [01:17<11:34, 15.43s/it]"
     ]
    },
    {
     "name": "stdout",
     "output_type": "stream",
     "text": [
      "Epoch 4: Train err: 0.3121411849527639, Train loss: 27.608260547413547 | Validation err: 0.306576632381825, Validation loss: 31.16075325012207\n"
     ]
    },
    {
     "name": "stderr",
     "output_type": "stream",
     "text": [
      " 12%|█▏        | 6/50 [01:32<11:19, 15.43s/it]"
     ]
    },
    {
     "name": "stdout",
     "output_type": "stream",
     "text": [
      "Epoch 5: Train err: 0.31199685072318084, Train loss: 26.69475933149749 | Validation err: 0.3055049167590195, Validation loss: 22.92437807718913\n"
     ]
    },
    {
     "name": "stderr",
     "output_type": "stream",
     "text": [
      " 14%|█▍        | 7/50 [01:48<11:07, 15.53s/it]"
     ]
    },
    {
     "name": "stdout",
     "output_type": "stream",
     "text": [
      "Epoch 6: Train err: 0.3117662628764737, Train loss: 23.171014299579696 | Validation err: 0.3045913396256693, Validation loss: 20.94850476582845\n"
     ]
    },
    {
     "name": "stderr",
     "output_type": "stream",
     "text": [
      " 16%|█▌        | 8/50 [02:04<10:52, 15.53s/it]"
     ]
    },
    {
     "name": "stdout",
     "output_type": "stream",
     "text": [
      "Epoch 7: Train err: 0.31165683038677, Train loss: 21.565556395287608 | Validation err: 0.30591131060310967, Validation loss: 18.24432881673177\n"
     ]
    },
    {
     "name": "stderr",
     "output_type": "stream",
     "text": [
      " 18%|█▊        | 9/50 [02:20<10:40, 15.63s/it]"
     ]
    },
    {
     "name": "stdout",
     "output_type": "stream",
     "text": [
      "Epoch 8: Train err: 0.31162774242660835, Train loss: 18.47698705336627 | Validation err: 0.30515520760182585, Validation loss: 16.554630597432453\n"
     ]
    },
    {
     "name": "stderr",
     "output_type": "stream",
     "text": [
      " 20%|██        | 10/50 [02:35<10:21, 15.54s/it]"
     ]
    },
    {
     "name": "stdout",
     "output_type": "stream",
     "text": [
      "Epoch 9: Train err: 0.3115155841319878, Train loss: 17.400355488646266 | Validation err: 0.3050673409794154, Validation loss: 16.358851432800293\n"
     ]
    },
    {
     "name": "stderr",
     "output_type": "stream",
     "text": [
      " 22%|██▏       | 11/50 [02:51<10:13, 15.72s/it]"
     ]
    },
    {
     "name": "stdout",
     "output_type": "stream",
     "text": [
      "Epoch 10: Train err: 0.3114088393240553, Train loss: 18.22541986727247 | Validation err: 0.3054240794664019, Validation loss: 15.749059041341146\n"
     ]
    },
    {
     "name": "stderr",
     "output_type": "stream",
     "text": [
      " 24%|██▍       | 12/50 [03:07<09:56, 15.69s/it]"
     ]
    },
    {
     "name": "stdout",
     "output_type": "stream",
     "text": [
      "Epoch 11: Train err: 0.31143512523300865, Train loss: 17.017738080492208 | Validation err: 0.3042993652686644, Validation loss: 14.603179295857748\n"
     ]
    },
    {
     "name": "stderr",
     "output_type": "stream",
     "text": [
      " 26%|██▌       | 13/50 [03:22<09:38, 15.62s/it]"
     ]
    },
    {
     "name": "stdout",
     "output_type": "stream",
     "text": [
      "Epoch 12: Train err: 0.31119067962284314, Train loss: 16.110090349234788 | Validation err: 0.3050206859460038, Validation loss: 14.553762753804525\n"
     ]
    },
    {
     "name": "stderr",
     "output_type": "stream",
     "text": [
      " 28%|██▊       | 14/50 [03:37<09:17, 15.48s/it]"
     ]
    },
    {
     "name": "stdout",
     "output_type": "stream",
     "text": [
      "Epoch 13: Train err: 0.3111786136472322, Train loss: 15.948541155048446 | Validation err: 0.30518488937549376, Validation loss: 14.101389567057291\n"
     ]
    },
    {
     "name": "stderr",
     "output_type": "stream",
     "text": [
      " 30%|███       | 15/50 [03:54<09:10, 15.74s/it]"
     ]
    },
    {
     "name": "stdout",
     "output_type": "stream",
     "text": [
      "Epoch 14: Train err: 0.3113825152919562, Train loss: 16.12376544054817 | Validation err: 0.3047658941718969, Validation loss: 14.18896516164144\n"
     ]
    },
    {
     "name": "stderr",
     "output_type": "stream",
     "text": [
      " 32%|███▏      | 16/50 [04:10<08:57, 15.80s/it]"
     ]
    },
    {
     "name": "stdout",
     "output_type": "stream",
     "text": [
      "Epoch 15: Train err: 0.3110568864430434, Train loss: 16.132345629673377 | Validation err: 0.3050417953662658, Validation loss: 13.917608261108398\n"
     ]
    },
    {
     "name": "stderr",
     "output_type": "stream",
     "text": [
      " 32%|███▏      | 16/50 [04:14<09:01, 15.92s/it]\n"
     ]
    },
    {
     "ename": "KeyboardInterrupt",
     "evalue": "",
     "output_type": "error",
     "traceback": [
      "\u001b[1;31m---------------------------------------------------------------------------\u001b[0m",
      "\u001b[1;31mKeyboardInterrupt\u001b[0m                         Traceback (most recent call last)",
      "\u001b[1;32mc:\\Users\\ammar\\Documents\\Year2\\aps360\\APS360\\train.ipynb Cell 16\u001b[0m in \u001b[0;36m<cell line: 14>\u001b[1;34m()\u001b[0m\n\u001b[0;32m     <a href='vscode-notebook-cell:/c%3A/Users/ammar/Documents/Year2/aps360/APS360/train.ipynb#X20sZmlsZQ%3D%3D?line=10'>11</a>\u001b[0m m \u001b[39m=\u001b[39m \u001b[39m0.9\u001b[39m\n\u001b[0;32m     <a href='vscode-notebook-cell:/c%3A/Users/ammar/Documents/Year2/aps360/APS360/train.ipynb#X20sZmlsZQ%3D%3D?line=11'>12</a>\u001b[0m epochs \u001b[39m=\u001b[39m \u001b[39m50\u001b[39m\n\u001b[1;32m---> <a href='vscode-notebook-cell:/c%3A/Users/ammar/Documents/Year2/aps360/APS360/train.ipynb#X20sZmlsZQ%3D%3D?line=13'>14</a>\u001b[0m train_network(net, batch_size\u001b[39m=\u001b[39;49mbatch, lr\u001b[39m=\u001b[39;49mlr, momentum\u001b[39m=\u001b[39;49mm, num_epochs\u001b[39m=\u001b[39;49mepochs, cuda\u001b[39m=\u001b[39;49m\u001b[39mTrue\u001b[39;49;00m)\n\u001b[0;32m     <a href='vscode-notebook-cell:/c%3A/Users/ammar/Documents/Year2/aps360/APS360/train.ipynb#X20sZmlsZQ%3D%3D?line=14'>15</a>\u001b[0m model_path \u001b[39m=\u001b[39m  OUTPUT_DIR \u001b[39m+\u001b[39m get_model_name(net\u001b[39m.\u001b[39mname, batch, lr, m, epochs\u001b[39m-\u001b[39m\u001b[39m1\u001b[39m)\n\u001b[0;32m     <a href='vscode-notebook-cell:/c%3A/Users/ammar/Documents/Year2/aps360/APS360/train.ipynb#X20sZmlsZQ%3D%3D?line=15'>16</a>\u001b[0m plot_training_curve(model_path)\n",
      "\u001b[1;32mc:\\Users\\ammar\\Documents\\Year2\\aps360\\APS360\\train.ipynb Cell 16\u001b[0m in \u001b[0;36mtrain_network\u001b[1;34m(model, batch_size, lr, momentum, num_epochs, cuda, loader, alex, sheduler)\u001b[0m\n\u001b[0;32m     <a href='vscode-notebook-cell:/c%3A/Users/ammar/Documents/Year2/aps360/APS360/train.ipynb#X20sZmlsZQ%3D%3D?line=47'>48</a>\u001b[0m total_train_err \u001b[39m=\u001b[39m \u001b[39m0.0\u001b[39m\n\u001b[0;32m     <a href='vscode-notebook-cell:/c%3A/Users/ammar/Documents/Year2/aps360/APS360/train.ipynb#X20sZmlsZQ%3D%3D?line=48'>49</a>\u001b[0m total_epoch \u001b[39m=\u001b[39m \u001b[39m0\u001b[39m\n\u001b[1;32m---> <a href='vscode-notebook-cell:/c%3A/Users/ammar/Documents/Year2/aps360/APS360/train.ipynb#X20sZmlsZQ%3D%3D?line=50'>51</a>\u001b[0m \u001b[39mfor\u001b[39;00m i, data \u001b[39min\u001b[39;00m \u001b[39menumerate\u001b[39m(train_dl \u001b[39mif\u001b[39;00m \u001b[39mnot\u001b[39;00m loader \u001b[39melse\u001b[39;00m loader):\n\u001b[0;32m     <a href='vscode-notebook-cell:/c%3A/Users/ammar/Documents/Year2/aps360/APS360/train.ipynb#X20sZmlsZQ%3D%3D?line=52'>53</a>\u001b[0m     inputs, transformed, labels \u001b[39m=\u001b[39m data\n\u001b[0;32m     <a href='vscode-notebook-cell:/c%3A/Users/ammar/Documents/Year2/aps360/APS360/train.ipynb#X20sZmlsZQ%3D%3D?line=55'>56</a>\u001b[0m     \u001b[39m########## SENDING TO CUDA ############\u001b[39;00m\n",
      "File \u001b[1;32mc:\\Users\\ammar\\AppData\\Local\\Programs\\Python\\Python39\\lib\\site-packages\\torch\\utils\\data\\dataloader.py:530\u001b[0m, in \u001b[0;36m_BaseDataLoaderIter.__next__\u001b[1;34m(self)\u001b[0m\n\u001b[0;32m    528\u001b[0m \u001b[39mif\u001b[39;00m \u001b[39mself\u001b[39m\u001b[39m.\u001b[39m_sampler_iter \u001b[39mis\u001b[39;00m \u001b[39mNone\u001b[39;00m:\n\u001b[0;32m    529\u001b[0m     \u001b[39mself\u001b[39m\u001b[39m.\u001b[39m_reset()\n\u001b[1;32m--> 530\u001b[0m data \u001b[39m=\u001b[39m \u001b[39mself\u001b[39;49m\u001b[39m.\u001b[39;49m_next_data()\n\u001b[0;32m    531\u001b[0m \u001b[39mself\u001b[39m\u001b[39m.\u001b[39m_num_yielded \u001b[39m+\u001b[39m\u001b[39m=\u001b[39m \u001b[39m1\u001b[39m\n\u001b[0;32m    532\u001b[0m \u001b[39mif\u001b[39;00m \u001b[39mself\u001b[39m\u001b[39m.\u001b[39m_dataset_kind \u001b[39m==\u001b[39m _DatasetKind\u001b[39m.\u001b[39mIterable \u001b[39mand\u001b[39;00m \\\n\u001b[0;32m    533\u001b[0m         \u001b[39mself\u001b[39m\u001b[39m.\u001b[39m_IterableDataset_len_called \u001b[39mis\u001b[39;00m \u001b[39mnot\u001b[39;00m \u001b[39mNone\u001b[39;00m \u001b[39mand\u001b[39;00m \\\n\u001b[0;32m    534\u001b[0m         \u001b[39mself\u001b[39m\u001b[39m.\u001b[39m_num_yielded \u001b[39m>\u001b[39m \u001b[39mself\u001b[39m\u001b[39m.\u001b[39m_IterableDataset_len_called:\n",
      "File \u001b[1;32mc:\\Users\\ammar\\AppData\\Local\\Programs\\Python\\Python39\\lib\\site-packages\\torch\\utils\\data\\dataloader.py:570\u001b[0m, in \u001b[0;36m_SingleProcessDataLoaderIter._next_data\u001b[1;34m(self)\u001b[0m\n\u001b[0;32m    568\u001b[0m \u001b[39mdef\u001b[39;00m \u001b[39m_next_data\u001b[39m(\u001b[39mself\u001b[39m):\n\u001b[0;32m    569\u001b[0m     index \u001b[39m=\u001b[39m \u001b[39mself\u001b[39m\u001b[39m.\u001b[39m_next_index()  \u001b[39m# may raise StopIteration\u001b[39;00m\n\u001b[1;32m--> 570\u001b[0m     data \u001b[39m=\u001b[39m \u001b[39mself\u001b[39;49m\u001b[39m.\u001b[39;49m_dataset_fetcher\u001b[39m.\u001b[39;49mfetch(index)  \u001b[39m# may raise StopIteration\u001b[39;00m\n\u001b[0;32m    571\u001b[0m     \u001b[39mif\u001b[39;00m \u001b[39mself\u001b[39m\u001b[39m.\u001b[39m_pin_memory:\n\u001b[0;32m    572\u001b[0m         data \u001b[39m=\u001b[39m _utils\u001b[39m.\u001b[39mpin_memory\u001b[39m.\u001b[39mpin_memory(data)\n",
      "File \u001b[1;32mc:\\Users\\ammar\\AppData\\Local\\Programs\\Python\\Python39\\lib\\site-packages\\torch\\utils\\data\\_utils\\fetch.py:49\u001b[0m, in \u001b[0;36m_MapDatasetFetcher.fetch\u001b[1;34m(self, possibly_batched_index)\u001b[0m\n\u001b[0;32m     47\u001b[0m \u001b[39mdef\u001b[39;00m \u001b[39mfetch\u001b[39m(\u001b[39mself\u001b[39m, possibly_batched_index):\n\u001b[0;32m     48\u001b[0m     \u001b[39mif\u001b[39;00m \u001b[39mself\u001b[39m\u001b[39m.\u001b[39mauto_collation:\n\u001b[1;32m---> 49\u001b[0m         data \u001b[39m=\u001b[39m [\u001b[39mself\u001b[39m\u001b[39m.\u001b[39mdataset[idx] \u001b[39mfor\u001b[39;00m idx \u001b[39min\u001b[39;00m possibly_batched_index]\n\u001b[0;32m     50\u001b[0m     \u001b[39melse\u001b[39;00m:\n\u001b[0;32m     51\u001b[0m         data \u001b[39m=\u001b[39m \u001b[39mself\u001b[39m\u001b[39m.\u001b[39mdataset[possibly_batched_index]\n",
      "File \u001b[1;32mc:\\Users\\ammar\\AppData\\Local\\Programs\\Python\\Python39\\lib\\site-packages\\torch\\utils\\data\\_utils\\fetch.py:49\u001b[0m, in \u001b[0;36m<listcomp>\u001b[1;34m(.0)\u001b[0m\n\u001b[0;32m     47\u001b[0m \u001b[39mdef\u001b[39;00m \u001b[39mfetch\u001b[39m(\u001b[39mself\u001b[39m, possibly_batched_index):\n\u001b[0;32m     48\u001b[0m     \u001b[39mif\u001b[39;00m \u001b[39mself\u001b[39m\u001b[39m.\u001b[39mauto_collation:\n\u001b[1;32m---> 49\u001b[0m         data \u001b[39m=\u001b[39m [\u001b[39mself\u001b[39;49m\u001b[39m.\u001b[39;49mdataset[idx] \u001b[39mfor\u001b[39;00m idx \u001b[39min\u001b[39;00m possibly_batched_index]\n\u001b[0;32m     50\u001b[0m     \u001b[39melse\u001b[39;00m:\n\u001b[0;32m     51\u001b[0m         data \u001b[39m=\u001b[39m \u001b[39mself\u001b[39m\u001b[39m.\u001b[39mdataset[possibly_batched_index]\n",
      "\u001b[1;32mc:\\Users\\ammar\\Documents\\Year2\\aps360\\APS360\\train.ipynb Cell 16\u001b[0m in \u001b[0;36mGenData.__getitem__\u001b[1;34m(self, idx)\u001b[0m\n\u001b[0;32m     <a href='vscode-notebook-cell:/c%3A/Users/ammar/Documents/Year2/aps360/APS360/train.ipynb#X20sZmlsZQ%3D%3D?line=30'>31</a>\u001b[0m \u001b[39m# inputs = inputs.swapaxes(0, 2)\u001b[39;00m\n\u001b[0;32m     <a href='vscode-notebook-cell:/c%3A/Users/ammar/Documents/Year2/aps360/APS360/train.ipynb#X20sZmlsZQ%3D%3D?line=31'>32</a>\u001b[0m \n\u001b[0;32m     <a href='vscode-notebook-cell:/c%3A/Users/ammar/Documents/Year2/aps360/APS360/train.ipynb#X20sZmlsZQ%3D%3D?line=32'>33</a>\u001b[0m \u001b[39m# labels = (int)(self.labels[idx])\u001b[39;00m\n\u001b[0;32m     <a href='vscode-notebook-cell:/c%3A/Users/ammar/Documents/Year2/aps360/APS360/train.ipynb#X20sZmlsZQ%3D%3D?line=34'>35</a>\u001b[0m \u001b[39mif\u001b[39;00m \u001b[39mself\u001b[39m\u001b[39m.\u001b[39mtransform:\n\u001b[1;32m---> <a href='vscode-notebook-cell:/c%3A/Users/ammar/Documents/Year2/aps360/APS360/train.ipynb#X20sZmlsZQ%3D%3D?line=35'>36</a>\u001b[0m     inputs \u001b[39m=\u001b[39m \u001b[39mself\u001b[39;49m\u001b[39m.\u001b[39;49minput_transform(inputs)\n\u001b[0;32m     <a href='vscode-notebook-cell:/c%3A/Users/ammar/Documents/Year2/aps360/APS360/train.ipynb#X20sZmlsZQ%3D%3D?line=36'>37</a>\u001b[0m     transformed \u001b[39m=\u001b[39m \u001b[39mself\u001b[39m\u001b[39m.\u001b[39mtransform(inputs)\n\u001b[0;32m     <a href='vscode-notebook-cell:/c%3A/Users/ammar/Documents/Year2/aps360/APS360/train.ipynb#X20sZmlsZQ%3D%3D?line=38'>39</a>\u001b[0m     \u001b[39m# labels = self.input_transform(labels)\u001b[39;00m\n",
      "File \u001b[1;32mc:\\Users\\ammar\\AppData\\Local\\Programs\\Python\\Python39\\lib\\site-packages\\torchvision\\transforms\\transforms.py:95\u001b[0m, in \u001b[0;36mCompose.__call__\u001b[1;34m(self, img)\u001b[0m\n\u001b[0;32m     93\u001b[0m \u001b[39mdef\u001b[39;00m \u001b[39m__call__\u001b[39m(\u001b[39mself\u001b[39m, img):\n\u001b[0;32m     94\u001b[0m     \u001b[39mfor\u001b[39;00m t \u001b[39min\u001b[39;00m \u001b[39mself\u001b[39m\u001b[39m.\u001b[39mtransforms:\n\u001b[1;32m---> 95\u001b[0m         img \u001b[39m=\u001b[39m t(img)\n\u001b[0;32m     96\u001b[0m     \u001b[39mreturn\u001b[39;00m img\n",
      "File \u001b[1;32mc:\\Users\\ammar\\AppData\\Local\\Programs\\Python\\Python39\\lib\\site-packages\\torchvision\\transforms\\transforms.py:227\u001b[0m, in \u001b[0;36mToPILImage.__call__\u001b[1;34m(self, pic)\u001b[0m\n\u001b[0;32m    218\u001b[0m \u001b[39mdef\u001b[39;00m \u001b[39m__call__\u001b[39m(\u001b[39mself\u001b[39m, pic):\n\u001b[0;32m    219\u001b[0m     \u001b[39m\"\"\"\u001b[39;00m\n\u001b[0;32m    220\u001b[0m \u001b[39m    Args:\u001b[39;00m\n\u001b[0;32m    221\u001b[0m \u001b[39m        pic (Tensor or numpy.ndarray): Image to be converted to PIL Image.\u001b[39;00m\n\u001b[1;32m   (...)\u001b[0m\n\u001b[0;32m    225\u001b[0m \n\u001b[0;32m    226\u001b[0m \u001b[39m    \"\"\"\u001b[39;00m\n\u001b[1;32m--> 227\u001b[0m     \u001b[39mreturn\u001b[39;00m F\u001b[39m.\u001b[39;49mto_pil_image(pic, \u001b[39mself\u001b[39;49m\u001b[39m.\u001b[39;49mmode)\n",
      "File \u001b[1;32mc:\\Users\\ammar\\AppData\\Local\\Programs\\Python\\Python39\\lib\\site-packages\\torchvision\\transforms\\functional.py:317\u001b[0m, in \u001b[0;36mto_pil_image\u001b[1;34m(pic, mode)\u001b[0m\n\u001b[0;32m    314\u001b[0m \u001b[39mif\u001b[39;00m mode \u001b[39mis\u001b[39;00m \u001b[39mNone\u001b[39;00m:\n\u001b[0;32m    315\u001b[0m     \u001b[39mraise\u001b[39;00m \u001b[39mTypeError\u001b[39;00m(\u001b[39mf\u001b[39m\u001b[39m\"\u001b[39m\u001b[39mInput type \u001b[39m\u001b[39m{\u001b[39;00mnpimg\u001b[39m.\u001b[39mdtype\u001b[39m}\u001b[39;00m\u001b[39m is not supported\u001b[39m\u001b[39m\"\u001b[39m)\n\u001b[1;32m--> 317\u001b[0m \u001b[39mreturn\u001b[39;00m Image\u001b[39m.\u001b[39;49mfromarray(npimg, mode\u001b[39m=\u001b[39;49mmode)\n",
      "File \u001b[1;32mc:\\Users\\ammar\\AppData\\Local\\Programs\\Python\\Python39\\lib\\site-packages\\PIL\\Image.py:2949\u001b[0m, in \u001b[0;36mfromarray\u001b[1;34m(obj, mode)\u001b[0m\n\u001b[0;32m   2946\u001b[0m     \u001b[39melse\u001b[39;00m:\n\u001b[0;32m   2947\u001b[0m         obj \u001b[39m=\u001b[39m obj\u001b[39m.\u001b[39mtostring()\n\u001b[1;32m-> 2949\u001b[0m \u001b[39mreturn\u001b[39;00m frombuffer(mode, size, obj, \u001b[39m\"\u001b[39;49m\u001b[39mraw\u001b[39;49m\u001b[39m\"\u001b[39;49m, rawmode, \u001b[39m0\u001b[39;49m, \u001b[39m1\u001b[39;49m)\n",
      "File \u001b[1;32mc:\\Users\\ammar\\AppData\\Local\\Programs\\Python\\Python39\\lib\\site-packages\\PIL\\Image.py:2876\u001b[0m, in \u001b[0;36mfrombuffer\u001b[1;34m(mode, size, data, decoder_name, *args)\u001b[0m\n\u001b[0;32m   2873\u001b[0m         im\u001b[39m.\u001b[39mreadonly \u001b[39m=\u001b[39m \u001b[39m1\u001b[39m\n\u001b[0;32m   2874\u001b[0m         \u001b[39mreturn\u001b[39;00m im\n\u001b[1;32m-> 2876\u001b[0m \u001b[39mreturn\u001b[39;00m frombytes(mode, size, data, decoder_name, args)\n",
      "File \u001b[1;32mc:\\Users\\ammar\\AppData\\Local\\Programs\\Python\\Python39\\lib\\site-packages\\PIL\\Image.py:2821\u001b[0m, in \u001b[0;36mfrombytes\u001b[1;34m(mode, size, data, decoder_name, *args)\u001b[0m\n\u001b[0;32m   2818\u001b[0m \u001b[39mif\u001b[39;00m decoder_name \u001b[39m==\u001b[39m \u001b[39m\"\u001b[39m\u001b[39mraw\u001b[39m\u001b[39m\"\u001b[39m \u001b[39mand\u001b[39;00m args \u001b[39m==\u001b[39m ():\n\u001b[0;32m   2819\u001b[0m     args \u001b[39m=\u001b[39m mode\n\u001b[1;32m-> 2821\u001b[0m im \u001b[39m=\u001b[39m new(mode, size)\n\u001b[0;32m   2822\u001b[0m im\u001b[39m.\u001b[39mfrombytes(data, decoder_name, args)\n\u001b[0;32m   2823\u001b[0m \u001b[39mreturn\u001b[39;00m im\n",
      "File \u001b[1;32mc:\\Users\\ammar\\AppData\\Local\\Programs\\Python\\Python39\\lib\\site-packages\\PIL\\Image.py:2785\u001b[0m, in \u001b[0;36mnew\u001b[1;34m(mode, size, color)\u001b[0m\n\u001b[0;32m   2783\u001b[0m     im\u001b[39m.\u001b[39mpalette \u001b[39m=\u001b[39m ImagePalette\u001b[39m.\u001b[39mImagePalette()\n\u001b[0;32m   2784\u001b[0m     color \u001b[39m=\u001b[39m im\u001b[39m.\u001b[39mpalette\u001b[39m.\u001b[39mgetcolor(color)\n\u001b[1;32m-> 2785\u001b[0m \u001b[39mreturn\u001b[39;00m im\u001b[39m.\u001b[39m_new(core\u001b[39m.\u001b[39;49mfill(mode, size, color))\n",
      "\u001b[1;31mKeyboardInterrupt\u001b[0m: "
     ]
    }
   ],
   "source": [
    "'''\n",
    "More epochs\n",
    "'''\n",
    "# net = VAENetSmall(\"ASL_small\", transfer_model=None, transfer_ftrs=1000)\n",
    "net = VanillaVAE(3, 256, [32, 64, 128, 256])\n",
    "net.name = \"birdgen\"\n",
    "\n",
    "\n",
    "batch = 64\n",
    "lr = 0.001\n",
    "m = 0.9\n",
    "epochs = 50\n",
    "\n",
    "train_network(net, batch_size=batch, lr=lr, momentum=m, num_epochs=epochs, cuda=True)\n",
    "model_path =  OUTPUT_DIR + get_model_name(net.name, batch, lr, m, epochs-1)\n",
    "plot_training_curve(model_path)"
   ]
  },
  {
   "cell_type": "code",
   "execution_count": 39,
   "metadata": {},
   "outputs": [],
   "source": [
    "class CVAE(nn.Module):\n",
    "    def __init__(self, latent_dim):\n",
    "        super(CVAE, self).__init__()\n",
    "\n",
    "        self.latent_dim = latent_dim\n",
    "\n",
    "        # Encoder\n",
    "        self.encoder = nn.Sequential(\n",
    "            nn.Conv2d(3, 32, kernel_size=4, stride=2, padding=1),\n",
    "            nn.ReLU(),\n",
    "            nn.BatchNorm2d(32),\n",
    "            nn.Conv2d(32, 64, kernel_size=4, stride=2, padding=1),\n",
    "            nn.ReLU(),\n",
    "            nn.BatchNorm2d(64),\n",
    "            nn.Conv2d(64, 128, kernel_size=4, stride=2, padding=1),\n",
    "            nn.ReLU(),\n",
    "            nn.BatchNorm2d(128),\n",
    "            nn.Conv2d(128, 256, kernel_size=4, stride=2, padding=1),\n",
    "            nn.ReLU(),\n",
    "            nn.BatchNorm2d(256),\n",
    "        )\n",
    "\n",
    "        self.fc_mu = nn.Linear(256 * 8 * 8, latent_dim)\n",
    "        self.fc_logvar = nn.Linear(256 * 8 * 8, latent_dim)\n",
    "\n",
    "        # Decoder\n",
    "        self.decoder_input = nn.Linear(latent_dim, 256 * 8 * 8)\n",
    "\n",
    "        self.decoder = nn.Sequential(\n",
    "            nn.ConvTranspose2d(256, 128, kernel_size=4, stride=2, padding=1),\n",
    "            nn.ReLU(),\n",
    "            nn.BatchNorm2d(128),\n",
    "            nn.ConvTranspose2d(128, 64, kernel_size=4, stride=2, padding=1),\n",
    "            nn.ReLU(),\n",
    "            nn.BatchNorm2d(64),\n",
    "            nn.ConvTranspose2d(64, 32, kernel_size=4, stride=2, padding=1),\n",
    "            nn.ReLU(),\n",
    "            nn.BatchNorm2d(32),\n",
    "            nn.ConvTranspose2d(32, 3, kernel_size=4, stride=2, padding=1),\n",
    "            nn.Sigmoid()\n",
    "        )\n",
    "\n",
    "    def encode(self, x):\n",
    "        x = self.encoder(x)\n",
    "        x = torch.flatten(x, start_dim=1)\n",
    "\n",
    "        mu = self.fc_mu(x)\n",
    "        logvar = self.fc_logvar(x)\n",
    "\n",
    "        return mu, logvar\n",
    "\n",
    "    def decode(self, z):\n",
    "        x = self.decoder_input(z)\n",
    "        x = x.view(-1, 256, 8, 8)\n",
    "        x = self.decoder(x)\n",
    "        return x\n",
    "\n",
    "    def reparameterize(self, mu, logvar):\n",
    "        std = torch.exp(0.5 * logvar)\n",
    "        eps = torch.randn_like(std)\n",
    "        z = mu + eps * std\n",
    "        return z\n",
    "\n",
    "    def forward(self, x):\n",
    "        mu, logvar = self.encode(x)\n",
    "        z = self.reparameterize(mu, logvar)\n",
    "        reconstruction = self.decode(z)\n",
    "        return reconstruction, x, mu, logvar\n",
    "\n",
    "    def generate(self, z):\n",
    "        generated = self.decode(z)\n",
    "        return generated\n",
    "\n",
    "    def interpolate(self, z1, z2, num_steps):\n",
    "        assert z1.size() == z2.size(), \"Latent vectors must have the same size.\"\n",
    "\n",
    "        interpolation = torch.zeros(num_steps+2, z1.size(1)).to(z1.device)\n",
    "        interpolation[0] = z1\n",
    "        interpolation[-1] = z2\n",
    "\n",
    "        for i in range(1, num_steps+1):\n",
    "            alpha = i / (num_steps + 1)\n",
    "            interpolation[i] = alpha * z2 + (1 - alpha) * z1\n",
    "\n",
    "        generated = self.generate(interpolation)\n",
    "        return generated\n",
    "\n",
    "    def loss_function(self, recon_x, x, mu, logvar, M_N):\n",
    "        reconstruction_loss = F.mse_loss(recon_x, x, reduction='sum')\n",
    "        kld_loss = -0.5 * torch.sum(1 + logvar - mu.pow(2) - logvar.exp())\n",
    "        return {'loss': reconstruction_loss + M_N * kld_loss}\n"
   ]
  },
  {
   "cell_type": "code",
   "execution_count": 23,
   "metadata": {},
   "outputs": [
    {
     "name": "stdout",
     "output_type": "stream",
     "text": [
      "----------------------------------------------------------------\n",
      "        Layer (type)               Output Shape         Param #\n",
      "================================================================\n",
      "            Conv2d-1           [-1, 32, 64, 64]           1,568\n",
      "              ReLU-2           [-1, 32, 64, 64]               0\n",
      "            Conv2d-3           [-1, 64, 32, 32]          32,832\n",
      "              ReLU-4           [-1, 64, 32, 32]               0\n",
      "            Conv2d-5          [-1, 128, 16, 16]         131,200\n",
      "              ReLU-6          [-1, 128, 16, 16]               0\n",
      "            Conv2d-7            [-1, 256, 8, 8]         524,544\n",
      "              ReLU-8            [-1, 256, 8, 8]               0\n",
      "            Linear-9                  [-1, 128]       2,097,280\n",
      "           Linear-10                  [-1, 128]       2,097,280\n",
      "           Linear-11                [-1, 16384]       2,113,536\n",
      "  ConvTranspose2d-12          [-1, 128, 16, 16]         524,416\n",
      "             ReLU-13          [-1, 128, 16, 16]               0\n",
      "  ConvTranspose2d-14           [-1, 64, 32, 32]         131,136\n",
      "             ReLU-15           [-1, 64, 32, 32]               0\n",
      "  ConvTranspose2d-16           [-1, 32, 64, 64]          32,800\n",
      "             ReLU-17           [-1, 32, 64, 64]               0\n",
      "  ConvTranspose2d-18          [-1, 3, 128, 128]           1,539\n",
      "          Sigmoid-19          [-1, 3, 128, 128]               0\n",
      "================================================================\n",
      "Total params: 7,688,131\n",
      "Trainable params: 7,688,131\n",
      "Non-trainable params: 0\n",
      "----------------------------------------------------------------\n",
      "Input size (MB): 0.19\n",
      "Forward/backward pass size (MB): 8.13\n",
      "Params size (MB): 29.33\n",
      "Estimated Total Size (MB): 37.64\n",
      "----------------------------------------------------------------\n"
     ]
    }
   ],
   "source": [
    "from torchsummary import summary\n",
    "\n",
    "model = CVAE(128)\n",
    "model.to('cuda:0')\n",
    "\n",
    "summary(model, (3, 128, 128))"
   ]
  },
  {
   "cell_type": "code",
   "execution_count": 50,
   "metadata": {},
   "outputs": [
    {
     "name": "stderr",
     "output_type": "stream",
     "text": [
      "  1%|          | 1/100 [00:53<1:28:22, 53.56s/it]"
     ]
    },
    {
     "name": "stdout",
     "output_type": "stream",
     "text": [
      "Epoch 0: Train err: 0.37392992142362197, Train loss: 10617.166954369339 | Validation err: 0.29974187358041826, Validation loss: 7543.7991943359375\n"
     ]
    },
    {
     "name": "stderr",
     "output_type": "stream",
     "text": [
      "  2%|▏         | 2/100 [01:46<1:27:12, 53.40s/it]"
     ]
    },
    {
     "name": "stdout",
     "output_type": "stream",
     "text": [
      "Epoch 1: Train err: 0.28674712886965176, Train loss: 7598.192071689508 | Validation err: 0.27401913417859025, Validation loss: 6661.053256945664\n"
     ]
    },
    {
     "name": "stderr",
     "output_type": "stream",
     "text": [
      "  3%|▎         | 3/100 [02:40<1:26:09, 53.29s/it]"
     ]
    },
    {
     "name": "stdout",
     "output_type": "stream",
     "text": [
      "Epoch 2: Train err: 0.27348685041209597, Train loss: 6804.727682329281 | Validation err: 0.27120900957771904, Validation loss: 6735.404775555214\n"
     ]
    },
    {
     "name": "stderr",
     "output_type": "stream",
     "text": [
      "  4%|▍         | 4/100 [03:32<1:25:01, 53.14s/it]"
     ]
    },
    {
     "name": "stdout",
     "output_type": "stream",
     "text": [
      "Epoch 3: Train err: 0.27102295150613875, Train loss: 6759.049882229979 | Validation err: 0.26679752649885885, Validation loss: 6330.33729124605\n"
     ]
    },
    {
     "name": "stderr",
     "output_type": "stream",
     "text": [
      "  5%|▌         | 5/100 [04:33<1:28:20, 55.79s/it]"
     ]
    },
    {
     "name": "stdout",
     "output_type": "stream",
     "text": [
      "Epoch 4: Train err: 0.26977125426369264, Train loss: 31028.186907108837 | Validation err: 0.26900582902886894, Validation loss: 6655.073318995786\n"
     ]
    },
    {
     "name": "stderr",
     "output_type": "stream",
     "text": [
      "  6%|▌         | 6/100 [05:26<1:25:59, 54.89s/it]"
     ]
    },
    {
     "name": "stdout",
     "output_type": "stream",
     "text": [
      "Epoch 5: Train err: 0.2681384780569273, Train loss: 6690.187316322684 | Validation err: 0.268058412530449, Validation loss: 6618.646517292837\n"
     ]
    },
    {
     "name": "stderr",
     "output_type": "stream",
     "text": [
      "  7%|▋         | 7/100 [06:19<1:24:03, 54.23s/it]"
     ]
    },
    {
     "name": "stdout",
     "output_type": "stream",
     "text": [
      "Epoch 6: Train err: 0.2663300685179673, Train loss: 6808.174901291552 | Validation err: 0.2630247051796217, Validation loss: 6634.88393170646\n"
     ]
    },
    {
     "name": "stderr",
     "output_type": "stream",
     "text": [
      "  8%|▊         | 8/100 [07:12<1:22:34, 53.85s/it]"
     ]
    },
    {
     "name": "stdout",
     "output_type": "stream",
     "text": [
      "Epoch 7: Train err: 0.2658972945680922, Train loss: 6798.816254291141 | Validation err: 0.2615157995331153, Validation loss: 6451.1046142578125\n"
     ]
    },
    {
     "name": "stderr",
     "output_type": "stream",
     "text": [
      "  9%|▉         | 9/100 [08:06<1:21:56, 54.03s/it]"
     ]
    },
    {
     "name": "stdout",
     "output_type": "stream",
     "text": [
      "Epoch 8: Train err: 0.26438559747203894, Train loss: 6598.2287878242605 | Validation err: 0.26283810647685873, Validation loss: 6534.942517227001\n"
     ]
    },
    {
     "name": "stderr",
     "output_type": "stream",
     "text": [
      " 10%|█         | 10/100 [09:03<1:22:08, 54.76s/it]"
     ]
    },
    {
     "name": "stdout",
     "output_type": "stream",
     "text": [
      "Epoch 9: Train err: 0.2644341854212211, Train loss: 6551.195161456097 | Validation err: 0.26356454913535815, Validation loss: 6715.297836475158\n"
     ]
    },
    {
     "name": "stderr",
     "output_type": "stream",
     "text": [
      " 11%|█         | 11/100 [10:02<1:23:25, 56.24s/it]"
     ]
    },
    {
     "name": "stdout",
     "output_type": "stream",
     "text": [
      "Epoch 10: Train err: 0.2636916037278947, Train loss: 6794.944182339346 | Validation err: 0.25995404532786165, Validation loss: 6263.20991704705\n"
     ]
    },
    {
     "name": "stderr",
     "output_type": "stream",
     "text": [
      " 12%|█▏        | 12/100 [10:58<1:22:14, 56.07s/it]"
     ]
    },
    {
     "name": "stdout",
     "output_type": "stream",
     "text": [
      "Epoch 11: Train err: 0.2617720461576749, Train loss: 6328.614944448477 | Validation err: 0.2603771338302098, Validation loss: 6251.687294263518\n"
     ]
    },
    {
     "name": "stderr",
     "output_type": "stream",
     "text": [
      " 13%|█▎        | 13/100 [11:52<1:20:22, 55.43s/it]"
     ]
    },
    {
     "name": "stdout",
     "output_type": "stream",
     "text": [
      "Epoch 12: Train err: 0.2617563584832234, Train loss: 6434.212074751559 | Validation err: 0.2595350072624978, Validation loss: 6277.916642435481\n"
     ]
    },
    {
     "name": "stderr",
     "output_type": "stream",
     "text": [
      " 14%|█▍        | 14/100 [12:45<1:18:28, 54.75s/it]"
     ]
    },
    {
     "name": "stdout",
     "output_type": "stream",
     "text": [
      "Epoch 13: Train err: 0.26161427351923605, Train loss: 6413.022840377169 | Validation err: 0.260169682877787, Validation loss: 6404.693912120348\n"
     ]
    },
    {
     "name": "stderr",
     "output_type": "stream",
     "text": [
      " 15%|█▌        | 15/100 [13:39<1:16:56, 54.31s/it]"
     ]
    },
    {
     "name": "stdout",
     "output_type": "stream",
     "text": [
      "Epoch 14: Train err: 0.26128589980383354, Train loss: 6299.886298022964 | Validation err: 0.2614422487408927, Validation loss: 6420.594616836376\n"
     ]
    },
    {
     "name": "stderr",
     "output_type": "stream",
     "text": [
      " 16%|█▌        | 16/100 [14:34<1:16:23, 54.56s/it]"
     ]
    },
    {
     "name": "stdout",
     "output_type": "stream",
     "text": [
      "Epoch 15: Train err: 0.26069636347888037, Train loss: 6240.2785845059 | Validation err: 0.2599551168720374, Validation loss: 6324.467562214712\n"
     ]
    },
    {
     "name": "stderr",
     "output_type": "stream",
     "text": [
      " 17%|█▋        | 17/100 [15:25<1:13:58, 53.47s/it]"
     ]
    },
    {
     "name": "stdout",
     "output_type": "stream",
     "text": [
      "Epoch 16: Train err: 0.2607212960161618, Train loss: 8848.80234281217 | Validation err: 0.26013616497597, Validation loss: 6159.388400302844\n"
     ]
    },
    {
     "name": "stderr",
     "output_type": "stream",
     "text": [
      " 18%|█▊        | 18/100 [16:15<1:11:51, 52.58s/it]"
     ]
    },
    {
     "name": "stdout",
     "output_type": "stream",
     "text": [
      "Epoch 17: Train err: 0.2586482737229661, Train loss: 6046.922492556837 | Validation err: 0.25551999552866045, Validation loss: 5949.211300967784\n"
     ]
    },
    {
     "name": "stderr",
     "output_type": "stream",
     "text": [
      " 19%|█▉        | 19/100 [17:06<1:10:22, 52.13s/it]"
     ]
    },
    {
     "name": "stdout",
     "output_type": "stream",
     "text": [
      "Epoch 18: Train err: 0.25836850701831865, Train loss: 6137.553688254228 | Validation err: 0.2563586717241266, Validation loss: 5909.124314897515\n"
     ]
    },
    {
     "name": "stderr",
     "output_type": "stream",
     "text": [
      " 20%|██        | 20/100 [17:57<1:09:10, 51.88s/it]"
     ]
    },
    {
     "name": "stdout",
     "output_type": "stream",
     "text": [
      "Epoch 19: Train err: 0.2583832416141279, Train loss: 6130.074381421463 | Validation err: 0.2597844198848424, Validation loss: 6296.315738292223\n"
     ]
    },
    {
     "name": "stderr",
     "output_type": "stream",
     "text": [
      " 21%|██        | 21/100 [18:51<1:08:51, 52.29s/it]"
     ]
    },
    {
     "name": "stdout",
     "output_type": "stream",
     "text": [
      "Epoch 20: Train err: 0.25798434007919857, Train loss: 6036.774533082961 | Validation err: 0.2556160701794571, Validation loss: 5867.630303200711\n"
     ]
    },
    {
     "name": "stderr",
     "output_type": "stream",
     "text": [
      " 22%|██▏       | 22/100 [19:47<1:09:23, 53.38s/it]"
     ]
    },
    {
     "name": "stdout",
     "output_type": "stream",
     "text": [
      "Epoch 21: Train err: 0.25781011730339437, Train loss: 6025.06113610634 | Validation err: 0.2551679075433967, Validation loss: 5817.809154724807\n"
     ]
    },
    {
     "name": "stderr",
     "output_type": "stream",
     "text": [
      " 23%|██▎       | 23/100 [20:46<1:10:55, 55.26s/it]"
     ]
    },
    {
     "name": "stdout",
     "output_type": "stream",
     "text": [
      "Epoch 22: Train err: 0.2576684898171553, Train loss: 6046.270854771249 | Validation err: 0.2568023338746489, Validation loss: 5892.812008975597\n"
     ]
    },
    {
     "name": "stderr",
     "output_type": "stream",
     "text": [
      " 24%|██▍       | 24/100 [21:48<1:12:20, 57.11s/it]"
     ]
    },
    {
     "name": "stdout",
     "output_type": "stream",
     "text": [
      "Epoch 23: Train err: 0.25672055779956865, Train loss: 5944.929480033841 | Validation err: 0.25877125343579926, Validation loss: 6084.916454529494\n"
     ]
    },
    {
     "name": "stderr",
     "output_type": "stream",
     "text": [
      " 25%|██▌       | 25/100 [22:40<1:09:43, 55.78s/it]"
     ]
    },
    {
     "name": "stdout",
     "output_type": "stream",
     "text": [
      "Epoch 24: Train err: 0.25580123720282244, Train loss: 5827.526254342989 | Validation err: 0.2538786684529165, Validation loss: 5815.198656403617\n"
     ]
    },
    {
     "name": "stderr",
     "output_type": "stream",
     "text": [
      " 26%|██▌       | 26/100 [23:41<1:10:34, 57.23s/it]"
     ]
    },
    {
     "name": "stdout",
     "output_type": "stream",
     "text": [
      "Epoch 25: Train err: 0.2551333768750488, Train loss: 5744.077781357964 | Validation err: 0.2509074264697814, Validation loss: 5644.906843892644\n"
     ]
    },
    {
     "name": "stderr",
     "output_type": "stream",
     "text": [
      " 27%|██▋       | 27/100 [24:36<1:08:48, 56.55s/it]"
     ]
    },
    {
     "name": "stdout",
     "output_type": "stream",
     "text": [
      "Epoch 26: Train err: 0.2546423888817048, Train loss: 5718.9694967943005 | Validation err: 0.2555255246966073, Validation loss: 5679.928502457865\n"
     ]
    },
    {
     "name": "stderr",
     "output_type": "stream",
     "text": [
      " 28%|██▊       | 28/100 [25:29<1:06:31, 55.43s/it]"
     ]
    },
    {
     "name": "stdout",
     "output_type": "stream",
     "text": [
      "Epoch 27: Train err: 0.25370980143025845, Train loss: 5565.764822164675 | Validation err: 0.2503505020998837, Validation loss: 5473.093400247981\n"
     ]
    },
    {
     "name": "stderr",
     "output_type": "stream",
     "text": [
      " 29%|██▉       | 29/100 [26:22<1:04:43, 54.70s/it]"
     ]
    },
    {
     "name": "stdout",
     "output_type": "stream",
     "text": [
      "Epoch 28: Train err: 0.2527653004957839, Train loss: 5490.995026721275 | Validation err: 0.2498747364858563, Validation loss: 5397.112591346998\n"
     ]
    },
    {
     "name": "stderr",
     "output_type": "stream",
     "text": [
      " 30%|███       | 30/100 [27:15<1:03:10, 54.14s/it]"
     ]
    },
    {
     "name": "stdout",
     "output_type": "stream",
     "text": [
      "Epoch 29: Train err: 0.25199744315686484, Train loss: 5436.266467483397 | Validation err: 0.24697406640213526, Validation loss: 5270.032451501053\n"
     ]
    },
    {
     "name": "stderr",
     "output_type": "stream",
     "text": [
      " 31%|███       | 31/100 [28:16<1:04:44, 56.30s/it]"
     ]
    },
    {
     "name": "stdout",
     "output_type": "stream",
     "text": [
      "Epoch 30: Train err: 0.2507136462257476, Train loss: 5337.609621580506 | Validation err: 0.24780153424552318, Validation loss: 5208.363290165247\n"
     ]
    },
    {
     "name": "stderr",
     "output_type": "stream",
     "text": [
      " 32%|███▏      | 32/100 [29:10<1:02:52, 55.47s/it]"
     ]
    },
    {
     "name": "stdout",
     "output_type": "stream",
     "text": [
      "Epoch 31: Train err: 0.2500720718069273, Train loss: 5263.793418526873 | Validation err: 0.24890231014637465, Validation loss: 5176.757272098841\n"
     ]
    },
    {
     "name": "stderr",
     "output_type": "stream",
     "text": [
      " 33%|███▎      | 33/100 [30:02<1:01:04, 54.69s/it]"
     ]
    },
    {
     "name": "stdout",
     "output_type": "stream",
     "text": [
      "Epoch 32: Train err: 0.24971644004235635, Train loss: 5232.304147676257 | Validation err: 0.2475860681426659, Validation loss: 5145.344386411517\n"
     ]
    },
    {
     "name": "stderr",
     "output_type": "stream",
     "text": [
      " 34%|███▍      | 34/100 [30:55<59:32, 54.13s/it]  "
     ]
    },
    {
     "name": "stdout",
     "output_type": "stream",
     "text": [
      "Epoch 33: Train err: 0.24912324389541693, Train loss: 5183.57459456797 | Validation err: 0.24536400698543934, Validation loss: 5058.445359133602\n"
     ]
    },
    {
     "name": "stderr",
     "output_type": "stream",
     "text": [
      " 35%|███▌      | 35/100 [31:48<58:14, 53.76s/it]"
     ]
    },
    {
     "name": "stdout",
     "output_type": "stream",
     "text": [
      "Epoch 34: Train err: 0.24880827046572454, Train loss: 5158.617236831351 | Validation err: 0.2462181348479196, Validation loss: 5059.1458664797665\n"
     ]
    },
    {
     "name": "stderr",
     "output_type": "stream",
     "text": [
      " 36%|███▌      | 36/100 [32:41<57:02, 53.48s/it]"
     ]
    },
    {
     "name": "stdout",
     "output_type": "stream",
     "text": [
      "Epoch 35: Train err: 0.24871172359926413, Train loss: 5148.325910312097 | Validation err: 0.2457743441120962, Validation loss: 5025.770313048631\n"
     ]
    },
    {
     "name": "stderr",
     "output_type": "stream",
     "text": [
      " 37%|███▋      | 37/100 [33:34<55:59, 53.32s/it]"
     ]
    },
    {
     "name": "stdout",
     "output_type": "stream",
     "text": [
      "Epoch 36: Train err: 0.2481485303679829, Train loss: 5112.913035881809 | Validation err: 0.24498573046052055, Validation loss: 4995.836159009612\n"
     ]
    },
    {
     "name": "stderr",
     "output_type": "stream",
     "text": [
      " 38%|███▊      | 38/100 [34:28<55:25, 53.63s/it]"
     ]
    },
    {
     "name": "stdout",
     "output_type": "stream",
     "text": [
      "Epoch 37: Train err: 0.24820674441145182, Train loss: 5100.738075118151 | Validation err: 0.24580391873134655, Validation loss: 4999.704385478844\n"
     ]
    },
    {
     "name": "stderr",
     "output_type": "stream",
     "text": [
      " 39%|███▉      | 39/100 [35:22<54:25, 53.53s/it]"
     ]
    },
    {
     "name": "stdout",
     "output_type": "stream",
     "text": [
      "Epoch 38: Train err: 0.248052536287135, Train loss: 5089.977088637534 | Validation err: 0.24471977319610252, Validation loss: 4972.110924195707\n"
     ]
    },
    {
     "name": "stderr",
     "output_type": "stream",
     "text": [
      " 40%|████      | 40/100 [36:15<53:22, 53.37s/it]"
     ]
    },
    {
     "name": "stdout",
     "output_type": "stream",
     "text": [
      "Epoch 39: Train err: 0.24736731086649946, Train loss: 5070.421347375664 | Validation err: 0.244320108649436, Validation loss: 4939.439486042837\n"
     ]
    },
    {
     "name": "stderr",
     "output_type": "stream",
     "text": [
      " 41%|████      | 41/100 [37:07<52:19, 53.21s/it]"
     ]
    },
    {
     "name": "stdout",
     "output_type": "stream",
     "text": [
      "Epoch 40: Train err: 0.24765380630636125, Train loss: 5069.762445186541 | Validation err: 0.2444122614485494, Validation loss: 4971.490228202905\n"
     ]
    },
    {
     "name": "stderr",
     "output_type": "stream",
     "text": [
      " 42%|████▏     | 42/100 [38:00<51:13, 53.00s/it]"
     ]
    },
    {
     "name": "stdout",
     "output_type": "stream",
     "text": [
      "Epoch 41: Train err: 0.2471923065662086, Train loss: 5053.506082166663 | Validation err: 0.2432182826352923, Validation loss: 4925.027595434296\n"
     ]
    },
    {
     "name": "stderr",
     "output_type": "stream",
     "text": [
      " 43%|████▎     | 43/100 [38:58<51:54, 54.64s/it]"
     ]
    },
    {
     "name": "stdout",
     "output_type": "stream",
     "text": [
      "Epoch 42: Train err: 0.24694178031430553, Train loss: 5046.611374025268 | Validation err: 0.2445999531263716, Validation loss: 4919.601071475597\n"
     ]
    },
    {
     "name": "stderr",
     "output_type": "stream",
     "text": [
      " 44%|████▍     | 44/100 [39:51<50:30, 54.11s/it]"
     ]
    },
    {
     "name": "stdout",
     "output_type": "stream",
     "text": [
      "Epoch 43: Train err: 0.2469129973393094, Train loss: 5045.530795190872 | Validation err: 0.244988580768028, Validation loss: 4951.748712775413\n"
     ]
    },
    {
     "name": "stderr",
     "output_type": "stream",
     "text": [
      " 45%|████▌     | 45/100 [40:44<49:15, 53.74s/it]"
     ]
    },
    {
     "name": "stdout",
     "output_type": "stream",
     "text": [
      "Epoch 44: Train err: 0.24665395056434455, Train loss: 5039.39710196996 | Validation err: 0.24387681082393345, Validation loss: 4941.641477434822\n"
     ]
    },
    {
     "name": "stderr",
     "output_type": "stream",
     "text": [
      " 46%|████▌     | 46/100 [41:37<48:06, 53.46s/it]"
     ]
    },
    {
     "name": "stdout",
     "output_type": "stream",
     "text": [
      "Epoch 45: Train err: 0.24653311925407947, Train loss: 5035.719767125527 | Validation err: 0.2440966273961442, Validation loss: 4930.523233820883\n"
     ]
    },
    {
     "name": "stderr",
     "output_type": "stream",
     "text": [
      " 47%|████▋     | 47/100 [42:30<47:03, 53.28s/it]"
     ]
    },
    {
     "name": "stdout",
     "output_type": "stream",
     "text": [
      "Epoch 46: Train err: 0.2463433803579794, Train loss: 5023.32612376359 | Validation err: 0.24297478493679775, Validation loss: 4908.832771901334\n"
     ]
    },
    {
     "name": "stderr",
     "output_type": "stream",
     "text": [
      " 48%|████▊     | 48/100 [43:23<46:04, 53.16s/it]"
     ]
    },
    {
     "name": "stdout",
     "output_type": "stream",
     "text": [
      "Epoch 47: Train err: 0.24633112376664, Train loss: 5020.841875218064 | Validation err: 0.2445346103625351, Validation loss: 4904.8229088944\n"
     ]
    },
    {
     "name": "stderr",
     "output_type": "stream",
     "text": [
      " 49%|████▉     | 49/100 [44:22<46:39, 54.90s/it]"
     ]
    },
    {
     "name": "stdout",
     "output_type": "stream",
     "text": [
      "Epoch 48: Train err: 0.24641991257295245, Train loss: 5023.158299004712 | Validation err: 0.2433349737960301, Validation loss: 4911.645847277695\n"
     ]
    },
    {
     "name": "stderr",
     "output_type": "stream",
     "text": [
      " 50%|█████     | 50/100 [45:14<45:11, 54.22s/it]"
     ]
    },
    {
     "name": "stdout",
     "output_type": "stream",
     "text": [
      "Epoch 49: Train err: 0.24620770008246798, Train loss: 5010.66327075851 | Validation err: 0.243810010760018, Validation loss: 4892.898320230205\n"
     ]
    },
    {
     "name": "stderr",
     "output_type": "stream",
     "text": [
      " 51%|█████     | 51/100 [46:07<43:53, 53.75s/it]"
     ]
    },
    {
     "name": "stdout",
     "output_type": "stream",
     "text": [
      "Epoch 50: Train err: 0.2461228760833073, Train loss: 5012.533847939886 | Validation err: 0.2432471928971537, Validation loss: 4896.389575058155\n"
     ]
    },
    {
     "name": "stderr",
     "output_type": "stream",
     "text": [
      " 52%|█████▏    | 52/100 [47:00<42:46, 53.47s/it]"
     ]
    },
    {
     "name": "stdout",
     "output_type": "stream",
     "text": [
      "Epoch 51: Train err: 0.24591927942374883, Train loss: 5003.9627127042795 | Validation err: 0.2432588298669022, Validation loss: 4878.792697863632\n"
     ]
    },
    {
     "name": "stderr",
     "output_type": "stream",
     "text": [
      " 53%|█████▎    | 53/100 [47:52<41:42, 53.23s/it]"
     ]
    },
    {
     "name": "stdout",
     "output_type": "stream",
     "text": [
      "Epoch 52: Train err: 0.24584774134086118, Train loss: 5006.099247281362 | Validation err: 0.2435235870018434, Validation loss: 4915.9780897504825\n"
     ]
    },
    {
     "name": "stderr",
     "output_type": "stream",
     "text": [
      " 54%|█████▍    | 54/100 [48:46<40:47, 53.21s/it]"
     ]
    },
    {
     "name": "stdout",
     "output_type": "stream",
     "text": [
      "Epoch 53: Train err: 0.24580504341768816, Train loss: 5002.774302399806 | Validation err: 0.24284238493844365, Validation loss: 4898.96383152651\n"
     ]
    },
    {
     "name": "stderr",
     "output_type": "stream",
     "text": [
      " 55%|█████▌    | 55/100 [49:39<39:54, 53.20s/it]"
     ]
    },
    {
     "name": "stdout",
     "output_type": "stream",
     "text": [
      "Epoch 54: Train err: 0.24581571789848142, Train loss: 5001.840917983999 | Validation err: 0.2423041911607378, Validation loss: 4875.230195120479\n"
     ]
    },
    {
     "name": "stderr",
     "output_type": "stream",
     "text": [
      " 56%|█████▌    | 56/100 [50:32<38:57, 53.13s/it]"
     ]
    },
    {
     "name": "stdout",
     "output_type": "stream",
     "text": [
      "Epoch 55: Train err: 0.24563089688817535, Train loss: 5000.582406229261 | Validation err: 0.2428873683629411, Validation loss: 4902.144207557935\n"
     ]
    },
    {
     "name": "stderr",
     "output_type": "stream",
     "text": [
      " 57%|█████▋    | 57/100 [51:28<38:48, 54.15s/it]"
     ]
    },
    {
     "name": "stdout",
     "output_type": "stream",
     "text": [
      "Epoch 56: Train err: 0.24540785742431487, Train loss: 4985.874649572045 | Validation err: 0.2430360129709994, Validation loss: 4890.659824328476\n"
     ]
    },
    {
     "name": "stderr",
     "output_type": "stream",
     "text": [
      " 58%|█████▊    | 58/100 [52:21<37:34, 53.68s/it]"
     ]
    },
    {
     "name": "stdout",
     "output_type": "stream",
     "text": [
      "Epoch 57: Train err: 0.24538852898944996, Train loss: 4993.379057789504 | Validation err: 0.2421760130464361, Validation loss: 4879.504954820269\n"
     ]
    },
    {
     "name": "stderr",
     "output_type": "stream",
     "text": [
      " 59%|█████▉    | 59/100 [53:14<36:30, 53.42s/it]"
     ]
    },
    {
     "name": "stdout",
     "output_type": "stream",
     "text": [
      "Epoch 58: Train err: 0.2452096361282987, Train loss: 4981.314068004982 | Validation err: 0.24285040008887815, Validation loss: 4884.966207782874\n"
     ]
    },
    {
     "name": "stderr",
     "output_type": "stream",
     "text": [
      " 60%|██████    | 60/100 [54:06<35:29, 53.25s/it]"
     ]
    },
    {
     "name": "stdout",
     "output_type": "stream",
     "text": [
      "Epoch 59: Train err: 0.24537432811768037, Train loss: 4982.576379417405 | Validation err: 0.24124109075310524, Validation loss: 4881.55179347349\n"
     ]
    },
    {
     "name": "stderr",
     "output_type": "stream",
     "text": [
      " 61%|██████    | 61/100 [54:59<34:30, 53.08s/it]"
     ]
    },
    {
     "name": "stdout",
     "output_type": "stream",
     "text": [
      "Epoch 60: Train err: 0.2452246375861278, Train loss: 4982.722403874775 | Validation err: 0.2426717093821322, Validation loss: 4882.419923246576\n"
     ]
    },
    {
     "name": "stderr",
     "output_type": "stream",
     "text": [
      " 62%|██████▏   | 62/100 [56:00<35:03, 55.36s/it]"
     ]
    },
    {
     "name": "stdout",
     "output_type": "stream",
     "text": [
      "Epoch 61: Train err: 0.2449803635301179, Train loss: 4977.1350117099055 | Validation err: 0.24232429332947464, Validation loss: 4874.353421672006\n"
     ]
    },
    {
     "name": "stderr",
     "output_type": "stream",
     "text": [
      " 63%|██████▎   | 63/100 [56:53<33:42, 54.66s/it]"
     ]
    },
    {
     "name": "stdout",
     "output_type": "stream",
     "text": [
      "Epoch 62: Train err: 0.2448870380694683, Train loss: 4972.834530489062 | Validation err: 0.24242731158653003, Validation loss: 4859.7973523086375\n"
     ]
    },
    {
     "name": "stderr",
     "output_type": "stream",
     "text": [
      " 64%|██████▍   | 64/100 [57:46<32:28, 54.12s/it]"
     ]
    },
    {
     "name": "stdout",
     "output_type": "stream",
     "text": [
      "Epoch 63: Train err: 0.2448563489371877, Train loss: 4971.616272582626 | Validation err: 0.24238980754037923, Validation loss: 4871.90837800101\n"
     ]
    },
    {
     "name": "stderr",
     "output_type": "stream",
     "text": [
      " 65%|██████▌   | 65/100 [58:38<31:19, 53.71s/it]"
     ]
    },
    {
     "name": "stdout",
     "output_type": "stream",
     "text": [
      "Epoch 64: Train err: 0.24486902488312967, Train loss: 4974.654625687132 | Validation err: 0.24205544289578212, Validation loss: 4868.696917930346\n"
     ]
    },
    {
     "name": "stderr",
     "output_type": "stream",
     "text": [
      " 66%|██████▌   | 66/100 [59:32<30:23, 53.63s/it]"
     ]
    },
    {
     "name": "stdout",
     "output_type": "stream",
     "text": [
      "Epoch 65: Train err: 0.24473687099859462, Train loss: 4963.098591372641 | Validation err: 0.24272106470686666, Validation loss: 4865.363679692986\n"
     ]
    },
    {
     "name": "stderr",
     "output_type": "stream",
     "text": [
      " 67%|██████▋   | 67/100 [1:00:25<29:23, 53.45s/it]"
     ]
    },
    {
     "name": "stdout",
     "output_type": "stream",
     "text": [
      "Epoch 66: Train err: 0.24478265689656856, Train loss: 4974.433228263402 | Validation err: 0.2432540079181114, Validation loss: 4896.834859440835\n"
     ]
    },
    {
     "name": "stderr",
     "output_type": "stream",
     "text": [
      " 68%|██████▊   | 68/100 [1:01:18<28:24, 53.26s/it]"
     ]
    },
    {
     "name": "stdout",
     "output_type": "stream",
     "text": [
      "Epoch 67: Train err: 0.24458990627195892, Train loss: 4960.655962132127 | Validation err: 0.24114559473616354, Validation loss: 4875.738560365827\n"
     ]
    },
    {
     "name": "stderr",
     "output_type": "stream",
     "text": [
      " 69%|██████▉   | 69/100 [1:02:11<27:34, 53.38s/it]"
     ]
    },
    {
     "name": "stdout",
     "output_type": "stream",
     "text": [
      "Epoch 68: Train err: 0.24456051332663178, Train loss: 4963.681925404899 | Validation err: 0.24222903305225157, Validation loss: 4887.00753064102\n"
     ]
    },
    {
     "name": "stderr",
     "output_type": "stream",
     "text": [
      " 70%|███████   | 70/100 [1:03:36<31:19, 62.65s/it]"
     ]
    },
    {
     "name": "stdout",
     "output_type": "stream",
     "text": [
      "Epoch 69: Train err: 0.2445221423804946, Train loss: 4961.975703471158 | Validation err: 0.2420389625463593, Validation loss: 4863.374886844935\n"
     ]
    },
    {
     "name": "stderr",
     "output_type": "stream",
     "text": [
      " 71%|███████   | 71/100 [1:04:43<30:59, 64.13s/it]"
     ]
    },
    {
     "name": "stdout",
     "output_type": "stream",
     "text": [
      "Epoch 70: Train err: 0.24449000456867778, Train loss: 4957.132229406487 | Validation err: 0.24120752998952116, Validation loss: 4834.260322485077\n"
     ]
    },
    {
     "name": "stderr",
     "output_type": "stream",
     "text": [
      " 72%|███████▏  | 72/100 [1:05:40<28:57, 62.04s/it]"
     ]
    },
    {
     "name": "stdout",
     "output_type": "stream",
     "text": [
      "Epoch 71: Train err: 0.24435731696010307, Train loss: 4954.6584980456555 | Validation err: 0.24214995309208218, Validation loss: 4856.027975360999\n"
     ]
    },
    {
     "name": "stderr",
     "output_type": "stream",
     "text": [
      " 73%|███████▎  | 73/100 [1:06:38<27:18, 60.69s/it]"
     ]
    },
    {
     "name": "stdout",
     "output_type": "stream",
     "text": [
      "Epoch 72: Train err: 0.2442989694856242, Train loss: 4955.570951024567 | Validation err: 0.24208786782253994, Validation loss: 4859.960853833831\n"
     ]
    },
    {
     "name": "stderr",
     "output_type": "stream",
     "text": [
      " 74%|███████▍  | 74/100 [1:07:37<26:07, 60.30s/it]"
     ]
    },
    {
     "name": "stdout",
     "output_type": "stream",
     "text": [
      "Epoch 73: Train err: 0.24440992690115554, Train loss: 4954.622387039594 | Validation err: 0.2424650942341665, Validation loss: 4873.2055039995175\n"
     ]
    },
    {
     "name": "stderr",
     "output_type": "stream",
     "text": [
      " 75%|███████▌  | 75/100 [1:08:34<24:38, 59.15s/it]"
     ]
    },
    {
     "name": "stdout",
     "output_type": "stream",
     "text": [
      "Epoch 74: Train err: 0.24449059547743598, Train loss: 4956.945834367742 | Validation err: 0.2421590183558089, Validation loss: 4849.226253895277\n"
     ]
    },
    {
     "name": "stderr",
     "output_type": "stream",
     "text": [
      " 76%|███████▌  | 76/100 [1:09:27<22:53, 57.24s/it]"
     ]
    },
    {
     "name": "stdout",
     "output_type": "stream",
     "text": [
      "Epoch 75: Train err: 0.24439906180463383, Train loss: 4950.139231637148 | Validation err: 0.24211851398596604, Validation loss: 4928.8512552668535\n"
     ]
    },
    {
     "name": "stderr",
     "output_type": "stream",
     "text": [
      " 77%|███████▋  | 77/100 [1:10:19<21:24, 55.84s/it]"
     ]
    },
    {
     "name": "stdout",
     "output_type": "stream",
     "text": [
      "Epoch 76: Train err: 0.24415896223307698, Train loss: 4952.0478556416765 | Validation err: 0.24114081564913975, Validation loss: 4847.752671831109\n"
     ]
    },
    {
     "name": "stderr",
     "output_type": "stream",
     "text": [
      " 78%|███████▊  | 78/100 [1:11:12<20:06, 54.86s/it]"
     ]
    },
    {
     "name": "stdout",
     "output_type": "stream",
     "text": [
      "Epoch 77: Train err: 0.2441821792288023, Train loss: 4947.388808813339 | Validation err: 0.24154450920190704, Validation loss: 4812.673725256759\n"
     ]
    },
    {
     "name": "stderr",
     "output_type": "stream",
     "text": [
      " 79%|███████▉  | 79/100 [1:12:05<18:59, 54.28s/it]"
     ]
    },
    {
     "name": "stdout",
     "output_type": "stream",
     "text": [
      "Epoch 78: Train err: 0.24396114123009058, Train loss: 4940.078139563042 | Validation err: 0.24319286560744383, Validation loss: 4888.7098909870965\n"
     ]
    },
    {
     "name": "stderr",
     "output_type": "stream",
     "text": [
      " 80%|████████  | 80/100 [1:12:57<17:56, 53.82s/it]"
     ]
    },
    {
     "name": "stdout",
     "output_type": "stream",
     "text": [
      "Epoch 79: Train err: 0.2439013450760755, Train loss: 4938.102337009828 | Validation err: 0.24121706673268523, Validation loss: 4862.6036226079705\n"
     ]
    },
    {
     "name": "stderr",
     "output_type": "stream",
     "text": [
      " 81%|████████  | 81/100 [1:13:50<16:54, 53.37s/it]"
     ]
    },
    {
     "name": "stdout",
     "output_type": "stream",
     "text": [
      "Epoch 80: Train err: 0.24396441982061992, Train loss: 4941.483395921372 | Validation err: 0.24156591865453828, Validation loss: 4844.4906965962955\n"
     ]
    },
    {
     "name": "stderr",
     "output_type": "stream",
     "text": [
      " 82%|████████▏ | 82/100 [1:14:43<15:59, 53.32s/it]"
     ]
    },
    {
     "name": "stdout",
     "output_type": "stream",
     "text": [
      "Epoch 81: Train err: 0.2439881705403849, Train loss: 4940.631247659239 | Validation err: 0.24125238482871753, Validation loss: 4824.52274279648\n"
     ]
    },
    {
     "name": "stderr",
     "output_type": "stream",
     "text": [
      " 83%|████████▎ | 83/100 [1:15:38<15:15, 53.83s/it]"
     ]
    },
    {
     "name": "stdout",
     "output_type": "stream",
     "text": [
      "Epoch 82: Train err: 0.24396051219818668, Train loss: 4943.614081035474 | Validation err: 0.24207785959993855, Validation loss: 4845.749386905284\n"
     ]
    },
    {
     "name": "stderr",
     "output_type": "stream",
     "text": [
      " 84%|████████▍ | 84/100 [1:16:31<14:14, 53.44s/it]"
     ]
    },
    {
     "name": "stdout",
     "output_type": "stream",
     "text": [
      "Epoch 83: Train err: 0.24376311054980285, Train loss: 4934.111386796521 | Validation err: 0.2433669058124671, Validation loss: 4921.303580637728\n"
     ]
    },
    {
     "name": "stderr",
     "output_type": "stream",
     "text": [
      " 85%|████████▌ | 85/100 [1:17:23<13:17, 53.15s/it]"
     ]
    },
    {
     "name": "stdout",
     "output_type": "stream",
     "text": [
      "Epoch 84: Train err: 0.24400885234692185, Train loss: 4958.996738450517 | Validation err: 0.24006935719693645, Validation loss: 4823.313237222393\n"
     ]
    },
    {
     "name": "stderr",
     "output_type": "stream",
     "text": [
      " 86%|████████▌ | 86/100 [1:18:20<12:41, 54.36s/it]"
     ]
    },
    {
     "name": "stdout",
     "output_type": "stream",
     "text": [
      "Epoch 85: Train err: 0.24386991254245394, Train loss: 4934.560006631902 | Validation err: 0.24199337905712343, Validation loss: 4840.827537965239\n"
     ]
    },
    {
     "name": "stderr",
     "output_type": "stream",
     "text": [
      " 87%|████████▋ | 87/100 [1:19:13<11:42, 54.03s/it]"
     ]
    },
    {
     "name": "stdout",
     "output_type": "stream",
     "text": [
      "Epoch 86: Train err: 0.2438048553943336, Train loss: 4942.475570421379 | Validation err: 0.24055759558516943, Validation loss: 4815.765936347876\n"
     ]
    },
    {
     "name": "stderr",
     "output_type": "stream",
     "text": [
      " 88%|████████▊ | 88/100 [1:20:06<10:42, 53.54s/it]"
     ]
    },
    {
     "name": "stdout",
     "output_type": "stream",
     "text": [
      "Epoch 87: Train err: 0.24364834081970252, Train loss: 4929.453690137511 | Validation err: 0.24140252959862185, Validation loss: 4832.540803030635\n"
     ]
    },
    {
     "name": "stderr",
     "output_type": "stream",
     "text": [
      " 89%|████████▉ | 89/100 [1:20:58<09:45, 53.20s/it]"
     ]
    },
    {
     "name": "stdout",
     "output_type": "stream",
     "text": [
      "Epoch 88: Train err: 0.2437526457463109, Train loss: 4943.446141754665 | Validation err: 0.2418924610266525, Validation loss: 4850.757756265361\n"
     ]
    },
    {
     "name": "stderr",
     "output_type": "stream",
     "text": [
      " 90%|█████████ | 90/100 [1:21:58<09:12, 55.20s/it]"
     ]
    },
    {
     "name": "stdout",
     "output_type": "stream",
     "text": [
      "Epoch 89: Train err: 0.24365459301559572, Train loss: 4934.568562190135 | Validation err: 0.24151692765482355, Validation loss: 4861.371607405416\n"
     ]
    },
    {
     "name": "stderr",
     "output_type": "stream",
     "text": [
      " 91%|█████████ | 91/100 [1:22:51<08:11, 54.56s/it]"
     ]
    },
    {
     "name": "stdout",
     "output_type": "stream",
     "text": [
      "Epoch 90: Train err: 0.2435464567128455, Train loss: 4927.450050749531 | Validation err: 0.24110635478844802, Validation loss: 4842.043348676703\n"
     ]
    },
    {
     "name": "stderr",
     "output_type": "stream",
     "text": [
      " 92%|█████████▏| 92/100 [1:23:53<07:33, 56.69s/it]"
     ]
    },
    {
     "name": "stdout",
     "output_type": "stream",
     "text": [
      "Epoch 91: Train err: 0.24360457544845018, Train loss: 4933.4622802734375 | Validation err: 0.2410426622026422, Validation loss: 4840.5393621894755\n"
     ]
    },
    {
     "name": "stderr",
     "output_type": "stream",
     "text": [
      " 93%|█████████▎| 93/100 [1:24:46<06:28, 55.53s/it]"
     ]
    },
    {
     "name": "stdout",
     "output_type": "stream",
     "text": [
      "Epoch 92: Train err: 0.24356281154234657, Train loss: 4928.054080922629 | Validation err: 0.2416124665335323, Validation loss: 4841.589415818118\n"
     ]
    },
    {
     "name": "stderr",
     "output_type": "stream",
     "text": [
      " 94%|█████████▍| 94/100 [1:25:44<05:37, 56.25s/it]"
     ]
    },
    {
     "name": "stdout",
     "output_type": "stream",
     "text": [
      "Epoch 93: Train err: 0.24355286140132143, Train loss: 4932.252260626293 | Validation err: 0.24102131704266153, Validation loss: 4843.21718983168\n"
     ]
    },
    {
     "name": "stderr",
     "output_type": "stream",
     "text": [
      " 95%|█████████▌| 95/100 [1:26:40<04:41, 56.27s/it]"
     ]
    },
    {
     "name": "stdout",
     "output_type": "stream",
     "text": [
      "Epoch 94: Train err: 0.24360894054863172, Train loss: 4928.332639009189 | Validation err: 0.2404712505554885, Validation loss: 4799.302748776554\n"
     ]
    },
    {
     "name": "stderr",
     "output_type": "stream",
     "text": [
      " 96%|█████████▌| 96/100 [1:27:31<03:38, 54.75s/it]"
     ]
    },
    {
     "name": "stdout",
     "output_type": "stream",
     "text": [
      "Epoch 95: Train err: 0.243420631270495, Train loss: 4931.660097807217 | Validation err: 0.2418510779905855, Validation loss: 4831.605592191889\n"
     ]
    },
    {
     "name": "stderr",
     "output_type": "stream",
     "text": [
      " 97%|█████████▋| 97/100 [1:28:28<02:46, 55.54s/it]"
     ]
    },
    {
     "name": "stdout",
     "output_type": "stream",
     "text": [
      "Epoch 96: Train err: 0.24352358282543138, Train loss: 4924.107449781142 | Validation err: 0.2394637204288097, Validation loss: 4784.597015723753\n"
     ]
    },
    {
     "name": "stderr",
     "output_type": "stream",
     "text": [
      " 98%|█████████▊| 98/100 [1:29:21<01:49, 54.60s/it]"
     ]
    },
    {
     "name": "stdout",
     "output_type": "stream",
     "text": [
      "Epoch 97: Train err: 0.24337385417073312, Train loss: 4922.8069261292385 | Validation err: 0.24192919356099676, Validation loss: 4899.145935744382\n"
     ]
    },
    {
     "name": "stderr",
     "output_type": "stream",
     "text": [
      " 99%|█████████▉| 99/100 [1:30:21<00:56, 56.26s/it]"
     ]
    },
    {
     "name": "stdout",
     "output_type": "stream",
     "text": [
      "Epoch 98: Train err: 0.24323962257475795, Train loss: 4919.677264011629 | Validation err: 0.2409202704268895, Validation loss: 4820.046658976694\n"
     ]
    },
    {
     "name": "stderr",
     "output_type": "stream",
     "text": [
      "100%|██████████| 100/100 [1:31:16<00:00, 54.77s/it]\n"
     ]
    },
    {
     "name": "stdout",
     "output_type": "stream",
     "text": [
      "Epoch 99: Train err: 0.2433940403763761, Train loss: 4925.356688728785 | Validation err: 0.24075853154900367, Validation loss: 4823.700906474938\n",
      "Finished Training\n",
      "Total time elapsed: 5476.73 seconds\n"
     ]
    },
    {
     "data": {
      "image/png": "[encoded data removed]",
      "text/plain": [
       "<Figure size 432x288 with 1 Axes>"
      ]
     },
     "metadata": {
      "needs_background": "light"
     },
     "output_type": "display_data"
    },
    {
     "data": {
      "image/png": "[encoded data removed]",
      "text/plain": [
       "<Figure size 432x288 with 1 Axes>"
      ]
     },
     "metadata": {
      "needs_background": "light"
     },
     "output_type": "display_data"
    }
   ],
   "source": [
    "'''\n",
    "More epochs\n",
    "'''\n",
    "# net = VAENetSmall(\"ASL_small\", transfer_model=None, transfer_ftrs=1000)\n",
    "net = CVAE(128)\n",
    "net.name = \"cvae\"\n",
    "\n",
    "\n",
    "batch = 1\n",
    "lr = 0.0001\n",
    "m = 0.9\n",
    "epochs = 100\n",
    "\n",
    "train_network(net, batch_size=batch, lr=lr, momentum=m, num_epochs=epochs, cuda=True)\n",
    "model_path =  OUTPUT_DIR + get_model_name(net.name, batch, lr, m, epochs-1)\n",
    "plot_training_curve(model_path)"
   ]
  },
  {
   "cell_type": "code",
   "execution_count": 59,
   "metadata": {},
   "outputs": [
    {
     "data": {
      "image/png": "[encoded data removed]",
      "text/plain": [
       "<Figure size 432x288 with 1 Axes>"
      ]
     },
     "metadata": {
      "needs_background": "light"
     },
     "output_type": "display_data"
    },
    {
     "name": "stdout",
     "output_type": "stream",
     "text": [
      "torch.Size([1, 3, 128, 128])\n"
     ]
    },
    {
     "data": {
      "image/png": "[encoded data removed]",
      "text/plain": [
       "<Figure size 432x288 with 1 Axes>"
      ]
     },
     "metadata": {
      "needs_background": "light"
     },
     "output_type": "display_data"
    },
    {
     "name": "stdout",
     "output_type": "stream",
     "text": [
      "\n"
     ]
    }
   ],
   "source": [
    "train_dl, val_dl, _ = get_data_loaders(batch_size=1)\n",
    "\n",
    "net.eval()\n",
    "net = net.to('cpu')\n",
    "count = 0\n",
    "for data in train_dl:\n",
    "    count += 1\n",
    "    if count < 1:\n",
    "        continue\n",
    "    img, _, _ = data\n",
    "    imshow(img[0])\n",
    "    \n",
    "    out = net(img)\n",
    "    out = out[0].detach()\n",
    "    print(out.shape)\n",
    "    imshow(out[0])\n",
    "    print()\n",
    "    \n",
    "    break"
   ]
  },
  {
   "cell_type": "code",
   "execution_count": null,
   "metadata": {},
   "outputs": [],
   "source": []
  }
 ],
 "metadata": {
  "kernelspec": {
   "display_name": "Python 3",
   "language": "python",
   "name": "python3"
  },
  "language_info": {
   "codemirror_mode": {
    "name": "ipython",
    "version": 3
   },
   "file_extension": ".py",
   "mimetype": "text/x-python",
   "name": "python",
   "nbconvert_exporter": "python",
   "pygments_lexer": "ipython3",
   "version": "3.9.8"
  },
  "orig_nbformat": 4
 },
 "nbformat": 4,
 "nbformat_minor": 2
}
