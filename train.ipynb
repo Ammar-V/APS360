{
 "cells": [
  {
   "cell_type": "code",
   "execution_count": 126,
   "metadata": {},
   "outputs": [],
   "source": [
    "import torch\n",
    "import torch.nn as nn\n",
    "import torch.nn.functional as F\n",
    "import torch.optim as optim\n",
    "import matplotlib.pyplot as plt\n",
    "from torchvision import datasets, transforms"
   ]
  },
  {
   "cell_type": "code",
   "execution_count": 127,
   "metadata": {},
   "outputs": [
    {
     "ename": "TypeError",
     "evalue": "__init__() missing 1 required positional argument: 'sharpness_factor'",
     "output_type": "error",
     "traceback": [
      "\u001b[1;31m---------------------------------------------------------------------------\u001b[0m",
      "\u001b[1;31mTypeError\u001b[0m                                 Traceback (most recent call last)",
      "\u001b[1;32mc:\\Users\\ammar\\Documents\\Year2\\aps360\\APS360\\train.ipynb Cell 2\u001b[0m in \u001b[0;36m<cell line: 19>\u001b[1;34m()\u001b[0m\n\u001b[0;32m      <a href='vscode-notebook-cell:/c%3A/Users/ammar/Documents/Year2/aps360/APS360/train.ipynb#W1sZmlsZQ%3D%3D?line=4'>5</a>\u001b[0m \u001b[39mimport\u001b[39;00m \u001b[39mmath\u001b[39;00m\n\u001b[0;32m      <a href='vscode-notebook-cell:/c%3A/Users/ammar/Documents/Year2/aps360/APS360/train.ipynb#W1sZmlsZQ%3D%3D?line=6'>7</a>\u001b[0m class_names \u001b[39m=\u001b[39m {\n\u001b[0;32m      <a href='vscode-notebook-cell:/c%3A/Users/ammar/Documents/Year2/aps360/APS360/train.ipynb#W1sZmlsZQ%3D%3D?line=7'>8</a>\u001b[0m     \u001b[39m0\u001b[39m: \u001b[39m'\u001b[39m\u001b[39mA\u001b[39m\u001b[39m'\u001b[39m,\n\u001b[0;32m      <a href='vscode-notebook-cell:/c%3A/Users/ammar/Documents/Year2/aps360/APS360/train.ipynb#W1sZmlsZQ%3D%3D?line=8'>9</a>\u001b[0m     \u001b[39m1\u001b[39m: \u001b[39m'\u001b[39m\u001b[39mB\u001b[39m\u001b[39m'\u001b[39m,\n\u001b[1;32m   (...)\u001b[0m\n\u001b[0;32m     <a href='vscode-notebook-cell:/c%3A/Users/ammar/Documents/Year2/aps360/APS360/train.ipynb#W1sZmlsZQ%3D%3D?line=15'>16</a>\u001b[0m     \u001b[39m8\u001b[39m: \u001b[39m'\u001b[39m\u001b[39mI\u001b[39m\u001b[39m'\u001b[39m\n\u001b[0;32m     <a href='vscode-notebook-cell:/c%3A/Users/ammar/Documents/Year2/aps360/APS360/train.ipynb#W1sZmlsZQ%3D%3D?line=16'>17</a>\u001b[0m }\n\u001b[0;32m     <a href='vscode-notebook-cell:/c%3A/Users/ammar/Documents/Year2/aps360/APS360/train.ipynb#W1sZmlsZQ%3D%3D?line=18'>19</a>\u001b[0m transform \u001b[39m=\u001b[39m transforms\u001b[39m.\u001b[39mCompose([\n\u001b[0;32m     <a href='vscode-notebook-cell:/c%3A/Users/ammar/Documents/Year2/aps360/APS360/train.ipynb#W1sZmlsZQ%3D%3D?line=19'>20</a>\u001b[0m             \u001b[39m# transforms.RandomHorizontalFlip(), # Flip the data horizontally\u001b[39;00m\n\u001b[0;32m     <a href='vscode-notebook-cell:/c%3A/Users/ammar/Documents/Year2/aps360/APS360/train.ipynb#W1sZmlsZQ%3D%3D?line=20'>21</a>\u001b[0m             transforms\u001b[39m.\u001b[39mToPILImage(),\n\u001b[0;32m     <a href='vscode-notebook-cell:/c%3A/Users/ammar/Documents/Year2/aps360/APS360/train.ipynb#W1sZmlsZQ%3D%3D?line=21'>22</a>\u001b[0m             transforms\u001b[39m.\u001b[39mResize(\u001b[39m64\u001b[39m),\n\u001b[1;32m---> <a href='vscode-notebook-cell:/c%3A/Users/ammar/Documents/Year2/aps360/APS360/train.ipynb#W1sZmlsZQ%3D%3D?line=22'>23</a>\u001b[0m             transforms\u001b[39m.\u001b[39;49mRandomAdjustSharpness(),\n\u001b[0;32m     <a href='vscode-notebook-cell:/c%3A/Users/ammar/Documents/Year2/aps360/APS360/train.ipynb#W1sZmlsZQ%3D%3D?line=23'>24</a>\u001b[0m             transforms\u001b[39m.\u001b[39mRandomHorizontalFlip(),\n\u001b[0;32m     <a href='vscode-notebook-cell:/c%3A/Users/ammar/Documents/Year2/aps360/APS360/train.ipynb#W1sZmlsZQ%3D%3D?line=24'>25</a>\u001b[0m             transforms\u001b[39m.\u001b[39mToTensor(),\n\u001b[0;32m     <a href='vscode-notebook-cell:/c%3A/Users/ammar/Documents/Year2/aps360/APS360/train.ipynb#W1sZmlsZQ%3D%3D?line=25'>26</a>\u001b[0m             transforms\u001b[39m.\u001b[39mNormalize(mean\u001b[39m=\u001b[39m(\u001b[39m0.5\u001b[39m,\u001b[39m0.5\u001b[39m,\u001b[39m0.5\u001b[39m), std\u001b[39m=\u001b[39m(\u001b[39m0.5\u001b[39m,\u001b[39m0.5\u001b[39m,\u001b[39m0.5\u001b[39m))\n\u001b[0;32m     <a href='vscode-notebook-cell:/c%3A/Users/ammar/Documents/Year2/aps360/APS360/train.ipynb#W1sZmlsZQ%3D%3D?line=26'>27</a>\u001b[0m         ])\n\u001b[0;32m     <a href='vscode-notebook-cell:/c%3A/Users/ammar/Documents/Year2/aps360/APS360/train.ipynb#W1sZmlsZQ%3D%3D?line=28'>29</a>\u001b[0m \u001b[39m# Load the data with all of the classes\u001b[39;00m\n\u001b[0;32m     <a href='vscode-notebook-cell:/c%3A/Users/ammar/Documents/Year2/aps360/APS360/train.ipynb#W1sZmlsZQ%3D%3D?line=29'>30</a>\u001b[0m data \u001b[39m=\u001b[39m datasets\u001b[39m.\u001b[39mImageFolder(root\u001b[39m=\u001b[39m\u001b[39m'\u001b[39m\u001b[39m../lab3data\u001b[39m\u001b[39m'\u001b[39m, transform\u001b[39m=\u001b[39m\u001b[39mNone\u001b[39;00m)\n",
      "\u001b[1;31mTypeError\u001b[0m: __init__() missing 1 required positional argument: 'sharpness_factor'"
     ]
    }
   ],
   "source": [
    "from torchvision import datasets, transforms\n",
    "import matplotlib.pyplot as plt # for plotting\n",
    "import numpy as np\n",
    "import torch\n",
    "import math\n",
    "\n",
    "class_names = {\n",
    "    0: 'A',\n",
    "    1: 'B',\n",
    "    2: 'C',\n",
    "    3: 'D',\n",
    "    4: 'E',\n",
    "    5: 'F',\n",
    "    6: 'G',\n",
    "    7: 'H',\n",
    "    8: 'I'\n",
    "}\n",
    "\n",
    "transform = transforms.Compose([\n",
    "            # transforms.RandomHorizontalFlip(), # Flip the data horizontally\n",
    "            transforms.ToPILImage(),\n",
    "            transforms.Resize(64),\n",
    "            transforms.RandomAdjustSharpness(),\n",
    "            transforms.RandomHorizontalFlip(),\n",
    "            transforms.ToTensor(),\n",
    "            transforms.Normalize(mean=(0.5,0.5,0.5), std=(0.5,0.5,0.5))\n",
    "        ])\n",
    "\n",
    "# Load the data with all of the classes\n",
    "data = datasets.ImageFolder(root='../lab3data', transform=None)\n",
    "data_list = np.array(data.imgs)\n",
    "\n",
    "# Get the indices for the train/val/test split of 75/15/15\n",
    "train_split = math.floor(0.7 * len(data))\n",
    "val_split = math.ceil(0.15 * len(data))\n",
    "test_split = val_split\n",
    "\n",
    "# print(train_split + val_split + test_split, len(data_arr))\n",
    "\n",
    "# Make sure the splits are correct\n",
    "assert train_split + val_split + test_split == len(data)\n",
    "\n",
    "# Split the dataset randomely\n",
    "generator = torch.Generator().manual_seed(1)\n",
    "train, val, test = torch.utils.data.random_split(data, [train_split, val_split, test_split], generator=generator)\n",
    "\n",
    "len(train), len(val), len(test)\n"
   ]
  },
  {
   "cell_type": "code",
   "execution_count": 128,
   "metadata": {},
   "outputs": [],
   "source": [
    "import cv2\n",
    "\n",
    "class GenData(torch.utils.data.Dataset):\n",
    "    '''\n",
    "        Data set class to store the feature maps\n",
    "    \n",
    "    '''\n",
    "\n",
    "    def __init__(self, in_data, transform=None):\n",
    "        data = np.array(in_data)\n",
    "        self.input_dirs = data[:, 0]\n",
    "        self.labels = data[:, 1]\n",
    "        self.input_transform = transform[0]\n",
    "        self.transform = transform[1]\n",
    "        self.resize_transform = transforms.Compose([\n",
    "                                    transforms.ToPILImage(),\n",
    "                                    transforms.Resize(128)\n",
    "                                ])\n",
    "\n",
    "\n",
    "    def __len__(self):\n",
    "        return len(self.labels)\n",
    "    \n",
    "    def __getitem__(self, idx):\n",
    "        input_dir = self.input_dirs[idx]\n",
    "\n",
    "        # Load the data\n",
    "        inputs = cv2.imread(input_dir)\n",
    "        inputs = cv2.cvtColor(inputs, cv2.COLOR_BGR2RGB)\n",
    "        # inputs = inputs.swapaxes(0, 2)\n",
    "\n",
    "        labels = (int)(self.labels[idx])\n",
    "\n",
    "        if self.transform:\n",
    "            inputs = self.input_transform(inputs)\n",
    "            transformed = self.transform(inputs)\n",
    "\n",
    "            # labels = self.input_transform(labels)\n",
    "\n",
    "            return inputs, transformed, labels\n",
    "        else:\n",
    "            return inputs, inputs, labels"
   ]
  },
  {
   "cell_type": "code",
   "execution_count": 129,
   "metadata": {},
   "outputs": [],
   "source": [
    "# Create data loaders\n",
    "def get_data_loaders(batch_size=1):\n",
    "    \n",
    "    train_data = GenData(data_list[train.indices], transform=(transform, transform))\n",
    "    val_data = GenData(data_list[val.indices], transform=(transform, transform))\n",
    "    test_data = GenData(data_list[test.indices], transform=(transform, transform))\n",
    "\n",
    "    train_dataloader = torch.utils.data.DataLoader(train_data, batch_size=batch_size)\n",
    "    val_dataloader = torch.utils.data.DataLoader(val_data, batch_size=batch_size)\n",
    "    test_dataloader = torch.utils.data.DataLoader(test_data, batch_size=batch_size)\n",
    "\n",
    "    return train_dataloader, val_dataloader, test_dataloader\n",
    "\n"
   ]
  },
  {
   "cell_type": "code",
   "execution_count": 134,
   "metadata": {},
   "outputs": [
    {
     "data": {
      "image/png": "[encoded data removed]",
      "text/plain": [
       "<Figure size 432x288 with 1 Axes>"
      ]
     },
     "metadata": {
      "needs_background": "light"
     },
     "output_type": "display_data"
    }
   ],
   "source": [
    "'''Code to visualize the data in the training set'''\n",
    "\n",
    "import torchvision\n",
    "\n",
    "\n",
    "def imshow(inp, title=None):\n",
    "    \"\"\"Display image for Tensor.\"\"\"\n",
    "    inp = inp.numpy().transpose((1, 2, 0))\n",
    "    mean = np.array([0.5, 0.5, 0.5])\n",
    "    std = np.array([0.5, 0.5, 0.5])\n",
    "    inp = std * inp + mean\n",
    "    inp = np.clip(inp, 0, 1)\n",
    "    plt.imshow(inp)\n",
    "    if title is not None:\n",
    "        plt.title(title)\n",
    "    plt.pause(0.001)  # pause a bit so that plots are updated\n",
    "# Get a batch of training data\n",
    "train_dataloader, _, _ = get_data_loaders(4)\n",
    "inputs, _, classes = next(iter(train_dataloader))\n",
    "\n",
    "# Make a grid from batch\n",
    "out = torchvision.utils.make_grid(inputs)\n",
    "imshow(out, title=[class_names[x.item()] for x in classes])"
   ]
  },
  {
   "cell_type": "code",
   "execution_count": 135,
   "metadata": {},
   "outputs": [],
   "source": [
    "import torch.nn as nn\n",
    "import torch.nn.functional as F\n",
    "import torch.optim as optim\n",
    "\n",
    "\n",
    "\n",
    "class VAENet(nn.Module):\n",
    "    def __init__(self, name=\"BirdNet\", transfer_model=None, transfer_ftrs=64):\n",
    "        super(VAENet, self).__init__()\n",
    "\n",
    "        self.name = name\n",
    "        self.transfer_model = transfer_model\n",
    "        self.transfer_ftrs = transfer_ftrs\n",
    "\n",
    "        self.latent_dim = 100\n",
    "\n",
    "        self.front = nn.Sequential(\n",
    "            nn.Conv2d(in_channels=3, out_channels=96, kernel_size=11, stride=3), # 224 --> 72 = (224 + 0 - 11)/3 + 1\n",
    "            nn.MaxPool2d(kernel_size=3, stride=3), # 72 --> 24 = (72 + 0 - 3)/3 + 1\n",
    "            nn.ReLU(),\n",
    "            nn.BatchNorm2d(96),\n",
    "\n",
    "            nn.Conv2d(in_channels=96, out_channels=256, kernel_size=3, padding=1, stride=1), # 24 --> 24 = (24 + 2 - 3)/1 + 1\n",
    "            nn.MaxPool2d(kernel_size=4, stride=2), # 24 --> 11 (24 + 6 - 3)/3 + 1\n",
    "            nn.ReLU(),\n",
    "            nn.BatchNorm2d(256),\n",
    "\n",
    "            nn.Conv2d(in_channels=256, out_channels=384, kernel_size=3, padding=1, stride=1), # 11 --> 11 = (11 + 2 - 3)/1 + 1\n",
    "            nn.ReLU(),\n",
    "            nn.BatchNorm2d(384),\n",
    "\n",
    "            # nn.Conv2d(in_channels=384, out_channels=384, kernel_size=3, padding=1, stride=1), # 11 --> 11 = (11 + 2 - 3)/1 + 1\n",
    "            # nn.ReLU(),\n",
    "            # nn.BatchNorm2d(384),\n",
    "\n",
    "            nn.Conv2d(in_channels=384, out_channels=256, kernel_size=3, padding=1), # 11 --> 11 = (10 + 2 - 3)/1 + 1\n",
    "            nn.MaxPool2d(kernel_size=3, stride=2), # 11 --> 5 = (11 + 0 - 3)/2 + 1\n",
    "            nn.ReLU(),\n",
    "            nn.BatchNorm2d(256),\n",
    "\n",
    "        )\n",
    "\n",
    "        self.muFC = nn.Linear(5 * 5 * 256, self.latent_dim)\n",
    "        self.logvarFC = nn.Linear(5 * 5 * 256, self.latent_dim)\n",
    "\n",
    "        self.transfer_muFC = nn.Linear(self.transfer_ftrs, self.latent_dim)\n",
    "        self.transfer_logvarFC = nn.Linear(self.transfer_ftrs, self.latent_dim)\n",
    "\n",
    "        self.latentFC = nn.Linear(self.latent_dim, 5 * 5 * 256)\n",
    "\n",
    "        self.back = nn.Sequential(\n",
    "            nn.ConvTranspose2d(in_channels=256, out_channels=384, kernel_size=3, stride=2, padding=0, output_padding=0), # 5 -> 11\n",
    "            nn.ReLU(),\n",
    "            nn.BatchNorm2d(384),\n",
    "\n",
    "            nn.ConvTranspose2d(in_channels=384, out_channels=256, kernel_size=3, padding=0, stride=2, output_padding=1), # 11 -> 24\n",
    "            nn.ReLU(),\n",
    "            nn.BatchNorm2d(256),\n",
    "\n",
    "            nn.ConvTranspose2d(in_channels=256, out_channels=96, kernel_size=3, padding=0, stride=3, output_padding=0), # 24 -> 72\n",
    "            nn.ReLU(),\n",
    "            nn.BatchNorm2d(96),\n",
    "\n",
    "            nn.ConvTranspose2d(in_channels=96, out_channels=3, kernel_size=11, padding=0, stride=3, output_padding=0), # 72 -> 224\n",
    "            # nn.ReLU()\n",
    "        )\n",
    "\n",
    "    def encoder(self, x):\n",
    "\n",
    "        mu, logvar = None, None\n",
    "\n",
    "        if not self.transfer_model:\n",
    "            x = self.front(x)\n",
    "            x = x.view(-1, 5 * 5 * 256)\n",
    "\n",
    "            mu = self.muFC(x)\n",
    "            logvar = self.logvarFC(x)\n",
    "\n",
    "        else:\n",
    "            x = self.transfer_model(x)\n",
    "            x = x.view(-1, self.transfer_ftrs)\n",
    "\n",
    "            mu = self.transfer_muFC(x)\n",
    "            logvar = self.transfer_logvarFC(x)\n",
    "\n",
    "        return mu, logvar\n",
    "    \n",
    "    def reparameterize(self, mu, logvar):\n",
    "        std = logvar.mul(0.5).exp_()\n",
    "        eps = std.data.new(std.size()).normal_()\n",
    "        return eps.mul(std).add_(mu)\n",
    "    \n",
    "    def decoder (self, x):\n",
    "        x = self.latentFC(x)\n",
    "        x = x.view(-1, 256, 5, 5)\n",
    "\n",
    "        x = self.back(x)\n",
    "        x = F.softmax(x, 0)\n",
    "\n",
    "        return x\n",
    "\n",
    "    def forward(self, x):\n",
    "        # x = self.forward_pass(x)\n",
    "        # x = x.squeeze(1)\n",
    "        # x = F.softmax(x, dim=1)\n",
    "\n",
    "        mu, logvar = self.encoder(x)\n",
    "        z = self.reparameterize(mu, logvar)\n",
    "        y = self.decoder(z)\n",
    "        \n",
    "        return y, z, mu, logvar"
   ]
  },
  {
   "cell_type": "code",
   "execution_count": 136,
   "metadata": {},
   "outputs": [],
   "source": [
    "import torch.nn as nn\n",
    "import torch.nn.functional as F\n",
    "import torch.optim as optim\n",
    "\n",
    "\n",
    "\n",
    "class VAENetSmall(nn.Module):\n",
    "    def __init__(self, name=\"BirdNet\", transfer_model=None, transfer_ftrs=64):\n",
    "        super(VAENetSmall, self).__init__()\n",
    "\n",
    "        self.name = name\n",
    "        self.transfer_model = transfer_model\n",
    "        self.transfer_ftrs = transfer_ftrs\n",
    "\n",
    "        self.latent_dim = 256\n",
    "\n",
    "        self.front = nn.Sequential(\n",
    "            nn.Conv2d(in_channels=3, out_channels=36, kernel_size=11, stride=3), # 224 --> 40 = (128 + 0 - 11)/3 + 1\n",
    "            # nn.MaxPool2d(kernel_size=3, stride=3), # 72 --> 24 = (72 + 0 - 3)/3 + 1\n",
    "            nn.ReLU(),\n",
    "            nn.BatchNorm2d(36),\n",
    "            nn.Dropout(0.5),\n",
    "\n",
    "            nn.Conv2d(in_channels=36, out_channels=64, kernel_size=3, padding=1, stride=2), # 40 --> 20 = (40 + 2 - 3)/2 + 1\n",
    "            # nn.MaxPool2d(kernel_size=4, stride=2), # 24 --> 11 (24 + 6 - 3)/3 + 1\n",
    "            nn.ReLU(),\n",
    "            nn.BatchNorm2d(64),\n",
    "            nn.Dropout(0.5),\n",
    "\n",
    "            nn.Conv2d(in_channels=64, out_channels=128, kernel_size=3, padding=1, stride=2), # 20 --> 10 = (20 + 2 - 3)/2 + 1\n",
    "            nn.ReLU(),\n",
    "            nn.BatchNorm2d(128),\n",
    "            nn.Dropout(0.5),\n",
    "\n",
    "            # nn.Conv2d(in_channels=384, out_channels=384, kernel_size=3, padding=1, stride=1), # 11 --> 11 = (11 + 2 - 3)/1 + 1\n",
    "            # nn.ReLU(),\n",
    "            # nn.BatchNorm2d(384),\n",
    "\n",
    "            nn.Conv2d(in_channels=128, out_channels=64, kernel_size=3, padding=1, stride=2), # 10 --> 5 = (10 + 2 - 3)/1 + 1\n",
    "            # nn.MaxPool2d(kernel_size=3, stride=2), # 11 --> 5 = (11 + 0 - 3)/2 + 1\n",
    "            nn.ReLU(),\n",
    "            nn.BatchNorm2d(64),\n",
    "\n",
    "        )\n",
    "\n",
    "        self.muFC = nn.Linear(5 * 5 * 64, self.latent_dim)\n",
    "        self.logvarFC = nn.Linear(5 * 5 * 64, self.latent_dim)\n",
    "\n",
    "        self.transfer_muFC = nn.Linear(self.transfer_ftrs, self.latent_dim)\n",
    "        self.transfer_logvarFC = nn.Linear(self.transfer_ftrs, self.latent_dim)\n",
    "\n",
    "        self.latentFC = nn.Linear(self.latent_dim, 5 * 5 * 64)\n",
    "\n",
    "        self.back = nn.Sequential(\n",
    "            #nn.ConvTranspose2d(in_channels=64, out_channels=128, kernel_size=3, stride=2, padding=0, output_padding=0), # 5 -> 11\n",
    "            nn.ConvTranspose2d(in_channels=64, out_channels=128, kernel_size=3, stride=2, padding=1, output_padding=1), # 5 -> 10\n",
    "            nn.ReLU(),\n",
    "            nn.BatchNorm2d(128),\n",
    "            nn.Dropout(0.5),\n",
    "\n",
    "            nn.ConvTranspose2d(in_channels=128, out_channels=64, kernel_size=3, padding=1, stride=2, output_padding=1), # 10 -> 20\n",
    "            nn.ReLU(),\n",
    "            nn.BatchNorm2d(64),\n",
    "            nn.Dropout(0.5),\n",
    "\n",
    "            nn.ConvTranspose2d(in_channels=64, out_channels=32, kernel_size=3, padding=1, stride=2, output_padding=1), # 20 -> 40\n",
    "            nn.ReLU(),\n",
    "            nn.BatchNorm2d(32),\n",
    "            nn.Dropout(0.5),\n",
    "\n",
    "            nn.ConvTranspose2d(in_channels=32, out_channels=3, kernel_size=11, padding=0, stride=3, output_padding=0), # 40 -> 128\n",
    "            # nn.ReLU()\n",
    "        )\n",
    "\n",
    "    def encoder(self, x):\n",
    "\n",
    "        mu, logvar = None, None\n",
    "\n",
    "        if not self.transfer_model:\n",
    "            x = self.front(x)\n",
    "            x = x.view(-1, 5 * 5 * 64)\n",
    "\n",
    "            mu = self.muFC(x)\n",
    "            logvar = self.logvarFC(x)\n",
    "\n",
    "        else:\n",
    "            x = self.transfer_model(x)\n",
    "            x = x.view(-1, self.transfer_ftrs)\n",
    "\n",
    "            mu = self.transfer_muFC(x)\n",
    "            logvar = self.transfer_logvarFC(x)\n",
    "\n",
    "        return mu, logvar\n",
    "    \n",
    "    def reparameterize(self, mu, logvar):\n",
    "        std = logvar.mul(0.5).exp_()\n",
    "        eps = std.data.new(std.size()).normal_()\n",
    "        return eps.mul(std).add_(mu)\n",
    "    \n",
    "    def decoder (self, x):\n",
    "        x = self.latentFC(x)\n",
    "        x = x.view(-1, 64, 5, 5)\n",
    "\n",
    "        x = self.back(x)\n",
    "        x = F.softmax(x)\n",
    "\n",
    "        return x\n",
    "\n",
    "    def forward(self, x):\n",
    "        # x = self.forward_pass(x)\n",
    "        # x = x.squeeze(1)\n",
    "        # x = F.softmax(x, dim=1)\n",
    "\n",
    "        mu, logvar = self.encoder(x)\n",
    "        z = self.reparameterize(mu, logvar)\n",
    "        y = self.decoder(z)\n",
    "        \n",
    "        return y, z, mu, logvar"
   ]
  },
  {
   "cell_type": "code",
   "execution_count": 137,
   "metadata": {},
   "outputs": [
    {
     "name": "stdout",
     "output_type": "stream",
     "text": [
      "----------------------------------------------------------------\n",
      "        Layer (type)               Output Shape         Param #\n",
      "================================================================\n",
      "            Conv2d-1           [-1, 36, 40, 40]          13,104\n",
      "              ReLU-2           [-1, 36, 40, 40]               0\n",
      "       BatchNorm2d-3           [-1, 36, 40, 40]              72\n",
      "           Dropout-4           [-1, 36, 40, 40]               0\n",
      "            Conv2d-5           [-1, 64, 20, 20]          20,800\n",
      "              ReLU-6           [-1, 64, 20, 20]               0\n",
      "       BatchNorm2d-7           [-1, 64, 20, 20]             128\n",
      "           Dropout-8           [-1, 64, 20, 20]               0\n",
      "            Conv2d-9          [-1, 128, 10, 10]          73,856\n",
      "             ReLU-10          [-1, 128, 10, 10]               0\n",
      "      BatchNorm2d-11          [-1, 128, 10, 10]             256\n",
      "          Dropout-12          [-1, 128, 10, 10]               0\n",
      "           Conv2d-13             [-1, 64, 5, 5]          73,792\n",
      "             ReLU-14             [-1, 64, 5, 5]               0\n",
      "      BatchNorm2d-15             [-1, 64, 5, 5]             128\n",
      "           Linear-16                  [-1, 256]         409,856\n",
      "           Linear-17                  [-1, 256]         409,856\n",
      "           Linear-18                 [-1, 1600]         411,200\n",
      "  ConvTranspose2d-19          [-1, 128, 10, 10]          73,856\n",
      "             ReLU-20          [-1, 128, 10, 10]               0\n",
      "      BatchNorm2d-21          [-1, 128, 10, 10]             256\n",
      "          Dropout-22          [-1, 128, 10, 10]               0\n",
      "  ConvTranspose2d-23           [-1, 64, 20, 20]          73,792\n",
      "             ReLU-24           [-1, 64, 20, 20]               0\n",
      "      BatchNorm2d-25           [-1, 64, 20, 20]             128\n",
      "          Dropout-26           [-1, 64, 20, 20]               0\n",
      "  ConvTranspose2d-27           [-1, 32, 40, 40]          18,464\n",
      "             ReLU-28           [-1, 32, 40, 40]               0\n",
      "      BatchNorm2d-29           [-1, 32, 40, 40]              64\n",
      "          Dropout-30           [-1, 32, 40, 40]               0\n",
      "  ConvTranspose2d-31          [-1, 3, 128, 128]          11,619\n",
      "================================================================\n",
      "Total params: 1,591,227\n",
      "Trainable params: 1,591,227\n",
      "Non-trainable params: 0\n",
      "----------------------------------------------------------------\n",
      "Input size (MB): 0.19\n",
      "Forward/backward pass size (MB): 6.09\n",
      "Params size (MB): 6.07\n",
      "Estimated Total Size (MB): 12.35\n",
      "----------------------------------------------------------------\n"
     ]
    },
    {
     "name": "stderr",
     "output_type": "stream",
     "text": [
      "C:\\Users\\ammar\\AppData\\Local\\Temp\\ipykernel_25564\\2234998305.py:105: UserWarning: Implicit dimension choice for softmax has been deprecated. Change the call to include dim=X as an argument.\n",
      "  x = F.softmax(x)\n"
     ]
    }
   ],
   "source": [
    "from torchsummary import summary\n",
    "\n",
    "model = VAENetSmall()\n",
    "model.to('cuda:0')\n",
    "\n",
    "summary(model, (3, 128, 128))"
   ]
  },
  {
   "cell_type": "code",
   "execution_count": 138,
   "metadata": {},
   "outputs": [],
   "source": [
    "'''\n",
    "Loss function\n",
    "'''\n",
    "\n",
    "def vaekl_loss(recon_x, x, mu, logvar, batch_size):\n",
    "    kld = -0.5 * torch.sum(1 + logvar - mu.pow(2) - logvar.exp())\n",
    "    kld /= batch_size * 3 * 128 * 128\n",
    "    return kld"
   ]
  },
  {
   "cell_type": "code",
   "execution_count": 139,
   "metadata": {},
   "outputs": [],
   "source": [
    "'''\n",
    "Helper functions (based off of previous labs)\n",
    "'''\n",
    "\n",
    "def calculate_error(inputs, target):\n",
    "    difference = torch.abs(target - inputs)\n",
    "    mean_error = torch.mean(difference, dim=-1) # mean along width\n",
    "    mean_error = torch.mean(mean_error, dim=-1) # mean along height\n",
    "    mean_error = torch.mean(mean_error, dim=-1) # mean along channel\n",
    "\n",
    "    # print(difference.size())\n",
    "    # print(mean_error.size())\n",
    "    # print(mean_error)\n",
    "\n",
    "    return mean_error.sum()  \n",
    "\n",
    "\n",
    "def evaluate(model, loader, criterion, cuda=False, batch_size=64, alex=False):\n",
    "    '''\n",
    "    Function to evaluate the model's performance on a val/test set\n",
    "    '''\n",
    "\n",
    "\n",
    "    total_loss = 0.0\n",
    "    total_err = 0.0\n",
    "    total_epoch = 0\n",
    "    for i, data in enumerate(loader, 0):\n",
    "        inputs, transformed, labels = data\n",
    "\n",
    "        ########## SENDING TO CUDA ############\n",
    "        if cuda:\n",
    "            inputs = inputs.to('cuda:0')\n",
    "            transformed = transformed.to('cuda:0')\n",
    "            \n",
    "        \n",
    "\n",
    "        outputs, latent_vector, mu, logvar = model(transformed)\n",
    "\n",
    "        if alex:\n",
    "            labels = labels.squeeze(1)\n",
    "\n",
    "        # loss = 200 * criterion(outputs, inputs.float()) + 200 * vaekl_loss(outputs, inputs, mu, logvar, batch_size)\n",
    "        loss =  model.loss_function(outputs, inputs, mu, logvar, M_N=1000)['loss']\n",
    "\n",
    "\n",
    "        # Find the mean error over the image\n",
    "        output_err = calculate_error(outputs, inputs) \n",
    "\n",
    "        total_err += output_err\n",
    "        total_loss += loss.item()\n",
    "        total_epoch += len(labels)\n",
    "    err = float(total_err) / total_epoch\n",
    "    loss = float(total_loss) / (i + 1)\n",
    "    return err, loss\n",
    "\n",
    "\n",
    "def get_model_name(name, batch_size, learning_rate, momentum, epoch):\n",
    "    \"\"\" Generate a name for the model consisting of all the hyperparameter values\n",
    "\n",
    "    Args:\n",
    "        config: Configuration object containing the hyperparameters\n",
    "    Returns:\n",
    "        path: A string with the hyperparameter name and value concatenated\n",
    "    \"\"\"\n",
    "    path = \"model_{0}_bs{1}_lr{2}_m{3}_epoch{4}\".format(name,\n",
    "                                                   batch_size,\n",
    "                                                   learning_rate,\n",
    "                                                   momentum,\n",
    "                                                   epoch)\n",
    "    return path\n",
    "\n",
    "\n",
    "# Training Curve\n",
    "def plot_training_curve(path):\n",
    "    \"\"\" Plots the training curve for a model run, given the csv files\n",
    "    containing the train/validation error/loss.\n",
    "\n",
    "    Args:\n",
    "        path: The base path of the csv files produced during training\n",
    "    \"\"\"\n",
    "    import matplotlib.pyplot as plt\n",
    "    train_err = np.loadtxt(\"{}_train_err.csv\".format(path))\n",
    "    val_err = np.loadtxt(\"{}_val_err.csv\".format(path))\n",
    "    train_loss = np.loadtxt(\"{}_train_loss.csv\".format(path))\n",
    "    val_loss = np.loadtxt(\"{}_val_loss.csv\".format(path))\n",
    "    plt.title(\"Train vs Validation Error\")\n",
    "    n = len(train_err) # number of epochs\n",
    "    plt.plot(range(1,n+1), train_err, label=\"Train\")\n",
    "    plt.plot(range(1,n+1), val_err, label=\"Validation\")\n",
    "    plt.xlabel(\"Epoch\")\n",
    "    plt.ylabel(\"Error\")\n",
    "    plt.legend(loc='best')\n",
    "    plt.show()\n",
    "    plt.title(\"Train vs Validation Loss\")\n",
    "    plt.plot(range(1,n+1), train_loss, label=\"Train\")\n",
    "    plt.plot(range(1,n+1), val_loss, label=\"Validation\")\n",
    "    plt.xlabel(\"Epoch\")\n",
    "    plt.ylabel(\"Loss\")\n",
    "    plt.legend(loc='best')\n",
    "    plt.show()\n"
   ]
  },
  {
   "cell_type": "code",
   "execution_count": 140,
   "metadata": {},
   "outputs": [],
   "source": [
    "'''\n",
    "Train Loop\n",
    "'''\n",
    "\n",
    "import tqdm\n",
    "import time\n",
    "from torch.optim import lr_scheduler\n",
    "\n",
    "OUTPUT_DIR = 'runs/'\n",
    "\n",
    "def train_network(model, batch_size=32, lr=0.005, momentum=0.9, num_epochs=30, cuda=True, loader=None, alex=False, sheduler=False):\n",
    "\n",
    "    # Set manual seed for reproducible results\n",
    "    torch.manual_seed(1)\n",
    "\n",
    "    # Get the dataloaders with respective batch size\n",
    "    train_dl, val_dl, _ = get_data_loaders(batch_size=batch_size)\n",
    "\n",
    "    # Criterion and optimizer\n",
    "    criterion = nn.MSELoss()\n",
    "    # optimizer =  optim.SGD(model.parameters(), lr=lr, momentum=momentum)\n",
    "    optimizer =  optim.Adam(model.parameters(), lr=lr)\n",
    "\n",
    "    if sheduler:\n",
    "        exp_lr_scheduler = lr_scheduler.StepLR(optimizer, step_size=20, gamma=0.1)\n",
    "\n",
    "\n",
    "\n",
    "    # Training metrics\n",
    "    train_err = np.zeros(num_epochs)\n",
    "    train_loss = np.zeros(num_epochs)\n",
    "    val_err = np.zeros(num_epochs)\n",
    "    val_loss = np.zeros(num_epochs)\n",
    "\n",
    "    best_train_err = 1000\n",
    "    best_val_err = 1000\n",
    "\n",
    "    ########## SENDING TO CUDA ############\n",
    "    if cuda:\n",
    "        model = model.to('cuda:0')\n",
    "\n",
    "    start_time = time.time()\n",
    "    model.train()\n",
    "\n",
    "    # Train loop\n",
    "    for epoch in tqdm.tqdm(range(num_epochs)):\n",
    "        total_train_loss = 0.0\n",
    "        total_train_err = 0.0\n",
    "        total_epoch = 0\n",
    "\n",
    "        for i, data in enumerate(train_dl if not loader else loader):\n",
    "\n",
    "            inputs, transformed, labels = data\n",
    "\n",
    "\n",
    "            ########## SENDING TO CUDA ############\n",
    "            if cuda:\n",
    "                inputs = inputs.to('cuda:0')\n",
    "                transformed = transformed.to('cuda:0')\n",
    "\n",
    "            # Zero the parameter gradients\n",
    "            optimizer.zero_grad()\n",
    "            # Forward pass, backward pass, and optimize\n",
    "            outputs, latent_vector, mu, logvar = model(transformed)\n",
    "\n",
    "            if alex:\n",
    "                labels = labels.squeeze(1)\n",
    "\n",
    "            # loss = 200 * criterion(outputs, inputs.float()) + 200 * vaekl_loss(outputs, inputs, mu, logvar, batch_size)\n",
    "            loss =  model.loss_function(outputs, inputs, mu, logvar, M_N=1000)['loss']\n",
    "            loss.backward()\n",
    "            optimizer.step()\n",
    "\n",
    "            # Find the mean error over the image\n",
    "            output_err = calculate_error(outputs, inputs)\n",
    "\n",
    "            total_train_err += output_err\n",
    "            total_train_loss += loss.item()\n",
    "            total_epoch += len(labels)\n",
    "\n",
    "        if sheduler:\n",
    "            exp_lr_scheduler.step()\n",
    "\n",
    "        train_err[epoch] = float(total_train_err) / (total_epoch)\n",
    "        train_loss[epoch] = float(total_train_loss) / (i + 1)\n",
    "        val_err[epoch], val_loss[epoch] = evaluate(model, val_dl if not loader else loader, criterion, cuda, batch_size, alex)\n",
    "\n",
    "        tqdm.tqdm.write(f'Epoch {epoch}: Train err: {train_err[epoch]}, Train loss: {train_loss[epoch]} | Validation err: {val_err[epoch]}, Validation loss: {val_loss[epoch]}')\n",
    "\n",
    "        # Check whether a better train/val err has been found\n",
    "        better = False\n",
    "        if train_err[epoch] < best_train_err:\n",
    "            best_train_err = train_err[epoch]\n",
    "            better = True\n",
    "        if val_err[epoch] < best_val_err:\n",
    "            best_val_err = val_err[epoch]\n",
    "            better = True\n",
    "\n",
    "        if better or epoch == (num_epochs - 1):\n",
    "            model_path = OUTPUT_DIR + get_model_name(model.name, batch_size, lr, momentum, epoch)\n",
    "\n",
    "            torch.save(model.state_dict(), model_path)\n",
    "\n",
    "    print('Finished Training')\n",
    "    end_time = time.time()\n",
    "    elapsed_time = end_time - start_time\n",
    "    print(\"Total time elapsed: {:.2f} seconds\".format(elapsed_time))\n",
    "    # Write the train/test loss/err into CSV file for plotting later\n",
    "    epochs = np.arange(1, num_epochs + 1)\n",
    "    np.savetxt(\"{}_train_err.csv\".format(model_path), train_err)\n",
    "    np.savetxt(\"{}_train_loss.csv\".format(model_path), train_loss)\n",
    "    np.savetxt(\"{}_val_err.csv\".format(model_path), val_err)\n",
    "    np.savetxt(\"{}_val_loss.csv\".format(model_path), val_loss)\n",
    "\n"
   ]
  },
  {
   "cell_type": "code",
   "execution_count": 12,
   "metadata": {},
   "outputs": [
    {
     "name": "stdout",
     "output_type": "stream",
     "text": [
      "62\n"
     ]
    }
   ],
   "source": [
    "from torchvision import models\n",
    "\n",
    "\n",
    "model_ft = models.resnet18(pretrained=True) # IMAGENET1K_V1\n",
    "model_ft.name = 'resent_small'\n",
    "count = 0\n",
    "for param in model_ft.parameters():\n",
    "    # if count > 30:\n",
    "    #     break\n",
    "    param.requires_grad = False\n",
    "    count += 1\n",
    "\n",
    "print(count)\n",
    "num_ftrs = model_ft.fc.in_features"
   ]
  },
  {
   "cell_type": "code",
   "execution_count": 166,
   "metadata": {},
   "outputs": [],
   "source": [
    "from typing import List, Callable, Union, Any, TypeVar, Tuple\n",
    "# from torch import tensor as Tensor\n",
    "\n",
    "Tensor = TypeVar('torch.tensor')\n",
    "\n",
    "from torch import nn\n",
    "from abc import abstractmethod\n",
    "\n",
    "class BaseVAE(nn.Module):\n",
    "    \n",
    "    def __init__(self) -> None:\n",
    "        super(BaseVAE, self).__init__()\n",
    "\n",
    "    def encode(self, input: Tensor) -> List[Tensor]:\n",
    "        raise NotImplementedError\n",
    "\n",
    "    def decode(self, input: Tensor) -> Any:\n",
    "        raise NotImplementedError\n",
    "\n",
    "    def sample(self, batch_size:int, current_device: int, **kwargs) -> Tensor:\n",
    "        raise NotImplementedError\n",
    "\n",
    "    def generate(self, x: Tensor, **kwargs) -> Tensor:\n",
    "        raise NotImplementedError\n",
    "\n",
    "    @abstractmethod\n",
    "    def forward(self, *inputs: Tensor) -> Tensor:\n",
    "        pass\n",
    "\n",
    "    @abstractmethod\n",
    "    def loss_function(self, *inputs: Any, **kwargs) -> Tensor:\n",
    "        pass\n",
    "\n",
    "import torch\n",
    "# from models import BaseVAE\n",
    "from torch import nn\n",
    "from torch.nn import functional as F\n",
    "# from .types_ import *\n",
    "\n",
    "\n",
    "class VanillaVAE(BaseVAE):\n",
    "\n",
    "\n",
    "    def __init__(self,\n",
    "                 in_channels: int,\n",
    "                 latent_dim: int,\n",
    "                 hidden_dims: List = None,\n",
    "                 **kwargs) -> None:\n",
    "        super(VanillaVAE, self).__init__()\n",
    "\n",
    "        self.latent_dim = latent_dim\n",
    "\n",
    "        self.encoder_modules = []\n",
    "        if hidden_dims is None:\n",
    "            hidden_dims = [32, 64, 128, 256, 512]\n",
    "\n",
    "        # Build Encoder\n",
    "        for h_dim in hidden_dims:\n",
    "            self.encoder_modules.append(\n",
    "                nn.Sequential(\n",
    "                    nn.Conv2d(in_channels, out_channels=h_dim,\n",
    "                              kernel_size= 3, stride= 2, padding  = 1),\n",
    "                    nn.BatchNorm2d(h_dim),\n",
    "                    nn.LeakyReLU(),\n",
    "                    nn.Dropout(0.4))\n",
    "            )\n",
    "            in_channels = h_dim\n",
    "\n",
    "        self.encoder = nn.Sequential(*self.encoder_modules)\n",
    "        self.fc_mu = nn.Linear(hidden_dims[-1]*4, latent_dim)\n",
    "        self.fc_var = nn.Linear(hidden_dims[-1]*4, latent_dim)\n",
    "\n",
    "\n",
    "        # Build Decoder\n",
    "        self.decoder_modules = []\n",
    "\n",
    "        self.decoder_input = nn.Linear(latent_dim, hidden_dims[-1] * 4)\n",
    "\n",
    "        hidden_dims.reverse()\n",
    "\n",
    "        for i in range(len(hidden_dims) - 1):\n",
    "            self.decoder_modules.append(\n",
    "                nn.Sequential(\n",
    "                    nn.ConvTranspose2d(hidden_dims[i],\n",
    "                                       hidden_dims[i + 1],\n",
    "                                       kernel_size=3,\n",
    "                                       stride = 2,\n",
    "                                       padding=1,\n",
    "                                       output_padding=1),\n",
    "                    nn.BatchNorm2d(hidden_dims[i + 1]),\n",
    "                    nn.LeakyReLU(),\n",
    "                    nn.Dropout(0.4))\n",
    "            )\n",
    "\n",
    "\n",
    "\n",
    "        self.decoder = nn.Sequential(*self.decoder_modules)\n",
    "\n",
    "        self.final_layer = nn.Sequential(\n",
    "                            nn.ConvTranspose2d(hidden_dims[-1],\n",
    "                                               hidden_dims[-1],\n",
    "                                               kernel_size=3,\n",
    "                                               stride=2,\n",
    "                                               padding=1,\n",
    "                                               output_padding=1),\n",
    "                            nn.BatchNorm2d(hidden_dims[-1]),\n",
    "                            nn.LeakyReLU(),\n",
    "                            nn.Conv2d(hidden_dims[-1], out_channels= 3,\n",
    "                                      kernel_size= 3, padding= 1),\n",
    "                            nn.Tanh())\n",
    "\n",
    "    def encode(self, input: Tensor) -> List[Tensor]:\n",
    "        \"\"\"\n",
    "        Encodes the input by passing through the encoder network\n",
    "        and returns the latent codes.\n",
    "        :param input: (Tensor) Input tensor to encoder [N x C x H x W]\n",
    "        :return: (Tensor) List of latent codes\n",
    "        \"\"\"\n",
    "        result = self.encoder(input)\n",
    "        result = torch.flatten(result, start_dim=1)\n",
    "\n",
    "        # Split the result into mu and var components\n",
    "        # of the latent Gaussian distribution\n",
    "        mu = self.fc_mu(result)\n",
    "        log_var = self.fc_var(result)\n",
    "\n",
    "        return [mu, log_var]\n",
    "\n",
    "    def decode(self, z: Tensor) -> Tensor:\n",
    "        \"\"\"\n",
    "        Maps the given latent codes\n",
    "        onto the image space.\n",
    "        :param z: (Tensor) [B x D]\n",
    "        :return: (Tensor) [B x C x H x W]\n",
    "        \"\"\"\n",
    "        result = self.decoder_input(z)\n",
    "        result = result.view(-1, 512, 2, 2)\n",
    "        result = self.decoder(result)\n",
    "        result = self.final_layer(result)\n",
    "        return result\n",
    "    \n",
    "    def autoencoder(self, x) -> Tensor:\n",
    "        # x = self.encoder(x) # x is (B, 512, 4, 4)\n",
    "        # x = self.decoder(x)\n",
    "\n",
    "        skip_connections = []\n",
    "\n",
    "        for module in self.encoder_modules:\n",
    "            x = module(x)\n",
    "            skip_connections.append(x)\n",
    "\n",
    "        # for connection in skip_connections:\n",
    "        #     print(connection.size())\n",
    "\n",
    "        skip_connections.reverse()\n",
    "        count = 1\n",
    "\n",
    "        for module in self.decoder_modules:\n",
    "            x = module(x) + 0.01 * skip_connections[count]\n",
    "            count+= 1\n",
    "\n",
    "\n",
    "        x = self.final_layer(x)\n",
    "\n",
    "        return x\n",
    "\n",
    "\n",
    "    def reparameterize(self, mu: Tensor, logvar: Tensor) -> Tensor:\n",
    "        \"\"\"\n",
    "        Reparameterization trick to sample from N(mu, var) from\n",
    "        N(0,1).\n",
    "        :param mu: (Tensor) Mean of the latent Gaussian [B x D]\n",
    "        :param logvar: (Tensor) Standard deviation of the latent Gaussian [B x D]\n",
    "        :return: (Tensor) [B x D]\n",
    "        \"\"\"\n",
    "        std = torch.exp(0.5 * logvar)\n",
    "        eps = torch.randn_like(std)\n",
    "        return eps * std + mu\n",
    "\n",
    "    def forward(self, input: Tensor, **kwargs) -> List[Tensor]:\n",
    "        # mu, log_var = self.encode(input)\n",
    "        # z = self.reparameterize(mu, log_var)\n",
    "        # return  [self.decode(z), input, mu, log_var]\n",
    "\n",
    "        return [self.autoencoder(input), _, _, _]\n",
    "\n",
    "    def loss_function(self,\n",
    "                      *args,\n",
    "                      **kwargs) -> dict:\n",
    "        \"\"\"\n",
    "        Computes the VAE loss function.\n",
    "        KL(N(\\mu, \\sigma), N(0, 1)) = \\log \\frac{1}{\\sigma} + \\frac{\\sigma^2 + \\mu^2}{2} - \\frac{1}{2}\n",
    "        :param args:\n",
    "        :param kwargs:\n",
    "        :return:\n",
    "        \"\"\"\n",
    "        recons = args[0]\n",
    "        input = args[1]\n",
    "        mu = args[2]\n",
    "        log_var = args[3]\n",
    "        # print(recons.size(), input.size())\n",
    "\n",
    "        kld_weight = kwargs['M_N'] # Account for the minibatch samples from the dataset\n",
    "        recons_loss = F.mse_loss(recons, input)\n",
    "\n",
    "\n",
    "        # kld_loss = torch.mean(-0.5 * torch.sum(1 + log_var - mu ** 2 - log_var.exp(), dim = 1), dim = 0)\n",
    "\n",
    "        # loss = recons_loss + kld_weight * kld_loss\n",
    "        loss = recons_loss \n",
    "\n",
    "        return {'loss': loss}\n",
    "\n",
    "        # return {'loss': loss, 'Reconstruction_Loss':recons_loss.detach(), 'KLD':-kld_loss.detach()}\n",
    "\n",
    "    def sample(self,\n",
    "               num_samples:int,\n",
    "               current_device: int, **kwargs) -> Tensor:\n",
    "        \"\"\"\n",
    "        Samples from the latent space and return the corresponding\n",
    "        image space map.\n",
    "        :param num_samples: (Int) Number of samples\n",
    "        :param current_device: (Int) Device to run the model\n",
    "        :return: (Tensor)\n",
    "        \"\"\"\n",
    "        z = torch.randn(num_samples,\n",
    "                        self.latent_dim)\n",
    "\n",
    "        z = z.to(current_device)\n",
    "\n",
    "        samples = self.decode(z)\n",
    "        return samples\n",
    "\n",
    "    def generate(self, x: Tensor, **kwargs) -> Tensor:\n",
    "        \"\"\"\n",
    "        Given an input image x, returns the reconstructed image\n",
    "        :param x: (Tensor) [B x C x H x W]\n",
    "        :return: (Tensor) [B x C x H x W]\n",
    "        \"\"\"\n",
    "\n",
    "        return self.forward(x)[0]"
   ]
  },
  {
   "cell_type": "code",
   "execution_count": 163,
   "metadata": {},
   "outputs": [
    {
     "name": "stdout",
     "output_type": "stream",
     "text": [
      "torch.Size([2, 32, 32, 32])\n",
      "torch.Size([2, 64, 16, 16])\n",
      "torch.Size([2, 128, 8, 8])\n",
      "torch.Size([2, 256, 4, 4])\n",
      "torch.Size([2, 512, 2, 2])\n",
      "----------------------------------------------------------------\n",
      "        Layer (type)               Output Shape         Param #\n",
      "================================================================\n",
      "            Conv2d-1           [-1, 32, 32, 32]             896\n",
      "       BatchNorm2d-2           [-1, 32, 32, 32]              64\n",
      "         LeakyReLU-3           [-1, 32, 32, 32]               0\n",
      "           Dropout-4           [-1, 32, 32, 32]               0\n",
      "            Conv2d-5           [-1, 64, 16, 16]          18,496\n",
      "       BatchNorm2d-6           [-1, 64, 16, 16]             128\n",
      "         LeakyReLU-7           [-1, 64, 16, 16]               0\n",
      "           Dropout-8           [-1, 64, 16, 16]               0\n",
      "            Conv2d-9            [-1, 128, 8, 8]          73,856\n",
      "      BatchNorm2d-10            [-1, 128, 8, 8]             256\n",
      "        LeakyReLU-11            [-1, 128, 8, 8]               0\n",
      "          Dropout-12            [-1, 128, 8, 8]               0\n",
      "           Conv2d-13            [-1, 256, 4, 4]         295,168\n",
      "      BatchNorm2d-14            [-1, 256, 4, 4]             512\n",
      "        LeakyReLU-15            [-1, 256, 4, 4]               0\n",
      "          Dropout-16            [-1, 256, 4, 4]               0\n",
      "           Conv2d-17            [-1, 512, 2, 2]       1,180,160\n",
      "      BatchNorm2d-18            [-1, 512, 2, 2]           1,024\n",
      "        LeakyReLU-19            [-1, 512, 2, 2]               0\n",
      "          Dropout-20            [-1, 512, 2, 2]               0\n",
      "  ConvTranspose2d-21            [-1, 256, 4, 4]       1,179,904\n",
      "      BatchNorm2d-22            [-1, 256, 4, 4]             512\n",
      "        LeakyReLU-23            [-1, 256, 4, 4]               0\n",
      "          Dropout-24            [-1, 256, 4, 4]               0\n",
      "  ConvTranspose2d-25            [-1, 128, 8, 8]         295,040\n",
      "      BatchNorm2d-26            [-1, 128, 8, 8]             256\n",
      "        LeakyReLU-27            [-1, 128, 8, 8]               0\n",
      "          Dropout-28            [-1, 128, 8, 8]               0\n",
      "  ConvTranspose2d-29           [-1, 64, 16, 16]          73,792\n",
      "      BatchNorm2d-30           [-1, 64, 16, 16]             128\n",
      "        LeakyReLU-31           [-1, 64, 16, 16]               0\n",
      "          Dropout-32           [-1, 64, 16, 16]               0\n",
      "  ConvTranspose2d-33           [-1, 32, 32, 32]          18,464\n",
      "      BatchNorm2d-34           [-1, 32, 32, 32]              64\n",
      "        LeakyReLU-35           [-1, 32, 32, 32]               0\n",
      "          Dropout-36           [-1, 32, 32, 32]               0\n",
      "  ConvTranspose2d-37           [-1, 32, 64, 64]           9,248\n",
      "      BatchNorm2d-38           [-1, 32, 64, 64]              64\n",
      "        LeakyReLU-39           [-1, 32, 64, 64]               0\n",
      "           Conv2d-40            [-1, 3, 64, 64]             867\n",
      "             Tanh-41            [-1, 3, 64, 64]               0\n",
      "================================================================\n",
      "Total params: 3,148,899\n",
      "Trainable params: 3,148,899\n",
      "Non-trainable params: 0\n",
      "----------------------------------------------------------------\n",
      "Input size (MB): 0.05\n",
      "Forward/backward pass size (MB): 7.00\n",
      "Params size (MB): 12.01\n",
      "Estimated Total Size (MB): 19.06\n",
      "----------------------------------------------------------------\n"
     ]
    }
   ],
   "source": [
    "from torchsummary import summary\n",
    "\n",
    "model = VanillaVAE(3, 10)\n",
    "model.to('cuda:0')\n",
    "\n",
    "summary(model, (3, 64, 64))"
   ]
  },
  {
   "cell_type": "code",
   "execution_count": 167,
   "metadata": {},
   "outputs": [
    {
     "name": "stderr",
     "output_type": "stream",
     "text": [
      "  1%|          | 1/100 [00:03<06:34,  3.99s/it]"
     ]
    },
    {
     "name": "stdout",
     "output_type": "stream",
     "text": [
      "Epoch 0: Train err: 0.3315323966591879, Train loss: 0.18342638790607452 | Validation err: 0.2870474004888678, Validation loss: 0.12278659145037334\n"
     ]
    },
    {
     "name": "stderr",
     "output_type": "stream",
     "text": [
      "  2%|▏         | 2/100 [00:08<06:59,  4.28s/it]"
     ]
    },
    {
     "name": "stdout",
     "output_type": "stream",
     "text": [
      "Epoch 1: Train err: 0.269029429399499, Train loss: 0.11287841200828552 | Validation err: 0.2666490571992891, Validation loss: 0.11347022280097008\n"
     ]
    },
    {
     "name": "stderr",
     "output_type": "stream",
     "text": [
      "  3%|▎         | 3/100 [00:13<07:07,  4.41s/it]"
     ]
    },
    {
     "name": "stdout",
     "output_type": "stream",
     "text": [
      "Epoch 2: Train err: 0.26496620939688303, Train loss: 0.11049038290977478 | Validation err: 0.26974608733489347, Validation loss: 0.11390995730956395\n"
     ]
    },
    {
     "name": "stderr",
     "output_type": "stream",
     "text": [
      "  4%|▍         | 4/100 [00:17<06:56,  4.34s/it]"
     ]
    },
    {
     "name": "stdout",
     "output_type": "stream",
     "text": [
      "Epoch 3: Train err: 0.2646447824648865, Train loss: 0.10945821344852448 | Validation err: 0.26700156730216545, Validation loss: 0.11253704999883969\n"
     ]
    },
    {
     "name": "stderr",
     "output_type": "stream",
     "text": [
      "  5%|▌         | 5/100 [00:21<06:48,  4.30s/it]"
     ]
    },
    {
     "name": "stdout",
     "output_type": "stream",
     "text": [
      "Epoch 4: Train err: 0.2642183420509196, Train loss: 0.10943430930376052 | Validation err: 0.2654626978052271, Validation loss: 0.11052944883704185\n"
     ]
    },
    {
     "name": "stderr",
     "output_type": "stream",
     "text": [
      "  6%|▌         | 6/100 [00:26<06:59,  4.47s/it]"
     ]
    },
    {
     "name": "stdout",
     "output_type": "stream",
     "text": [
      "Epoch 5: Train err: 0.2640744004799179, Train loss: 0.1091973426938057 | Validation err: 0.2645337445599897, Validation loss: 0.11039031793673833\n"
     ]
    },
    {
     "name": "stderr",
     "output_type": "stream",
     "text": [
      "  7%|▋         | 7/100 [00:30<07:01,  4.53s/it]"
     ]
    },
    {
     "name": "stdout",
     "output_type": "stream",
     "text": [
      "Epoch 6: Train err: 0.2629637021213981, Train loss: 0.10826594650745391 | Validation err: 0.2603544859556822, Validation loss: 0.10846630732218425\n"
     ]
    },
    {
     "name": "stderr",
     "output_type": "stream",
     "text": [
      "  8%|▊         | 8/100 [00:35<06:58,  4.55s/it]"
     ]
    },
    {
     "name": "stdout",
     "output_type": "stream",
     "text": [
      "Epoch 7: Train err: 0.25611489339559523, Train loss: 0.10583442270755768 | Validation err: 0.2228429525106161, Validation loss: 0.09665742019812266\n"
     ]
    },
    {
     "name": "stderr",
     "output_type": "stream",
     "text": [
      "  9%|▉         | 9/100 [00:40<06:52,  4.53s/it]"
     ]
    },
    {
     "name": "stdout",
     "output_type": "stream",
     "text": [
      "Epoch 8: Train err: 0.20129752174470783, Train loss: 0.07810938313603401 | Validation err: 0.16567437570016305, Validation loss: 0.059213862443963684\n"
     ]
    },
    {
     "name": "stderr",
     "output_type": "stream",
     "text": [
      " 10%|█         | 10/100 [00:44<06:43,  4.49s/it]"
     ]
    },
    {
     "name": "stdout",
     "output_type": "stream",
     "text": [
      "Epoch 9: Train err: 0.16498964092306223, Train loss: 0.05773590683937073 | Validation err: 0.17380373613970415, Validation loss: 0.05944285852213701\n"
     ]
    },
    {
     "name": "stderr",
     "output_type": "stream",
     "text": [
      " 11%|█         | 11/100 [00:48<06:36,  4.46s/it]"
     ]
    },
    {
     "name": "stdout",
     "output_type": "stream",
     "text": [
      "Epoch 10: Train err: 0.15997543384087753, Train loss: 0.055259846448898316 | Validation err: 0.14796317160666525, Validation loss: 0.053179352854688965\n"
     ]
    },
    {
     "name": "stderr",
     "output_type": "stream",
     "text": [
      " 12%|█▏        | 12/100 [00:53<06:31,  4.45s/it]"
     ]
    },
    {
     "name": "stdout",
     "output_type": "stream",
     "text": [
      "Epoch 11: Train err: 0.15734181401043343, Train loss: 0.05461798369884491 | Validation err: 0.1452717824025197, Validation loss: 0.051289843395352364\n"
     ]
    },
    {
     "name": "stderr",
     "output_type": "stream",
     "text": [
      " 13%|█▎        | 13/100 [00:57<06:27,  4.46s/it]"
     ]
    },
    {
     "name": "stdout",
     "output_type": "stream",
     "text": [
      "Epoch 12: Train err: 0.17406265641978227, Train loss: 0.06088214188814163 | Validation err: 0.15322535746806376, Validation loss: 0.055282147601246834\n"
     ]
    },
    {
     "name": "stderr",
     "output_type": "stream",
     "text": [
      " 14%|█▍        | 14/100 [01:02<06:22,  4.45s/it]"
     ]
    },
    {
     "name": "stdout",
     "output_type": "stream",
     "text": [
      "Epoch 13: Train err: 0.15667565438491027, Train loss: 0.05331233590841293 | Validation err: 0.15049251063807947, Validation loss: 0.05151297400395075\n"
     ]
    },
    {
     "name": "stderr",
     "output_type": "stream",
     "text": [
      " 15%|█▌        | 15/100 [01:06<06:10,  4.36s/it]"
     ]
    },
    {
     "name": "stdout",
     "output_type": "stream",
     "text": [
      "Epoch 14: Train err: 0.15978555869687702, Train loss: 0.05301390677690506 | Validation err: 0.15672000965198596, Validation loss: 0.05444242060184479\n"
     ]
    },
    {
     "name": "stderr",
     "output_type": "stream",
     "text": [
      " 16%|█▌        | 16/100 [01:10<06:05,  4.35s/it]"
     ]
    },
    {
     "name": "stdout",
     "output_type": "stream",
     "text": [
      "Epoch 15: Train err: 0.16114400358869427, Train loss: 0.05378744512796402 | Validation err: 0.17136657989776885, Validation loss: 0.058220066751043\n"
     ]
    },
    {
     "name": "stderr",
     "output_type": "stream",
     "text": [
      " 17%|█▋        | 17/100 [01:14<05:58,  4.32s/it]"
     ]
    },
    {
     "name": "stdout",
     "output_type": "stream",
     "text": [
      "Epoch 16: Train err: 0.16286348145160073, Train loss: 0.053655760884284975 | Validation err: 0.14271815761073572, Validation loss: 0.049449785302082695\n"
     ]
    },
    {
     "name": "stderr",
     "output_type": "stream",
     "text": [
      " 18%|█▊        | 18/100 [01:19<05:52,  4.29s/it]"
     ]
    },
    {
     "name": "stdout",
     "output_type": "stream",
     "text": [
      "Epoch 17: Train err: 0.1519491634135544, Train loss: 0.05042165547609329 | Validation err: 0.1727044389054582, Validation loss: 0.058911298091212906\n"
     ]
    },
    {
     "name": "stderr",
     "output_type": "stream",
     "text": [
      " 19%|█▉        | 19/100 [01:23<05:46,  4.28s/it]"
     ]
    },
    {
     "name": "stdout",
     "output_type": "stream",
     "text": [
      "Epoch 18: Train err: 0.16336679550730945, Train loss: 0.0548959518969059 | Validation err: 0.1598324474987683, Validation loss: 0.05486814367274443\n"
     ]
    },
    {
     "name": "stderr",
     "output_type": "stream",
     "text": [
      " 20%|██        | 20/100 [01:27<05:41,  4.26s/it]"
     ]
    },
    {
     "name": "stdout",
     "output_type": "stream",
     "text": [
      "Epoch 19: Train err: 0.1536123419452773, Train loss: 0.05081942304968834 | Validation err: 0.16508386514566323, Validation loss: 0.05814457622667154\n"
     ]
    },
    {
     "name": "stderr",
     "output_type": "stream",
     "text": [
      " 21%|██        | 21/100 [01:31<05:32,  4.21s/it]"
     ]
    },
    {
     "name": "stdout",
     "output_type": "stream",
     "text": [
      "Epoch 20: Train err: 0.1521134434863973, Train loss: 0.04960355252027512 | Validation err: 0.14018114336260087, Validation loss: 0.0490952767431736\n"
     ]
    },
    {
     "name": "stderr",
     "output_type": "stream",
     "text": [
      " 22%|██▏       | 22/100 [01:35<05:29,  4.22s/it]"
     ]
    },
    {
     "name": "stdout",
     "output_type": "stream",
     "text": [
      "Epoch 21: Train err: 0.14640268693028613, Train loss: 0.048000369518995285 | Validation err: 0.13719038633970884, Validation loss: 0.04893845754365126\n"
     ]
    },
    {
     "name": "stderr",
     "output_type": "stream",
     "text": [
      " 23%|██▎       | 23/100 [01:40<05:24,  4.22s/it]"
     ]
    },
    {
     "name": "stdout",
     "output_type": "stream",
     "text": [
      "Epoch 22: Train err: 0.14677738698159812, Train loss: 0.04740655079483986 | Validation err: 0.13794334801109703, Validation loss: 0.04618908526996771\n"
     ]
    },
    {
     "name": "stderr",
     "output_type": "stream",
     "text": [
      " 24%|██▍       | 24/100 [01:44<05:23,  4.25s/it]"
     ]
    },
    {
     "name": "stdout",
     "output_type": "stream",
     "text": [
      "Epoch 23: Train err: 0.1541070195067259, Train loss: 0.049882319569587705 | Validation err: 0.13935506093251454, Validation loss: 0.04687822485963503\n"
     ]
    },
    {
     "name": "stderr",
     "output_type": "stream",
     "text": [
      " 25%|██▌       | 25/100 [01:48<05:24,  4.32s/it]"
     ]
    },
    {
     "name": "stdout",
     "output_type": "stream",
     "text": [
      "Epoch 24: Train err: 0.14571379141429894, Train loss: 0.047203173041343686 | Validation err: 0.13796963849225202, Validation loss: 0.047321668515602745\n"
     ]
    },
    {
     "name": "stderr",
     "output_type": "stream",
     "text": [
      " 26%|██▌       | 26/100 [01:53<05:21,  4.35s/it]"
     ]
    },
    {
     "name": "stdout",
     "output_type": "stream",
     "text": [
      "Epoch 25: Train err: 0.13772679296371942, Train loss: 0.0441680808365345 | Validation err: 0.14153379148191159, Validation loss: 0.048348035042484604\n"
     ]
    },
    {
     "name": "stderr",
     "output_type": "stream",
     "text": [
      " 27%|██▋       | 27/100 [01:57<05:15,  4.32s/it]"
     ]
    },
    {
     "name": "stdout",
     "output_type": "stream",
     "text": [
      "Epoch 26: Train err: 0.14104071111734345, Train loss: 0.045674932599067686 | Validation err: 0.13695930503868126, Validation loss: 0.04654276557266712\n"
     ]
    },
    {
     "name": "stderr",
     "output_type": "stream",
     "text": [
      " 28%|██▊       | 28/100 [02:02<05:12,  4.34s/it]"
     ]
    },
    {
     "name": "stdout",
     "output_type": "stream",
     "text": [
      "Epoch 27: Train err: 0.1320156040916271, Train loss: 0.0422760434448719 | Validation err: 0.13741832882076413, Validation loss: 0.044629115611314774\n"
     ]
    },
    {
     "name": "stderr",
     "output_type": "stream",
     "text": [
      " 29%|██▉       | 29/100 [02:06<05:09,  4.36s/it]"
     ]
    },
    {
     "name": "stdout",
     "output_type": "stream",
     "text": [
      "Epoch 28: Train err: 0.13536447106218308, Train loss: 0.042607197761535646 | Validation err: 0.1615518678773989, Validation loss: 0.052989223351081215\n"
     ]
    },
    {
     "name": "stderr",
     "output_type": "stream",
     "text": [
      " 30%|███       | 30/100 [02:10<05:04,  4.35s/it]"
     ]
    },
    {
     "name": "stdout",
     "output_type": "stream",
     "text": [
      "Epoch 29: Train err: 0.14133065758562058, Train loss: 0.044581643491983416 | Validation err: 0.1261371578182186, Validation loss: 0.0411347554375728\n"
     ]
    },
    {
     "name": "stderr",
     "output_type": "stream",
     "text": [
      " 31%|███       | 31/100 [02:14<04:56,  4.30s/it]"
     ]
    },
    {
     "name": "stdout",
     "output_type": "stream",
     "text": [
      "Epoch 30: Train err: 0.13269853561214684, Train loss: 0.04105379857122898 | Validation err: 0.1558695612726985, Validation loss: 0.04820797840754191\n"
     ]
    },
    {
     "name": "stderr",
     "output_type": "stream",
     "text": [
      " 32%|███▏      | 32/100 [02:19<04:52,  4.31s/it]"
     ]
    },
    {
     "name": "stdout",
     "output_type": "stream",
     "text": [
      "Epoch 31: Train err: 0.14280274262830508, Train loss: 0.043980472683906556 | Validation err: 0.1463968660738375, Validation loss: 0.04665821045637131\n"
     ]
    },
    {
     "name": "stderr",
     "output_type": "stream",
     "text": [
      " 33%|███▎      | 33/100 [02:23<04:46,  4.28s/it]"
     ]
    },
    {
     "name": "stdout",
     "output_type": "stream",
     "text": [
      "Epoch 32: Train err: 0.13027814581404942, Train loss: 0.039718713015317916 | Validation err: 0.12426339685021937, Validation loss: 0.039879883329073586\n"
     ]
    },
    {
     "name": "stderr",
     "output_type": "stream",
     "text": [
      " 34%|███▍      | 34/100 [02:27<04:41,  4.27s/it]"
     ]
    },
    {
     "name": "stdout",
     "output_type": "stream",
     "text": [
      "Epoch 33: Train err: 0.1347017404884196, Train loss: 0.041528357416391375 | Validation err: 0.12810083337732264, Validation loss: 0.03985080743829409\n"
     ]
    },
    {
     "name": "stderr",
     "output_type": "stream",
     "text": [
      " 35%|███▌      | 35/100 [02:31<04:35,  4.24s/it]"
     ]
    },
    {
     "name": "stdout",
     "output_type": "stream",
     "text": [
      "Epoch 34: Train err: 0.13883657756346085, Train loss: 0.041704918518662454 | Validation err: 0.1556019596867375, Validation loss: 0.05119360238313675\n"
     ]
    },
    {
     "name": "stderr",
     "output_type": "stream",
     "text": [
      " 36%|███▌      | 36/100 [02:36<04:31,  4.24s/it]"
     ]
    },
    {
     "name": "stdout",
     "output_type": "stream",
     "text": [
      "Epoch 35: Train err: 0.13166670544410014, Train loss: 0.040497875586152074 | Validation err: 0.12522347481759102, Validation loss: 0.03929955263932546\n"
     ]
    },
    {
     "name": "stderr",
     "output_type": "stream",
     "text": [
      " 37%|███▋      | 37/100 [02:40<04:27,  4.24s/it]"
     ]
    },
    {
     "name": "stdout",
     "output_type": "stream",
     "text": [
      "Epoch 36: Train err: 0.13978864543298253, Train loss: 0.042058396488428115 | Validation err: 0.16788590348160662, Validation loss: 0.050709230825304985\n"
     ]
    },
    {
     "name": "stderr",
     "output_type": "stream",
     "text": [
      " 38%|███▊      | 38/100 [02:44<04:23,  4.25s/it]"
     ]
    },
    {
     "name": "stdout",
     "output_type": "stream",
     "text": [
      "Epoch 37: Train err: 0.13804027117688045, Train loss: 0.0407953368127346 | Validation err: 0.1302990498127522, Validation loss: 0.040247044215599694\n"
     ]
    },
    {
     "name": "stderr",
     "output_type": "stream",
     "text": [
      " 39%|███▉      | 39/100 [02:48<04:19,  4.25s/it]"
     ]
    },
    {
     "name": "stdout",
     "output_type": "stream",
     "text": [
      "Epoch 38: Train err: 0.12889404689889528, Train loss: 0.03863727308809757 | Validation err: 0.14684523619689024, Validation loss: 0.042624729995926224\n"
     ]
    },
    {
     "name": "stderr",
     "output_type": "stream",
     "text": [
      " 40%|████      | 40/100 [02:53<04:15,  4.26s/it]"
     ]
    },
    {
     "name": "stdout",
     "output_type": "stream",
     "text": [
      "Epoch 39: Train err: 0.1289860810760675, Train loss: 0.03855355754494667 | Validation err: 0.11909247733451225, Validation loss: 0.037562174101670585\n"
     ]
    },
    {
     "name": "stderr",
     "output_type": "stream",
     "text": [
      " 41%|████      | 41/100 [02:57<04:14,  4.31s/it]"
     ]
    },
    {
     "name": "stdout",
     "output_type": "stream",
     "text": [
      "Epoch 40: Train err: 0.13036815596640072, Train loss: 0.038739104941487315 | Validation err: 0.14299939129803632, Validation loss: 0.04273139374951521\n"
     ]
    },
    {
     "name": "stderr",
     "output_type": "stream",
     "text": [
      " 42%|████▏     | 42/100 [03:02<04:12,  4.35s/it]"
     ]
    },
    {
     "name": "stdout",
     "output_type": "stream",
     "text": [
      "Epoch 41: Train err: 0.1280246594607715, Train loss: 0.03783753901720047 | Validation err: 0.13185568686362142, Validation loss: 0.04184633120894432\n"
     ]
    },
    {
     "name": "stderr",
     "output_type": "stream",
     "text": [
      " 43%|████▎     | 43/100 [03:06<04:09,  4.38s/it]"
     ]
    },
    {
     "name": "stdout",
     "output_type": "stream",
     "text": [
      "Epoch 42: Train err: 0.12366151042085882, Train loss: 0.03630955338478088 | Validation err: 0.1327347053779854, Validation loss: 0.03947063162922859\n"
     ]
    },
    {
     "name": "stderr",
     "output_type": "stream",
     "text": [
      " 44%|████▍     | 44/100 [03:10<04:07,  4.42s/it]"
     ]
    },
    {
     "name": "stdout",
     "output_type": "stream",
     "text": [
      "Epoch 43: Train err: 0.12090422856907497, Train loss: 0.03569224618375302 | Validation err: 0.11673710224506734, Validation loss: 0.035322921350598335\n"
     ]
    },
    {
     "name": "stderr",
     "output_type": "stream",
     "text": [
      " 45%|████▌     | 45/100 [03:15<04:02,  4.41s/it]"
     ]
    },
    {
     "name": "stdout",
     "output_type": "stream",
     "text": [
      "Epoch 44: Train err: 0.12179758006806383, Train loss: 0.03517135940492153 | Validation err: 0.12475077311197917, Validation loss: 0.03801372336844603\n"
     ]
    },
    {
     "name": "stderr",
     "output_type": "stream",
     "text": [
      " 46%|████▌     | 46/100 [03:19<03:56,  4.38s/it]"
     ]
    },
    {
     "name": "stdout",
     "output_type": "stream",
     "text": [
      "Epoch 45: Train err: 0.11898760479339383, Train loss: 0.03409600585699082 | Validation err: 0.13160944987345743, Validation loss: 0.04467682043711344\n"
     ]
    },
    {
     "name": "stderr",
     "output_type": "stream",
     "text": [
      " 47%|████▋     | 47/100 [03:23<03:50,  4.35s/it]"
     ]
    },
    {
     "name": "stdout",
     "output_type": "stream",
     "text": [
      "Epoch 46: Train err: 0.12334955513899509, Train loss: 0.03530582740902901 | Validation err: 0.12182937942825638, Validation loss: 0.03629347992440065\n"
     ]
    },
    {
     "name": "stderr",
     "output_type": "stream",
     "text": [
      " 48%|████▊     | 48/100 [03:28<03:43,  4.30s/it]"
     ]
    },
    {
     "name": "stdout",
     "output_type": "stream",
     "text": [
      "Epoch 47: Train err: 0.12130261757108218, Train loss: 0.03624123722314834 | Validation err: 0.11396876612941066, Validation loss: 0.03462020680308342\n"
     ]
    },
    {
     "name": "stderr",
     "output_type": "stream",
     "text": [
      " 49%|████▉     | 49/100 [03:32<03:36,  4.24s/it]"
     ]
    },
    {
     "name": "stdout",
     "output_type": "stream",
     "text": [
      "Epoch 48: Train err: 0.12775561154003842, Train loss: 0.03744615837931633 | Validation err: 0.16443965098521374, Validation loss: 0.04937747245033582\n"
     ]
    },
    {
     "name": "stderr",
     "output_type": "stream",
     "text": [
      " 50%|█████     | 50/100 [03:36<03:32,  4.25s/it]"
     ]
    },
    {
     "name": "stdout",
     "output_type": "stream",
     "text": [
      "Epoch 49: Train err: 0.14229001587464282, Train loss: 0.04119616486132145 | Validation err: 0.1197652501744909, Validation loss: 0.03673442049572865\n"
     ]
    },
    {
     "name": "stderr",
     "output_type": "stream",
     "text": [
      " 51%|█████     | 51/100 [03:40<03:29,  4.28s/it]"
     ]
    },
    {
     "name": "stdout",
     "output_type": "stream",
     "text": [
      "Epoch 50: Train err: 0.13005591574900394, Train loss: 0.037479245141148566 | Validation err: 0.1593004633356501, Validation loss: 0.05157827523847421\n"
     ]
    },
    {
     "name": "stderr",
     "output_type": "stream",
     "text": [
      " 52%|█████▏    | 52/100 [03:45<03:26,  4.31s/it]"
     ]
    },
    {
     "name": "stdout",
     "output_type": "stream",
     "text": [
      "Epoch 51: Train err: 0.13551006329420376, Train loss: 0.039448635056614875 | Validation err: 0.11663210069811022, Validation loss: 0.03528170535961787\n"
     ]
    },
    {
     "name": "stderr",
     "output_type": "stream",
     "text": [
      " 53%|█████▎    | 53/100 [03:49<03:22,  4.31s/it]"
     ]
    },
    {
     "name": "stdout",
     "output_type": "stream",
     "text": [
      "Epoch 52: Train err: 0.12026281903347352, Train loss: 0.0356074121594429 | Validation err: 0.12860398392777544, Validation loss: 0.04108898093303045\n"
     ]
    },
    {
     "name": "stderr",
     "output_type": "stream",
     "text": [
      " 54%|█████▍    | 54/100 [03:53<03:17,  4.28s/it]"
     ]
    },
    {
     "name": "stdout",
     "output_type": "stream",
     "text": [
      "Epoch 53: Train err: 0.11998493811121619, Train loss: 0.034797092005610465 | Validation err: 0.12195692549238692, Validation loss: 0.03790991318722566\n"
     ]
    },
    {
     "name": "stderr",
     "output_type": "stream",
     "text": [
      " 55%|█████▌    | 55/100 [03:57<03:11,  4.25s/it]"
     ]
    },
    {
     "name": "stdout",
     "output_type": "stream",
     "text": [
      "Epoch 54: Train err: 0.11611421662457744, Train loss: 0.03358464412391186 | Validation err: 0.11263886872712556, Validation loss: 0.0335590410977602\n"
     ]
    },
    {
     "name": "stderr",
     "output_type": "stream",
     "text": [
      " 56%|█████▌    | 56/100 [04:02<03:06,  4.24s/it]"
     ]
    },
    {
     "name": "stdout",
     "output_type": "stream",
     "text": [
      "Epoch 55: Train err: 0.12060593054207079, Train loss: 0.03432112529873848 | Validation err: 0.1652940286172403, Validation loss: 0.05170063177744547\n"
     ]
    },
    {
     "name": "stderr",
     "output_type": "stream",
     "text": [
      " 57%|█████▋    | 57/100 [04:06<03:02,  4.25s/it]"
     ]
    },
    {
     "name": "stdout",
     "output_type": "stream",
     "text": [
      "Epoch 56: Train err: 0.12624906894858237, Train loss: 0.035755873695015906 | Validation err: 0.1342827049461571, Validation loss: 0.03900945745408535\n"
     ]
    },
    {
     "name": "stderr",
     "output_type": "stream",
     "text": [
      " 58%|█████▊    | 58/100 [04:10<02:56,  4.21s/it]"
     ]
    },
    {
     "name": "stdout",
     "output_type": "stream",
     "text": [
      "Epoch 57: Train err: 0.12376010794065417, Train loss: 0.034707883074879646 | Validation err: 0.11826340500656907, Validation loss: 0.03965263689557711\n"
     ]
    },
    {
     "name": "stderr",
     "output_type": "stream",
     "text": [
      " 59%|█████▉    | 59/100 [04:14<02:52,  4.21s/it]"
     ]
    },
    {
     "name": "stdout",
     "output_type": "stream",
     "text": [
      "Epoch 58: Train err: 0.11600945860205046, Train loss: 0.03270696684718132 | Validation err: 0.111750112997519, Validation loss: 0.037467142567038536\n"
     ]
    },
    {
     "name": "stderr",
     "output_type": "stream",
     "text": [
      " 60%|██████    | 60/100 [04:18<02:48,  4.21s/it]"
     ]
    },
    {
     "name": "stdout",
     "output_type": "stream",
     "text": [
      "Epoch 59: Train err: 0.1200773260014639, Train loss: 0.03431396827101708 | Validation err: 0.1123760326488598, Validation loss: 0.03369506603727738\n"
     ]
    },
    {
     "name": "stderr",
     "output_type": "stream",
     "text": [
      " 61%|██████    | 61/100 [04:23<02:44,  4.22s/it]"
     ]
    },
    {
     "name": "stdout",
     "output_type": "stream",
     "text": [
      "Epoch 60: Train err: 0.12156526918036663, Train loss: 0.03453991167247295 | Validation err: 0.11079966914546382, Validation loss: 0.03377713387211164\n"
     ]
    },
    {
     "name": "stderr",
     "output_type": "stream",
     "text": [
      " 62%|██████▏   | 62/100 [04:27<02:45,  4.35s/it]"
     ]
    },
    {
     "name": "stdout",
     "output_type": "stream",
     "text": [
      "Epoch 61: Train err: 0.11576896318680074, Train loss: 0.03235177882015705 | Validation err: 0.10877231219867328, Validation loss: 0.03214902399728695\n"
     ]
    },
    {
     "name": "stderr",
     "output_type": "stream",
     "text": [
      " 63%|██████▎   | 63/100 [04:32<02:42,  4.40s/it]"
     ]
    },
    {
     "name": "stdout",
     "output_type": "stream",
     "text": [
      "Epoch 62: Train err: 0.11312196121166694, Train loss: 0.03161728322505951 | Validation err: 0.1159730630593973, Validation loss: 0.03221232537180185\n"
     ]
    },
    {
     "name": "stderr",
     "output_type": "stream",
     "text": [
      " 64%|██████▍   | 64/100 [04:36<02:37,  4.39s/it]"
     ]
    },
    {
     "name": "stdout",
     "output_type": "stream",
     "text": [
      "Epoch 63: Train err: 0.11119336031823487, Train loss: 0.03092546872794628 | Validation err: 0.10600657649226375, Validation loss: 0.029956344825526077\n"
     ]
    },
    {
     "name": "stderr",
     "output_type": "stream",
     "text": [
      " 65%|██████▌   | 65/100 [04:40<02:31,  4.34s/it]"
     ]
    },
    {
     "name": "stdout",
     "output_type": "stream",
     "text": [
      "Epoch 64: Train err: 0.1267538175073195, Train loss: 0.03510573968291283 | Validation err: 0.12275206648909652, Validation loss: 0.03502814161280791\n"
     ]
    },
    {
     "name": "stderr",
     "output_type": "stream",
     "text": [
      " 66%|██████▌   | 66/100 [04:45<02:25,  4.27s/it]"
     ]
    },
    {
     "name": "stdout",
     "output_type": "stream",
     "text": [
      "Epoch 65: Train err: 0.12169729258579665, Train loss: 0.033521648049354556 | Validation err: 0.12548552046309006, Validation loss: 0.03799553898473581\n"
     ]
    },
    {
     "name": "stderr",
     "output_type": "stream",
     "text": [
      " 67%|██████▋   | 67/100 [04:49<02:22,  4.32s/it]"
     ]
    },
    {
     "name": "stdout",
     "output_type": "stream",
     "text": [
      "Epoch 66: Train err: 0.12036624080660416, Train loss: 0.03257058396935463 | Validation err: 0.11034326868372278, Validation loss: 0.03172045821944872\n"
     ]
    },
    {
     "name": "stderr",
     "output_type": "stream",
     "text": [
      " 68%|██████▊   | 68/100 [04:53<02:18,  4.34s/it]"
     ]
    },
    {
     "name": "stdout",
     "output_type": "stream",
     "text": [
      "Epoch 67: Train err: 0.11046787514965993, Train loss: 0.030161354914307593 | Validation err: 0.11866656008425418, Validation loss: 0.03364987423022588\n"
     ]
    },
    {
     "name": "stderr",
     "output_type": "stream",
     "text": [
      " 69%|██████▉   | 69/100 [04:58<02:16,  4.40s/it]"
     ]
    },
    {
     "name": "stdout",
     "output_type": "stream",
     "text": [
      "Epoch 68: Train err: 0.11842011146520846, Train loss: 0.031796647906303405 | Validation err: 0.10941053510786176, Validation loss: 0.03083389966438214\n"
     ]
    },
    {
     "name": "stderr",
     "output_type": "stream",
     "text": [
      " 70%|███████   | 70/100 [05:02<02:10,  4.37s/it]"
     ]
    },
    {
     "name": "stdout",
     "output_type": "stream",
     "text": [
      "Epoch 69: Train err: 0.1183626625665295, Train loss: 0.03194504290819168 | Validation err: 0.11026637904994839, Validation loss: 0.031095215119421482\n"
     ]
    },
    {
     "name": "stderr",
     "output_type": "stream",
     "text": [
      " 71%|███████   | 71/100 [05:06<02:04,  4.30s/it]"
     ]
    },
    {
     "name": "stdout",
     "output_type": "stream",
     "text": [
      "Epoch 70: Train err: 0.11418690285372565, Train loss: 0.030616364851593973 | Validation err: 0.13134352079740874, Validation loss: 0.03489406779408455\n"
     ]
    },
    {
     "name": "stderr",
     "output_type": "stream",
     "text": [
      " 72%|███████▏  | 72/100 [05:11<02:02,  4.39s/it]"
     ]
    },
    {
     "name": "stdout",
     "output_type": "stream",
     "text": [
      "Epoch 71: Train err: 0.1112990124488138, Train loss: 0.030770018696784973 | Validation err: 0.12155797460057714, Validation loss: 0.0350997814287742\n"
     ]
    },
    {
     "name": "stderr",
     "output_type": "stream",
     "text": [
      " 73%|███████▎  | 73/100 [05:15<01:57,  4.34s/it]"
     ]
    },
    {
     "name": "stdout",
     "output_type": "stream",
     "text": [
      "Epoch 72: Train err: 0.12739807639825138, Train loss: 0.03487053796648979 | Validation err: 0.11328928033868829, Validation loss: 0.032150150276720524\n"
     ]
    },
    {
     "name": "stderr",
     "output_type": "stream",
     "text": [
      " 74%|███████▍  | 74/100 [05:19<01:51,  4.28s/it]"
     ]
    },
    {
     "name": "stdout",
     "output_type": "stream",
     "text": [
      "Epoch 73: Train err: 0.12138623141198487, Train loss: 0.032604992613196375 | Validation err: 0.15863447217969923, Validation loss: 0.04343978129327297\n"
     ]
    },
    {
     "name": "stderr",
     "output_type": "stream",
     "text": [
      " 75%|███████▌  | 75/100 [05:24<01:47,  4.31s/it]"
     ]
    },
    {
     "name": "stdout",
     "output_type": "stream",
     "text": [
      "Epoch 74: Train err: 0.12254442557625363, Train loss: 0.033280941620469094 | Validation err: 0.11236146119263796, Validation loss: 0.03086938988417387\n"
     ]
    },
    {
     "name": "stderr",
     "output_type": "stream",
     "text": [
      " 76%|███████▌  | 76/100 [05:28<01:42,  4.29s/it]"
     ]
    },
    {
     "name": "stdout",
     "output_type": "stream",
     "text": [
      "Epoch 75: Train err: 0.11058081769973942, Train loss: 0.03020342446863651 | Validation err: 0.10631229068423893, Validation loss: 0.0300950122376283\n"
     ]
    },
    {
     "name": "stderr",
     "output_type": "stream",
     "text": [
      " 77%|███████▋  | 77/100 [05:32<01:38,  4.30s/it]"
     ]
    },
    {
     "name": "stdout",
     "output_type": "stream",
     "text": [
      "Epoch 76: Train err: 0.10974333321595299, Train loss: 0.029705091267824172 | Validation err: 0.11450480555628871, Validation loss: 0.03243872554351886\n"
     ]
    },
    {
     "name": "stderr",
     "output_type": "stream",
     "text": [
      " 78%|███████▊  | 78/100 [05:37<01:35,  4.33s/it]"
     ]
    },
    {
     "name": "stdout",
     "output_type": "stream",
     "text": [
      "Epoch 77: Train err: 0.1076440166367766, Train loss: 0.028885302767157554 | Validation err: 0.10789654705975507, Validation loss: 0.028992382809519768\n"
     ]
    },
    {
     "name": "stderr",
     "output_type": "stream",
     "text": [
      " 79%|███████▉  | 79/100 [05:41<01:30,  4.32s/it]"
     ]
    },
    {
     "name": "stdout",
     "output_type": "stream",
     "text": [
      "Epoch 78: Train err: 0.11225549190641601, Train loss: 0.029500355124473573 | Validation err: 0.12823818538997983, Validation loss: 0.032702287969489895\n"
     ]
    },
    {
     "name": "stderr",
     "output_type": "stream",
     "text": [
      " 80%|████████  | 80/100 [05:45<01:25,  4.29s/it]"
     ]
    },
    {
     "name": "stdout",
     "output_type": "stream",
     "text": [
      "Epoch 79: Train err: 0.12194625746413192, Train loss: 0.03229115806519985 | Validation err: 0.10503096480269332, Validation loss: 0.028615005935231846\n"
     ]
    },
    {
     "name": "stderr",
     "output_type": "stream",
     "text": [
      " 81%|████████  | 81/100 [05:50<01:21,  4.30s/it]"
     ]
    },
    {
     "name": "stdout",
     "output_type": "stream",
     "text": [
      "Epoch 80: Train err: 0.118041756378783, Train loss: 0.03059343568980694 | Validation err: 0.13126226660009618, Validation loss: 0.03967381144563357\n"
     ]
    },
    {
     "name": "stderr",
     "output_type": "stream",
     "text": [
      " 82%|████████▏ | 82/100 [05:54<01:17,  4.30s/it]"
     ]
    },
    {
     "name": "stdout",
     "output_type": "stream",
     "text": [
      "Epoch 81: Train err: 0.11845651443589525, Train loss: 0.03147243984043598 | Validation err: 0.11345890262821415, Validation loss: 0.03203824690232674\n"
     ]
    },
    {
     "name": "stderr",
     "output_type": "stream",
     "text": [
      " 83%|████████▎ | 83/100 [05:58<01:12,  4.27s/it]"
     ]
    },
    {
     "name": "stdout",
     "output_type": "stream",
     "text": [
      "Epoch 82: Train err: 0.11074371239636993, Train loss: 0.02926715701818466 | Validation err: 0.11773343701978345, Validation loss: 0.030885181700189907\n"
     ]
    },
    {
     "name": "stderr",
     "output_type": "stream",
     "text": [
      " 84%|████████▍ | 84/100 [06:02<01:08,  4.27s/it]"
     ]
    },
    {
     "name": "stdout",
     "output_type": "stream",
     "text": [
      "Epoch 83: Train err: 0.10968785921527889, Train loss: 0.028532094955444336 | Validation err: 0.11321551806933887, Validation loss: 0.03033849721153577\n"
     ]
    },
    {
     "name": "stderr",
     "output_type": "stream",
     "text": [
      " 85%|████████▌ | 85/100 [06:07<01:04,  4.31s/it]"
     ]
    },
    {
     "name": "stdout",
     "output_type": "stream",
     "text": [
      "Epoch 84: Train err: 0.11083903807021692, Train loss: 0.028473002538084984 | Validation err: 0.11466399184218398, Validation loss: 0.03166325079898039\n"
     ]
    },
    {
     "name": "stderr",
     "output_type": "stream",
     "text": [
      " 86%|████████▌ | 86/100 [06:11<01:00,  4.33s/it]"
     ]
    },
    {
     "name": "stdout",
     "output_type": "stream",
     "text": [
      "Epoch 85: Train err: 0.11221588586732333, Train loss: 0.028936123102903367 | Validation err: 0.10790835772906696, Validation loss: 0.02860125744094451\n"
     ]
    },
    {
     "name": "stderr",
     "output_type": "stream",
     "text": [
      " 87%|████████▋ | 87/100 [06:15<00:56,  4.33s/it]"
     ]
    },
    {
     "name": "stdout",
     "output_type": "stream",
     "text": [
      "Epoch 86: Train err: 0.10819430575398423, Train loss: 0.027864325121045114 | Validation err: 0.10809155484219571, Validation loss: 0.028480146701137226\n"
     ]
    },
    {
     "name": "stderr",
     "output_type": "stream",
     "text": [
      " 88%|████████▊ | 88/100 [06:20<00:52,  4.35s/it]"
     ]
    },
    {
     "name": "stdout",
     "output_type": "stream",
     "text": [
      "Epoch 87: Train err: 0.11019501498800205, Train loss: 0.028420727103948593 | Validation err: 0.120693859753308, Validation loss: 0.034766118042171\n"
     ]
    },
    {
     "name": "stderr",
     "output_type": "stream",
     "text": [
      " 89%|████████▉ | 89/100 [06:24<00:47,  4.33s/it]"
     ]
    },
    {
     "name": "stdout",
     "output_type": "stream",
     "text": [
      "Epoch 88: Train err: 0.12110081443614677, Train loss: 0.03340524666011333 | Validation err: 0.10767744826124953, Validation loss: 0.030292512848973274\n"
     ]
    },
    {
     "name": "stderr",
     "output_type": "stream",
     "text": [
      " 90%|█████████ | 90/100 [06:28<00:43,  4.33s/it]"
     ]
    },
    {
     "name": "stdout",
     "output_type": "stream",
     "text": [
      "Epoch 89: Train err: 0.11969685846194865, Train loss: 0.03308209173381329 | Validation err: 0.10504118315092437, Validation loss: 0.030494704842567444\n"
     ]
    },
    {
     "name": "stderr",
     "output_type": "stream",
     "text": [
      " 91%|█████████ | 91/100 [06:33<00:39,  4.33s/it]"
     ]
    },
    {
     "name": "stdout",
     "output_type": "stream",
     "text": [
      "Epoch 90: Train err: 0.1116433619531753, Train loss: 0.02997880719602108 | Validation err: 0.10876217403927364, Validation loss: 0.03106438151250283\n"
     ]
    },
    {
     "name": "stderr",
     "output_type": "stream",
     "text": [
      " 92%|█████████▏| 92/100 [06:37<00:34,  4.31s/it]"
     ]
    },
    {
     "name": "stdout",
     "output_type": "stream",
     "text": [
      "Epoch 91: Train err: 0.10538597131497002, Train loss: 0.028012113198637962 | Validation err: 0.1114626818591052, Validation loss: 0.029762984874347847\n"
     ]
    },
    {
     "name": "stderr",
     "output_type": "stream",
     "text": [
      " 93%|█████████▎| 93/100 [06:41<00:29,  4.28s/it]"
     ]
    },
    {
     "name": "stdout",
     "output_type": "stream",
     "text": [
      "Epoch 92: Train err: 0.11219638252135483, Train loss: 0.02901845648884773 | Validation err: 0.14321163967923, Validation loss: 0.03638517732421557\n"
     ]
    },
    {
     "name": "stderr",
     "output_type": "stream",
     "text": [
      " 94%|█████████▍| 94/100 [06:46<00:25,  4.28s/it]"
     ]
    },
    {
     "name": "stdout",
     "output_type": "stream",
     "text": [
      "Epoch 93: Train err: 0.12349927402356327, Train loss: 0.03168110355734825 | Validation err: 0.10790841500680368, Validation loss: 0.0407302708675464\n"
     ]
    },
    {
     "name": "stderr",
     "output_type": "stream",
     "text": [
      " 95%|█████████▌| 95/100 [06:50<00:21,  4.27s/it]"
     ]
    },
    {
     "name": "stdout",
     "output_type": "stream",
     "text": [
      "Epoch 94: Train err: 0.10557831262513583, Train loss: 0.02748700313270092 | Validation err: 0.1253577109213706, Validation loss: 0.03300902619957924\n"
     ]
    },
    {
     "name": "stderr",
     "output_type": "stream",
     "text": [
      " 96%|█████████▌| 96/100 [06:54<00:17,  4.31s/it]"
     ]
    },
    {
     "name": "stdout",
     "output_type": "stream",
     "text": [
      "Epoch 95: Train err: 0.106413144260856, Train loss: 0.02726860724389553 | Validation err: 0.13361718346764734, Validation loss: 0.0374127688507239\n"
     ]
    },
    {
     "name": "stderr",
     "output_type": "stream",
     "text": [
      " 97%|█████████▋| 97/100 [06:58<00:12,  4.31s/it]"
     ]
    },
    {
     "name": "stdout",
     "output_type": "stream",
     "text": [
      "Epoch 96: Train err: 0.1242546872484707, Train loss: 0.03281951181590557 | Validation err: 0.11487703065614442, Validation loss: 0.03342315616707007\n"
     ]
    },
    {
     "name": "stderr",
     "output_type": "stream",
     "text": [
      " 98%|█████████▊| 98/100 [07:03<00:08,  4.27s/it]"
     ]
    },
    {
     "name": "stdout",
     "output_type": "stream",
     "text": [
      "Epoch 97: Train err: 0.11330758197339826, Train loss: 0.030663282498717307 | Validation err: 0.11275184333503425, Validation loss: 0.03146927151829004\n"
     ]
    },
    {
     "name": "stderr",
     "output_type": "stream",
     "text": [
      " 99%|█████████▉| 99/100 [07:07<00:04,  4.29s/it]"
     ]
    },
    {
     "name": "stdout",
     "output_type": "stream",
     "text": [
      "Epoch 98: Train err: 0.10876534603828779, Train loss: 0.028711768314242363 | Validation err: 0.1357660264940233, Validation loss: 0.038394718120495476\n"
     ]
    },
    {
     "name": "stderr",
     "output_type": "stream",
     "text": [
      "100%|██████████| 100/100 [07:11<00:00,  4.32s/it]"
     ]
    },
    {
     "name": "stdout",
     "output_type": "stream",
     "text": [
      "Epoch 99: Train err: 0.12251324969879367, Train loss: 0.032303914278745655 | Validation err: 0.11488216274135464, Validation loss: 0.033236538680891194\n",
      "Finished Training\n",
      "Total time elapsed: 431.83 seconds\n"
     ]
    },
    {
     "name": "stderr",
     "output_type": "stream",
     "text": [
      "\n"
     ]
    },
    {
     "data": {
      "image/png": "[encoded data removed]",
      "text/plain": [
       "<Figure size 432x288 with 1 Axes>"
      ]
     },
     "metadata": {
      "needs_background": "light"
     },
     "output_type": "display_data"
    },
    {
     "data": {
      "image/png": "[encoded data removed]",
      "text/plain": [
       "<Figure size 432x288 with 1 Axes>"
      ]
     },
     "metadata": {
      "needs_background": "light"
     },
     "output_type": "display_data"
    }
   ],
   "source": [
    "'''\n",
    "More epochs\n",
    "'''\n",
    "# net = VAENetSmall(\"ASL_small\", transfer_model=None, transfer_ftrs=1000)\n",
    "net = VanillaVAE(3, 10)\n",
    "net.name = \"autoencoder\"\n",
    "\n",
    "\n",
    "batch = 64\n",
    "lr = 0.1\n",
    "m = 0.9\n",
    "epochs = 100\n",
    "\n",
    "train_network(net, batch_size=batch, lr=lr, momentum=m, num_epochs=epochs, cuda=True)\n",
    "model_path =  OUTPUT_DIR + get_model_name(net.name, batch, lr, m, epochs-1)\n",
    "plot_training_curve(model_path)"
   ]
  },
  {
   "cell_type": "code",
   "execution_count": null,
   "metadata": {},
   "outputs": [],
   "source": [
    "import gc\n",
    "torch.cuda.empty_cache()\n",
    "gc.collect()\n",
    "\n",
    "torch.cuda.empty_cache()"
   ]
  },
  {
   "cell_type": "code",
   "execution_count": 168,
   "metadata": {},
   "outputs": [
    {
     "data": {
      "image/png": "[encoded data removed]",
      "text/plain": [
       "<Figure size 432x288 with 1 Axes>"
      ]
     },
     "metadata": {
      "needs_background": "light"
     },
     "output_type": "display_data"
    },
    {
     "name": "stdout",
     "output_type": "stream",
     "text": [
      "torch.Size([1, 3, 64, 64])\n"
     ]
    },
    {
     "data": {
      "image/png": "[encoded data removed]",
      "text/plain": [
       "<Figure size 432x288 with 1 Axes>"
      ]
     },
     "metadata": {
      "needs_background": "light"
     },
     "output_type": "display_data"
    },
    {
     "name": "stdout",
     "output_type": "stream",
     "text": [
      "tensor([[[0.4887, 0.5218, 0.5448,  ..., 0.5518, 0.5355, 0.5001],\n",
      "         [0.5089, 0.5632, 0.5911,  ..., 0.6194, 0.5945, 0.5369],\n",
      "         [0.5304, 0.5899, 0.6174,  ..., 0.6609, 0.6343, 0.5636],\n",
      "         ...,\n",
      "         [0.4550, 0.4855, 0.4959,  ..., 0.4751, 0.4517, 0.4433],\n",
      "         [0.4369, 0.4624, 0.4734,  ..., 0.4534, 0.4308, 0.4280],\n",
      "         [0.4050, 0.3993, 0.4110,  ..., 0.3947, 0.3800, 0.3974]],\n",
      "\n",
      "        [[0.4171, 0.4624, 0.4983,  ..., 0.5040, 0.4916, 0.4043],\n",
      "         [0.4671, 0.5221, 0.5550,  ..., 0.5938, 0.5601, 0.4879],\n",
      "         [0.4920, 0.5427, 0.5768,  ..., 0.6295, 0.6022, 0.5169],\n",
      "         ...,\n",
      "         [0.4021, 0.4290, 0.4379,  ..., 0.4235, 0.3857, 0.3757],\n",
      "         [0.3801, 0.3820, 0.4010,  ..., 0.3772, 0.3595, 0.3504],\n",
      "         [0.3040, 0.3208, 0.3325,  ..., 0.3194, 0.2960, 0.2951]],\n",
      "\n",
      "        [[0.3527, 0.4039, 0.4340,  ..., 0.4462, 0.4257, 0.3596],\n",
      "         [0.4100, 0.4726, 0.5021,  ..., 0.5465, 0.5053, 0.4259],\n",
      "         [0.4274, 0.4902, 0.5195,  ..., 0.5794, 0.5434, 0.4543],\n",
      "         ...,\n",
      "         [0.3466, 0.3792, 0.3866,  ..., 0.3787, 0.3404, 0.3152],\n",
      "         [0.3186, 0.3315, 0.3453,  ..., 0.3328, 0.3098, 0.2911],\n",
      "         [0.2451, 0.2630, 0.2707,  ..., 0.2645, 0.2395, 0.2303]]])\n"
     ]
    }
   ],
   "source": [
    "train_dl, val_dl, _ = get_data_loaders(batch_size=1)\n",
    "\n",
    "net.eval()\n",
    "net = net.to('cpu')\n",
    "count = 0\n",
    "for data in train_dl:\n",
    "    count += 1\n",
    "    if count < 1:\n",
    "        continue\n",
    "    img, _, _ = data\n",
    "    imshow(img[0])\n",
    "    \n",
    "    out = net(img)\n",
    "    out = out[0].detach()\n",
    "    print(out.shape)\n",
    "    imshow(out[0])\n",
    "    print(out[0])\n",
    "    \n",
    "    break"
   ]
  },
  {
   "cell_type": "code",
   "execution_count": null,
   "metadata": {},
   "outputs": [],
   "source": []
  }
 ],
 "metadata": {
  "kernelspec": {
   "display_name": "Python 3",
   "language": "python",
   "name": "python3"
  },
  "language_info": {
   "codemirror_mode": {
    "name": "ipython",
    "version": 3
   },
   "file_extension": ".py",
   "mimetype": "text/x-python",
   "name": "python",
   "nbconvert_exporter": "python",
   "pygments_lexer": "ipython3",
   "version": "3.9.8"
  },
  "orig_nbformat": 4
 },
 "nbformat": 4,
 "nbformat_minor": 2
}
