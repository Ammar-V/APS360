{
  "cells": [
    {
      "cell_type": "code",
      "execution_count": 1,
      "metadata": {
        "id": "JrA2AidMUUzr"
      },
      "outputs": [
        {
          "name": "stderr",
          "output_type": "stream",
          "text": [
            "c:\\Users\\ammar\\AppData\\Local\\Programs\\Python\\Python39\\lib\\site-packages\\numpy\\_distributor_init.py:30: UserWarning: loaded more than 1 DLL from .libs:\n",
            "c:\\Users\\ammar\\AppData\\Local\\Programs\\Python\\Python39\\lib\\site-packages\\numpy\\.libs\\libopenblas.EL2C6PLE4ZYW3ECEVIV3OXXGRN2NRFM2.gfortran-win_amd64.dll\n",
            "c:\\Users\\ammar\\AppData\\Local\\Programs\\Python\\Python39\\lib\\site-packages\\numpy\\.libs\\libopenblas64__v0.3.21-gcc_10_3_0.dll\n",
            "  warnings.warn(\"loaded more than 1 DLL from .libs:\"\n"
          ]
        }
      ],
      "source": [
        "import numpy as np\n",
        "import time\n",
        "import torch\n",
        "import torch.nn as nn\n",
        "import torch.nn.functional as F\n",
        "import torch.optim as optim\n",
        "import torchvision\n",
        "from torch.utils.data.sampler import SubsetRandomSampler\n",
        "import torchvision.transforms as transforms\n",
        "import matplotlib.pyplot as plt\n",
        "import PIL\n",
        "import urllib\n",
        "from torchvision import datasets, transforms"
      ]
    },
    {
      "cell_type": "code",
      "execution_count": 18,
      "metadata": {
        "colab": {
          "base_uri": "https://localhost:8080/"
        },
        "id": "Fzeq1W_vletN",
        "outputId": "04ab37d2-c87b-4a5f-8015-d630e845cfe2"
      },
      "outputs": [],
      "source": [
        "mnist_data = datasets.MNIST('../data', train=True, download=True, transform=transforms.ToTensor())\n",
        "mnist_data = list(mnist_data)\n",
        "mnist_train = mnist_data[:10000]"
      ]
    },
    {
      "cell_type": "code",
      "execution_count": 4,
      "metadata": {
        "id": "7-oAPtorn9C5"
      },
      "outputs": [],
      "source": [
        "criterion = nn.BCELoss()"
      ]
    },
    {
      "cell_type": "code",
      "execution_count": 5,
      "metadata": {
        "id": "21ntGqdSolH1"
      },
      "outputs": [],
      "source": [
        "img_to_tensor = transforms.ToTensor()"
      ]
    },
    {
      "cell_type": "code",
      "execution_count": 26,
      "metadata": {
        "id": "NArlPo-wI7Xy"
      },
      "outputs": [],
      "source": [
        "class Discriminator(nn.Module):\n",
        "  def __init__(self):\n",
        "    super(Discriminator, self).__init__()\n",
        "    self.model = nn.Sequential(\n",
        "    #nn.Linear(28*28, 300),\n",
        "    #nn.LeakyReLU(0.2),\n",
        "    #nn.Linear(300, 100),\n",
        "    #nn.LeakyReLU(0.2),\n",
        "    #nn.Linear(100, 1),\n",
        "    #nn.Sigmoid())\n",
        "    nn.Conv2d(3, 64, 4, 2, 1), # 64\n",
        "    nn.LeakyReLU(0.2),\n",
        "    nn.Conv2d(64, 128, 4, 2, 1), # 32 \n",
        "    nn.BatchNorm2d(128),\n",
        "    nn.LeakyReLU(0.2),\n",
        "    nn.Conv2d(128, 256, 4, 2 ,1), # 16\n",
        "    nn.BatchNorm2d(256),\n",
        "    nn.LeakyReLU(0.2),\n",
        "    nn.Conv2d(256, 512, 4, 2, 1), # 8\n",
        "    nn.BatchNorm2d(512),\n",
        "    nn.LeakyReLU(0.2),\n",
        "    nn.Conv2d(512, 1, 4, 1),\n",
        "    nn.Sigmoid()\n",
        "    )\n",
        "  def forward(self, x):\n",
        "    #x = x.view(x.size(0), -1)\n",
        "    #out = self.model(x)\n",
        "    #return out.view(x.size(0))\n",
        "    return self.model(x)\n",
        "\n",
        "class Generator(nn.Module):\n",
        "  def __init__(self):\n",
        "    super(Generator, self).__init__()\n",
        "    self.model = nn.Sequential(\n",
        "    #nn.Linear(100, 300),\n",
        "    #nn.LeakyReLU(0.2),\n",
        "    #nn.Linear(300, 28*28),\n",
        "    #nn.Sigmoid())\n",
        "    \n",
        "    )\n",
        "  def forward(self, x):\n",
        "    out = self.model(x).view(x.size(0), 1, 28, 28)\n",
        "    return out"
      ]
    },
    {
      "cell_type": "code",
      "execution_count": 19,
      "metadata": {
        "id": "Z7F8hteaSw2T"
      },
      "outputs": [],
      "source": [
        "def train_discriminator(discriminator, generator, images):\n",
        "  # batch_size = img_to_tensor(images).size(0)\n",
        "  batch_size = images.size(0)\n",
        "\n",
        "  noise = torch.randn(batch_size, 100)\n",
        "  fake_images = generator(noise)\n",
        "  inputs = torch.cat([images, fake_images])\n",
        "  labels = torch.cat([torch.zeros(batch_size), # Real\n",
        "  torch.ones(batch_size)]) # Fake\n",
        "  outputs = discriminator(inputs)\n",
        "  loss = criterion(outputs, labels)\n",
        "  return outputs, loss\n"
      ]
    },
    {
      "cell_type": "code",
      "execution_count": 8,
      "metadata": {
        "id": "x79A8lIAS19W"
      },
      "outputs": [],
      "source": [
        "def train_generator(discriminator, generator, images):\n",
        "  batch_size = images.size(0)\n",
        "  noise = torch.randn(batch_size, 100)\n",
        "  fake_images = generator(noise)\n",
        "  outputs = discriminator(fake_images)\n",
        "  # Only looks at fake outputs\n",
        "  # gets rewarded if we fool the discriminator!\n",
        "  labels = torch.zeros(batch_size)\n",
        "  loss = criterion(outputs, labels)\n",
        "  return fake_images, loss\n"
      ]
    },
    {
      "cell_type": "code",
      "execution_count": 29,
      "metadata": {
        "id": "1rOogssIWpIL"
      },
      "outputs": [],
      "source": [
        "def train(discriminator, generator, lr, epochs, train_loader  ):\n",
        "  torch.manual_seed(42)\n",
        "  optimizerDisc = optim.Adam(discriminator.parameters(), lr = lr)\n",
        "  optimizerGen = optim.Adam(generator.parameters(), lr = lr)\n",
        "\n",
        "  Gtrain_acc, Gval_acc, iters, Gtrain_loss, Gval_loss = [], [], [], [], []\n",
        "  Dtrain_acc, Dval_acc, iters, Dtrain_loss, Dval_loss = [], [], [], [], []\n",
        "  genImgs = []\n",
        "\n",
        "  start_time = time.time()\n",
        "  for epoch in range(epochs):\n",
        "    Gtotal_train_loss = 0.0\n",
        "    Dtotal_train_loss = 0.0\n",
        "    iteration = 0\n",
        "    for imgs, __ in train_loader:\n",
        "      outputD, lossD = train_discriminator(discriminator, generator, imgs)\n",
        "      lossD.backward()\n",
        "      Dtotal_train_loss += lossD.item()\n",
        "      optimizerDisc.step()\n",
        "      optimizerDisc.zero_grad()\n",
        "\n",
        "      outputG, lossG = train_generator(discriminator, generator, imgs)\n",
        "      lossG.backward()\n",
        "      Gtotal_train_loss += lossG.item()\n",
        "      optimizerGen.step()\n",
        "      optimizerGen.zero_grad()\n",
        "      iteration += 1\n",
        "\n",
        "    Gtrain_loss.append(float(Gtotal_train_loss) / (iteration + 1))\n",
        "    #Gval_loss.append(evaluate(model, valid_loader, criterion))\n",
        "    Dtrain_loss.append(float(Dtotal_train_loss) / (iteration + 1))\n",
        "\n",
        "    print((\"Epoch {}: Gen Train loss: {}, Disc Train loss: {}\").format(\n",
        "               # + \"Gen Validation loss: {}, Disc Validation loss: {}\").format(\n",
        "                   epoch + 1,\n",
        "                   #train_acc[epoch],\n",
        "                   Gtrain_loss[epoch],\n",
        "                   Dtrain_loss[epoch]))\n",
        "                   #val_acc[epoch],\n",
        "                   #val_loss[epoch]))\n",
        "    # Save the current model (checkpoint) to a file\n",
        "    #model_path = get_model_name(model.name, learning_rate, epoch)\n",
        "    #torch.save(model.state_dict(), model_path)\n",
        "  print('Finished Training')\n",
        "  end_time = time.time()\n",
        "  elapsed_time = end_time - start_time\n",
        "  print(\"Total time elapsed: {:.2f} seconds\".format(elapsed_time))\n",
        "  #print((\"Final Train Accuracy: {}, |\"+\n",
        "  #             \"Final Validation Accuracy: {}\").format(\n",
        "  #                 train_acc[-1],\n",
        "  #                 val_acc[-1],))\n",
        "#return train_acc, train_loss, val_acc, val_loss\n",
        "  noise = torch.randn(64, 100)\n",
        "  fake_imgs = generator(noise).detach()\n",
        "  genImgs.append(fake_imgs)\n",
        "  return Gtrain_loss, Dtrain_loss, genImgs\n",
        "\n",
        "def plot(Gtrain_loss, Dtrain_loss):\n",
        "    # Plotting\n",
        "    plt.title(\"Gen Train Loss vs Disc Train Loss\")\n",
        "    n = len(Gtrain_loss) # number of epochs\n",
        "    plt.plot(range(1,n+1), Gtrain_loss, label=\"Gen Train\")\n",
        "    plt.plot(range(1,n+1), Dtrain_loss, label=\"Disc Train\")\n",
        "    plt.xlabel(\"Epoch\")\n",
        "    plt.ylabel(\"Loss\")\n",
        "    plt.legend(loc='best')\n",
        "    plt.show()\n",
        "\n",
        "def check(dataLoader, genImgs):\n",
        "  real = next(iter(dataLoader))\n",
        "\n",
        "  plt.figure(figsize = (15,15))\n",
        "  plt.subplot(1,2,1)\n",
        "  plt.axis(\"off\")\n",
        "  plt.title(\"Real\")\n",
        "  plt.imshow(np.transpose(real[0], (1,2,0)))\n",
        "\n",
        "  plt.subplot(1,2,2)\n",
        "  plt.axis(\"off\")\n",
        "  plt.title(\"Fake\")\n",
        "  plt.imshow(np.transpose(genImgs[0], (1,2,0)))\n",
        "  plt.show()"
      ]
    },
    {
      "cell_type": "code",
      "execution_count": 45,
      "metadata": {
        "id": "ifcgk89_SJ6H"
      },
      "outputs": [],
      "source": [
        "generator = Generator()\n",
        "discriminator = Discriminator()"
      ]
    },
    {
      "cell_type": "code",
      "execution_count": 62,
      "metadata": {},
      "outputs": [],
      "source": [
        "discriminator = Discriminator()"
      ]
    },
    {
      "cell_type": "code",
      "execution_count": 67,
      "metadata": {
        "colab": {
          "base_uri": "https://localhost:8080/",
          "height": 277
        },
        "id": "arwghmyVoA8g",
        "outputId": "9450b27b-b2a5-4a6d-d52b-66ed81c44e44"
      },
      "outputs": [
        {
          "name": "stdout",
          "output_type": "stream",
          "text": [
            "Epoch 1: Gen Train loss: 0.4028701851144433, Disc Train loss: 0.6144884865731001\n"
          ]
        },
        {
          "ename": "KeyboardInterrupt",
          "evalue": "",
          "output_type": "error",
          "traceback": [
            "\u001b[1;31m---------------------------------------------------------------------------\u001b[0m",
            "\u001b[1;31mKeyboardInterrupt\u001b[0m                         Traceback (most recent call last)",
            "\u001b[1;32mc:\\Users\\ammar\\Documents\\Year2\\aps360\\APS360\\GAN.ipynb Cell 11\u001b[0m in \u001b[0;36m<cell line: 1>\u001b[1;34m()\u001b[0m\n\u001b[1;32m----> <a href='vscode-notebook-cell:/c%3A/Users/ammar/Documents/Year2/aps360/APS360/GAN.ipynb#X12sZmlsZQ%3D%3D?line=0'>1</a>\u001b[0m Gtrain_loss, Dtrain_loss, genImgs \u001b[39m=\u001b[39m train(discriminator, generator, \u001b[39m0.01\u001b[39;49m, \u001b[39m5000\u001b[39;49m, torch\u001b[39m.\u001b[39;49mutils\u001b[39m.\u001b[39;49mdata\u001b[39m.\u001b[39;49mDataLoader(mnist_train, batch_size\u001b[39m=\u001b[39;49m\u001b[39m128\u001b[39;49m))\n",
            "\u001b[1;32mc:\\Users\\ammar\\Documents\\Year2\\aps360\\APS360\\GAN.ipynb Cell 11\u001b[0m in \u001b[0;36mtrain\u001b[1;34m(discriminator, generator, lr, epochs, train_loader)\u001b[0m\n\u001b[0;32m     <a href='vscode-notebook-cell:/c%3A/Users/ammar/Documents/Year2/aps360/APS360/GAN.ipynb#X12sZmlsZQ%3D%3D?line=19'>20</a>\u001b[0m optimizerDisc\u001b[39m.\u001b[39mzero_grad()\n\u001b[0;32m     <a href='vscode-notebook-cell:/c%3A/Users/ammar/Documents/Year2/aps360/APS360/GAN.ipynb#X12sZmlsZQ%3D%3D?line=21'>22</a>\u001b[0m outputG, lossG \u001b[39m=\u001b[39m train_generator(discriminator, generator, imgs)\n\u001b[1;32m---> <a href='vscode-notebook-cell:/c%3A/Users/ammar/Documents/Year2/aps360/APS360/GAN.ipynb#X12sZmlsZQ%3D%3D?line=22'>23</a>\u001b[0m lossG\u001b[39m.\u001b[39;49mbackward()\n\u001b[0;32m     <a href='vscode-notebook-cell:/c%3A/Users/ammar/Documents/Year2/aps360/APS360/GAN.ipynb#X12sZmlsZQ%3D%3D?line=23'>24</a>\u001b[0m Gtotal_train_loss \u001b[39m+\u001b[39m\u001b[39m=\u001b[39m lossG\u001b[39m.\u001b[39mitem()\n\u001b[0;32m     <a href='vscode-notebook-cell:/c%3A/Users/ammar/Documents/Year2/aps360/APS360/GAN.ipynb#X12sZmlsZQ%3D%3D?line=24'>25</a>\u001b[0m optimizerGen\u001b[39m.\u001b[39mstep()\n",
            "File \u001b[1;32mc:\\Users\\ammar\\AppData\\Local\\Programs\\Python\\Python39\\lib\\site-packages\\torch\\_tensor.py:363\u001b[0m, in \u001b[0;36mTensor.backward\u001b[1;34m(self, gradient, retain_graph, create_graph, inputs)\u001b[0m\n\u001b[0;32m    354\u001b[0m \u001b[39mif\u001b[39;00m has_torch_function_unary(\u001b[39mself\u001b[39m):\n\u001b[0;32m    355\u001b[0m     \u001b[39mreturn\u001b[39;00m handle_torch_function(\n\u001b[0;32m    356\u001b[0m         Tensor\u001b[39m.\u001b[39mbackward,\n\u001b[0;32m    357\u001b[0m         (\u001b[39mself\u001b[39m,),\n\u001b[1;32m   (...)\u001b[0m\n\u001b[0;32m    361\u001b[0m         create_graph\u001b[39m=\u001b[39mcreate_graph,\n\u001b[0;32m    362\u001b[0m         inputs\u001b[39m=\u001b[39minputs)\n\u001b[1;32m--> 363\u001b[0m torch\u001b[39m.\u001b[39;49mautograd\u001b[39m.\u001b[39;49mbackward(\u001b[39mself\u001b[39;49m, gradient, retain_graph, create_graph, inputs\u001b[39m=\u001b[39;49minputs)\n",
            "File \u001b[1;32mc:\\Users\\ammar\\AppData\\Local\\Programs\\Python\\Python39\\lib\\site-packages\\torch\\autograd\\__init__.py:173\u001b[0m, in \u001b[0;36mbackward\u001b[1;34m(tensors, grad_tensors, retain_graph, create_graph, grad_variables, inputs)\u001b[0m\n\u001b[0;32m    168\u001b[0m     retain_graph \u001b[39m=\u001b[39m create_graph\n\u001b[0;32m    170\u001b[0m \u001b[39m# The reason we repeat same the comment below is that\u001b[39;00m\n\u001b[0;32m    171\u001b[0m \u001b[39m# some Python versions print out the first line of a multi-line function\u001b[39;00m\n\u001b[0;32m    172\u001b[0m \u001b[39m# calls in the traceback and some print out the last line\u001b[39;00m\n\u001b[1;32m--> 173\u001b[0m Variable\u001b[39m.\u001b[39;49m_execution_engine\u001b[39m.\u001b[39;49mrun_backward(  \u001b[39m# Calls into the C++ engine to run the backward pass\u001b[39;49;00m\n\u001b[0;32m    174\u001b[0m     tensors, grad_tensors_, retain_graph, create_graph, inputs,\n\u001b[0;32m    175\u001b[0m     allow_unreachable\u001b[39m=\u001b[39;49m\u001b[39mTrue\u001b[39;49;00m, accumulate_grad\u001b[39m=\u001b[39;49m\u001b[39mTrue\u001b[39;49;00m)\n",
            "\u001b[1;31mKeyboardInterrupt\u001b[0m: "
          ]
        }
      ],
      "source": [
        "Gtrain_loss, Dtrain_loss, genImgs = train(discriminator, generator, 0.01, 5000, torch.utils.data.DataLoader(mnist_train, batch_size=128))"
      ]
    },
    {
      "cell_type": "code",
      "execution_count": 66,
      "metadata": {},
      "outputs": [
        {
          "data": {
            "image/png": "[encoded data removed]",
            "text/plain": [
              "<Figure size 432x288 with 1 Axes>"
            ]
          },
          "metadata": {
            "needs_background": "light"
          },
          "output_type": "display_data"
        }
      ],
      "source": [
        "import matplotlib.pyplot as plt\n",
        "\n",
        "import torchvision\n",
        "\n",
        "\n",
        "def imshow(inp, title=None):\n",
        "    \"\"\"Display image for Tensor.\"\"\"\n",
        "    inp = inp.numpy().transpose((1, 2, 0))\n",
        "    mean = np.array([0.5, 0.5, 0.5])\n",
        "    std = np.array([0.5, 0.5, 0.5])\n",
        "    inp = std * inp + mean\n",
        "    inp = np.clip(inp, 0, 1)\n",
        "    plt.imshow(inp)\n",
        "    if title is not None:\n",
        "        plt.title(title)\n",
        "    plt.pause(0.001)  # pause a bit so that plots are updated\n",
        "\n",
        "imshow(genImgs[0][0])"
      ]
    },
    {
      "cell_type": "code",
      "execution_count": null,
      "metadata": {},
      "outputs": [],
      "source": []
    }
  ],
  "metadata": {
    "colab": {
      "provenance": []
    },
    "kernelspec": {
      "display_name": "Python 3",
      "name": "python3"
    },
    "language_info": {
      "codemirror_mode": {
        "name": "ipython",
        "version": 3
      },
      "file_extension": ".py",
      "mimetype": "text/x-python",
      "name": "python",
      "nbconvert_exporter": "python",
      "pygments_lexer": "ipython3",
      "version": "3.9.8"
    }
  },
  "nbformat": 4,
  "nbformat_minor": 0
}
