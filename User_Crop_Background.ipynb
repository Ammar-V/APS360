{
  "cells": [
    {
      "cell_type": "code",
      "execution_count": 2,
      "metadata": {
        "id": "ROslcMza0jTR"
      },
      "outputs": [],
      "source": [
        "import cv2\n",
        "import numpy as np\n",
        "import os"
      ]
    },
    {
      "cell_type": "code",
      "execution_count": 3,
      "metadata": {
        "colab": {
          "base_uri": "https://localhost:8080/"
        },
        "id": "ZutDhWxi08SO",
        "outputId": "aa0bccc8-7968-4f69-9992-d27eb36175e8"
      },
      "outputs": [
        {
          "name": "stdout",
          "output_type": "stream",
          "text": [
            "Drive already mounted at /content/drive; to attempt to forcibly remount, call drive.mount(\"/content/drive\", force_remount=True).\n"
          ]
        }
      ],
      "source": [
        "from google.colab import drive\n",
        "drive.mount('/content/drive')"
      ]
    },
    {
      "cell_type": "code",
      "execution_count": 41,
      "metadata": {
        "id": "RgyMJkujDUq-"
      },
      "outputs": [],
      "source": [
        "# Save file paths so we can access the user images\n",
        "input_path = '/content/drive/MyDrive/Data_Preprocessing/Input'\n",
        "output_path = '/content/drive/MyDrive/Data_Preprocessing/Output'"
      ]
    },
    {
      "cell_type": "code",
      "execution_count": 42,
      "metadata": {
        "id": "ru8P--xF0322"
      },
      "outputs": [],
      "source": [
        "img_files = os.listdir(input_path)"
      ]
    },
    {
      "cell_type": "code",
      "execution_count": 7,
      "metadata": {
        "colab": {
          "base_uri": "https://localhost:8080/"
        },
        "id": "0O-1dqPX1UsP",
        "outputId": "55dcb06d-6bc7-4480-b8ce-826663628b50"
      },
      "outputs": [
        {
          "name": "stdout",
          "output_type": "stream",
          "text": [
            "Requirement already satisfied: ultralytics in /usr/local/lib/python3.10/dist-packages (8.0.145)\n",
            "Requirement already satisfied: matplotlib>=3.2.2 in /usr/local/lib/python3.10/dist-packages (from ultralytics) (3.7.1)\n",
            "Requirement already satisfied: opencv-python>=4.6.0 in /usr/local/lib/python3.10/dist-packages (from ultralytics) (4.7.0.72)\n",
            "Requirement already satisfied: pillow>=7.1.2 in /usr/local/lib/python3.10/dist-packages (from ultralytics) (9.4.0)\n",
            "Requirement already satisfied: pyyaml>=5.3.1 in /usr/local/lib/python3.10/dist-packages (from ultralytics) (6.0.1)\n",
            "Requirement already satisfied: requests>=2.23.0 in /usr/local/lib/python3.10/dist-packages (from ultralytics) (2.27.1)\n",
            "Requirement already satisfied: scipy>=1.4.1 in /usr/local/lib/python3.10/dist-packages (from ultralytics) (1.10.1)\n",
            "Requirement already satisfied: torch>=1.7.0 in /usr/local/lib/python3.10/dist-packages (from ultralytics) (2.0.1+cu118)\n",
            "Requirement already satisfied: torchvision>=0.8.1 in /usr/local/lib/python3.10/dist-packages (from ultralytics) (0.15.2+cu118)\n",
            "Requirement already satisfied: tqdm>=4.64.0 in /usr/local/lib/python3.10/dist-packages (from ultralytics) (4.65.0)\n",
            "Requirement already satisfied: pandas>=1.1.4 in /usr/local/lib/python3.10/dist-packages (from ultralytics) (1.5.3)\n",
            "Requirement already satisfied: seaborn>=0.11.0 in /usr/local/lib/python3.10/dist-packages (from ultralytics) (0.12.2)\n",
            "Requirement already satisfied: psutil in /usr/local/lib/python3.10/dist-packages (from ultralytics) (5.9.5)\n",
            "Requirement already satisfied: py-cpuinfo in /usr/local/lib/python3.10/dist-packages (from ultralytics) (9.0.0)\n",
            "Requirement already satisfied: contourpy>=1.0.1 in /usr/local/lib/python3.10/dist-packages (from matplotlib>=3.2.2->ultralytics) (1.1.0)\n",
            "Requirement already satisfied: cycler>=0.10 in /usr/local/lib/python3.10/dist-packages (from matplotlib>=3.2.2->ultralytics) (0.11.0)\n",
            "Requirement already satisfied: fonttools>=4.22.0 in /usr/local/lib/python3.10/dist-packages (from matplotlib>=3.2.2->ultralytics) (4.41.1)\n",
            "Requirement already satisfied: kiwisolver>=1.0.1 in /usr/local/lib/python3.10/dist-packages (from matplotlib>=3.2.2->ultralytics) (1.4.4)\n",
            "Requirement already satisfied: numpy>=1.20 in /usr/local/lib/python3.10/dist-packages (from matplotlib>=3.2.2->ultralytics) (1.22.4)\n",
            "Requirement already satisfied: packaging>=20.0 in /usr/local/lib/python3.10/dist-packages (from matplotlib>=3.2.2->ultralytics) (23.1)\n",
            "Requirement already satisfied: pyparsing>=2.3.1 in /usr/local/lib/python3.10/dist-packages (from matplotlib>=3.2.2->ultralytics) (3.1.0)\n",
            "Requirement already satisfied: python-dateutil>=2.7 in /usr/local/lib/python3.10/dist-packages (from matplotlib>=3.2.2->ultralytics) (2.8.2)\n",
            "Requirement already satisfied: pytz>=2020.1 in /usr/local/lib/python3.10/dist-packages (from pandas>=1.1.4->ultralytics) (2022.7.1)\n",
            "Requirement already satisfied: urllib3<1.27,>=1.21.1 in /usr/local/lib/python3.10/dist-packages (from requests>=2.23.0->ultralytics) (1.26.16)\n",
            "Requirement already satisfied: certifi>=2017.4.17 in /usr/local/lib/python3.10/dist-packages (from requests>=2.23.0->ultralytics) (2023.7.22)\n",
            "Requirement already satisfied: charset-normalizer~=2.0.0 in /usr/local/lib/python3.10/dist-packages (from requests>=2.23.0->ultralytics) (2.0.12)\n",
            "Requirement already satisfied: idna<4,>=2.5 in /usr/local/lib/python3.10/dist-packages (from requests>=2.23.0->ultralytics) (3.4)\n",
            "Requirement already satisfied: filelock in /usr/local/lib/python3.10/dist-packages (from torch>=1.7.0->ultralytics) (3.12.2)\n",
            "Requirement already satisfied: typing-extensions in /usr/local/lib/python3.10/dist-packages (from torch>=1.7.0->ultralytics) (4.7.1)\n",
            "Requirement already satisfied: sympy in /usr/local/lib/python3.10/dist-packages (from torch>=1.7.0->ultralytics) (1.11.1)\n",
            "Requirement already satisfied: networkx in /usr/local/lib/python3.10/dist-packages (from torch>=1.7.0->ultralytics) (3.1)\n",
            "Requirement already satisfied: jinja2 in /usr/local/lib/python3.10/dist-packages (from torch>=1.7.0->ultralytics) (3.1.2)\n",
            "Requirement already satisfied: triton==2.0.0 in /usr/local/lib/python3.10/dist-packages (from torch>=1.7.0->ultralytics) (2.0.0)\n",
            "Requirement already satisfied: cmake in /usr/local/lib/python3.10/dist-packages (from triton==2.0.0->torch>=1.7.0->ultralytics) (3.25.2)\n",
            "Requirement already satisfied: lit in /usr/local/lib/python3.10/dist-packages (from triton==2.0.0->torch>=1.7.0->ultralytics) (16.0.6)\n",
            "Requirement already satisfied: six>=1.5 in /usr/local/lib/python3.10/dist-packages (from python-dateutil>=2.7->matplotlib>=3.2.2->ultralytics) (1.16.0)\n",
            "Requirement already satisfied: MarkupSafe>=2.0 in /usr/local/lib/python3.10/dist-packages (from jinja2->torch>=1.7.0->ultralytics) (2.1.3)\n",
            "Requirement already satisfied: mpmath>=0.19 in /usr/local/lib/python3.10/dist-packages (from sympy->torch>=1.7.0->ultralytics) (1.3.0)\n"
          ]
        }
      ],
      "source": [
        "!pip install ultralytics"
      ]
    },
    {
      "cell_type": "code",
      "execution_count": 8,
      "metadata": {
        "id": "xnLuumH_1VK8"
      },
      "outputs": [],
      "source": [
        "from ultralytics import YOLO\n",
        "from PIL import Image"
      ]
    },
    {
      "cell_type": "code",
      "execution_count": 9,
      "metadata": {
        "id": "xeCFeeU31W-1"
      },
      "outputs": [],
      "source": [
        "model = YOLO(\"yolov8m.pt\")"
      ]
    },
    {
      "cell_type": "code",
      "execution_count": 43,
      "metadata": {
        "colab": {
          "base_uri": "https://localhost:8080/"
        },
        "id": "hYoxtwiN1Y-r",
        "outputId": "d9202993-c709-41d2-87c7-fc574d960f54"
      },
      "outputs": [
        {
          "name": "stderr",
          "output_type": "stream",
          "text": [
            "\n",
            "image 1/1 /content/drive/MyDrive/Data_Preprocessing/Input/Copy of frame_1775.jpg: 384x640 1 bird, 1546.6ms\n",
            "Speed: 4.6ms preprocess, 1546.6ms inference, 2.4ms postprocess per image at shape (1, 3, 384, 640)\n"
          ]
        }
      ],
      "source": [
        "full_cords_list = []\n",
        "\n",
        "# Crop the input image into an isolated photo of a\n",
        "for input_file in img_files:\n",
        "  input_file_path = os.path.join(input_path, input_file)\n",
        "  img = Image.open(input_file_path)\n",
        "  results = model.predict(input_file_path)\n",
        "  result = results[0]\n",
        "\n",
        "  cords_list = []\n",
        "  box_x_dim = img.size[0]\n",
        "  box_y_dim = img.size[1]\n",
        "  zoom_out_dim = 25\n",
        "\n",
        "  for box in result.boxes:\n",
        "      cords = box.xyxy.tolist()[0]\n",
        "      cords = [round(x) for x in cords]\n",
        "      cords = [max(0, cords[0] - zoom_out_dim), max(0, cords[1] - zoom_out_dim), min(box_x_dim, cords[2] + zoom_out_dim), min(box_y_dim, cords[3] + zoom_out_dim)]\n",
        "      cords_list.append(cords)\n",
        "\n",
        "  full_cords_list.append(cords_list)\n"
      ]
    },
    {
      "cell_type": "code",
      "execution_count": 44,
      "metadata": {
        "id": "h6B6ierHAkFE"
      },
      "outputs": [],
      "source": [
        "from google.colab.patches import cv2_imshow\n",
        "\n",
        "# Write new cropped images into output file so it can be animated\n",
        "i = 0\n",
        "for image in img_files:\n",
        "  test_image = cv2.imread(os.path.join(input_path,image))\n",
        "  cord = full_cords_list[i]\n",
        "  for item in cord:\n",
        "    image = test_image[item[1]:item[3], item[0]:item[2]]\n",
        "  out_filename = f'frame_{i:04d}.jpg'\n",
        "  out_path = os.path.join(output_path, out_filename)\n",
        "  cv2.imwrite(out_path, image)\n",
        "  i += 1"
      ]
    },
    {
      "cell_type": "code",
      "execution_count": 45,
      "metadata": {
        "colab": {
          "base_uri": "https://localhost:8080/"
        },
        "id": "O7cFzOHND50C",
        "outputId": "f092f1ae-0d75-46d9-9c01-b12793c4a789"
      },
      "outputs": [
        {
          "data": {
            "text/plain": [
              "True"
            ]
          },
          "execution_count": 45,
          "metadata": {},
          "output_type": "execute_result"
        }
      ],
      "source": [
        "# Create a clean background with no bird in it\n",
        "input_file_path = os.path.join(input_path, img_files[0])\n",
        "img = cv2.imread(input_file_path)\n",
        "\n",
        "# Get border of the box which the bird is in\n",
        "minX = full_cords_list[0][0][0]\n",
        "minY = full_cords_list[0][0][1]\n",
        "maxX = full_cords_list[0][0][2]\n",
        "maxY = full_cords_list[0][0][3]\n",
        "\n",
        "# Take the average pixel values of the surrounding pixels to update the missing\n",
        "# pixel from the box with the bird\n",
        "for x in range(maxX - minX):\n",
        "  for y in range(maxY - minY):\n",
        "    avgColour = np.zeros((3,))\n",
        "    colourOne = img[minY + y, minX + x - 1]\n",
        "    colourTwo = img[minY + y - 1, minX + x - 1]\n",
        "    colourThree = img[minY + y - 1, minX + x]\n",
        "    avgColour = (colourOne.astype(np.float32) + colourTwo.astype(np.float32) + colourThree.astype(np.float32)) / 3.0\n",
        "\n",
        "    avgColour[0] = max(avgColour[0], 0)\n",
        "    avgColour[1] = max(avgColour[1], 0)\n",
        "    avgColour[2] = max(avgColour[2], 0)\n",
        "\n",
        "    avgColour[0] = min(avgColour[0], 255)\n",
        "    avgColour[1] = min(avgColour[1], 255)\n",
        "    avgColour[2] = min(avgColour[2], 255)\n",
        "    img[minY + y, minX + x] = avgColour\n",
        "\n",
        "background = img\n",
        "\n",
        "out_filename = f'background.jpg'\n",
        "out_path = os.path.join(output_path, out_filename)\n",
        "cv2.imwrite(out_path, img)"
      ]
    },
    {
      "cell_type": "code",
      "execution_count": null,
      "metadata": {},
      "outputs": [],
      "source": [
        "# Save animation as seperate frames\n",
        "animation_path = '/content/drive/MyDrive/Data_Preprocessing/Animation'\n",
        "animation_frames_path = '/content/drive/MyDrive/Data_Preprocessing/AnimationFrames'\n",
        "animation_files = os.listdir(animation_path)\n",
        "\n",
        "for animation_file in animation_files:\n",
        "  animation_file_path = os.path.join(animation_path, animation_file)\n",
        "  video = cv2.VideoCapture(animation_file_path)\n",
        "  frame_count = 0\n",
        "  while video.isOpened():\n",
        "      ret, frame = video.read()\n",
        "      if not ret:\n",
        "          break\n",
        "\n",
        "      # Save the frame as an image file\n",
        "      frame_filename = f'frame_{frame_count:04d}.jpg'\n",
        "      frame_path = os.path.join(animation_frames_path, frame_filename)\n",
        "      cv2.imwrite(frame_path, frame)\n",
        "\n",
        "      frame_count += 1\n",
        "  video.release()"
      ]
    },
    {
      "cell_type": "code",
      "execution_count": null,
      "metadata": {},
      "outputs": [],
      "source": [
        "# Paste animation frames on top of background to simulate flying\n",
        "animation_frames = os.listdir(animation_frames_path)\n",
        "animation = []\n",
        "x = 0\n",
        "y = 0\n",
        "i = 0\n",
        "\n",
        "for animation_frame in animation_frames:\n",
        "  input_file_path = os.path.join(animation_frames_path, animation_frame)\n",
        "  img = cv2.imread(input_file_path)\n",
        "  img = cv2.resize(img, (maxX - minX, maxY - minY))\n",
        "  temp = background.copy()\n",
        "  temp[minY + y : maxY + y, minX + x : maxX + x] = img\n",
        "  \n",
        "  if maxX + x + speedX < box_x_dim:\n",
        "    #x += speedX\n",
        "    x += 2\n",
        "  if minY - y - speedY < box_y_dim:\n",
        "    #y += speedY\n",
        "    if i % 4 == 0:\n",
        "      y -=1\n",
        "  i += 1\n",
        "\n",
        "  animation.append(temp)\n",
        "\n",
        "out = cv2.VideoWriter('FinalOutput.avi', cv2.VideoWriter_fourcc(*'DIVX'), 82, (box_x_dim, box_y_dim))\n",
        "\n",
        "# Save final video\n",
        "for i in range(len(animation)):\n",
        "  out.write(animation[i])\n",
        "out.release()"
      ]
    }
  ],
  "metadata": {
    "colab": {
      "provenance": []
    },
    "kernelspec": {
      "display_name": "Python 3",
      "name": "python3"
    },
    "language_info": {
      "name": "python"
    }
  },
  "nbformat": 4,
  "nbformat_minor": 0
}
